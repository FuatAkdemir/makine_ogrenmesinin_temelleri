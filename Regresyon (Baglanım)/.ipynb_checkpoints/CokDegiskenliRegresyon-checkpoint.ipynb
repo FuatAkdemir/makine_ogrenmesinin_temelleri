{
 "cells": [
  {
   "cell_type": "code",
   "execution_count": 1,
   "metadata": {
    "ExecuteTime": {
     "end_time": "2019-11-07T16:16:25.762089Z",
     "start_time": "2019-11-07T16:16:25.755081Z"
    },
    "slideshow": {
     "slide_type": "skip"
    }
   },
   "outputs": [
    {
     "data": {
      "text/html": [
       "<style>.container { width:100% !important; }</style>"
      ],
      "text/plain": [
       "<IPython.core.display.HTML object>"
      ]
     },
     "metadata": {},
     "output_type": "display_data"
    }
   ],
   "source": [
    "from IPython.core.display import display, HTML\n",
    "display(HTML(\"<style>.container { width:100% !important; }</style>\"))"
   ]
  },
  {
   "cell_type": "code",
   "execution_count": 2,
   "metadata": {
    "ExecuteTime": {
     "end_time": "2019-11-07T16:16:27.355614Z",
     "start_time": "2019-11-07T16:16:25.763093Z"
    },
    "slideshow": {
     "slide_type": "skip"
    }
   },
   "outputs": [],
   "source": [
    "import pandas as pd\n",
    "import seaborn as sns; sns.set(color_codes=True)\n",
    "import numpy as np\n",
    "import matplotlib\n",
    "import matplotlib.pyplot as plt\n",
    "%matplotlib inline"
   ]
  },
  {
   "cell_type": "markdown",
   "metadata": {
    "slideshow": {
     "slide_type": "slide"
    }
   },
   "source": [
    "##     <p style=\"font-size:280%;\">  Çok Değişkenli Regresyon </p>"
   ]
  },
  {
   "cell_type": "markdown",
   "metadata": {
    "ExecuteTime": {
     "end_time": "2019-10-19T10:50:42.171989Z",
     "start_time": "2019-10-19T10:50:42.167976Z"
    },
    "slideshow": {
     "slide_type": "slide"
    }
   },
   "source": [
    "##     <p style=\"font-size:180%;\">  Çok Değişken (Nitelik) </p>"
   ]
  },
  {
   "cell_type": "code",
   "execution_count": 3,
   "metadata": {
    "ExecuteTime": {
     "end_time": "2019-11-07T16:16:27.379167Z",
     "start_time": "2019-11-07T16:16:27.357100Z"
    },
    "slideshow": {
     "slide_type": "slide"
    }
   },
   "outputs": [],
   "source": [
    "eğitim_verisi=pd.read_csv(\"data/train.csv\")"
   ]
  },
  {
   "cell_type": "code",
   "execution_count": 4,
   "metadata": {
    "ExecuteTime": {
     "end_time": "2019-11-07T16:16:27.386687Z",
     "start_time": "2019-11-07T16:16:27.380146Z"
    },
    "slideshow": {
     "slide_type": "fragment"
    }
   },
   "outputs": [],
   "source": [
    "# Konut fiyatları için eğitim seti\n",
    "\n",
    "eğitim_verisi.rename(columns={\"Fireplaces\":\"Şömine_Adedi(x4)\",\"YearBuilt\":\"Yapılma_Tarihi(x3)\",\"GarageArea\":\"Garaj_Boyutu(x2)\",\"LotArea\":\"Konut_Boyutu(x1)\",\"SalePrice\":\"Konut_Fiyat(y)\"},inplace=True)\n",
    "\n",
    "eğitim_verisi=eğitim_verisi[[\"Konut_Boyutu(x1)\",\"Garaj_Boyutu(x2)\",\"Yapılma_Tarihi(x3)\",\"Şömine_Adedi(x4)\" ,\"Konut_Fiyat(y)\"]] "
   ]
  },
  {
   "cell_type": "code",
   "execution_count": 5,
   "metadata": {
    "ExecuteTime": {
     "end_time": "2019-11-07T16:16:27.400199Z",
     "start_time": "2019-11-07T16:16:27.387667Z"
    },
    "scrolled": true,
    "slideshow": {
     "slide_type": "fragment"
    }
   },
   "outputs": [
    {
     "data": {
      "text/html": [
       "<div>\n",
       "<style scoped>\n",
       "    .dataframe tbody tr th:only-of-type {\n",
       "        vertical-align: middle;\n",
       "    }\n",
       "\n",
       "    .dataframe tbody tr th {\n",
       "        vertical-align: top;\n",
       "    }\n",
       "\n",
       "    .dataframe thead th {\n",
       "        text-align: right;\n",
       "    }\n",
       "</style>\n",
       "<table border=\"1\" class=\"dataframe\">\n",
       "  <thead>\n",
       "    <tr style=\"text-align: right;\">\n",
       "      <th></th>\n",
       "      <th>Konut_Boyutu(x1)</th>\n",
       "      <th>Garaj_Boyutu(x2)</th>\n",
       "      <th>Yapılma_Tarihi(x3)</th>\n",
       "      <th>Şömine_Adedi(x4)</th>\n",
       "      <th>Konut_Fiyat(y)</th>\n",
       "    </tr>\n",
       "  </thead>\n",
       "  <tbody>\n",
       "    <tr>\n",
       "      <td>0</td>\n",
       "      <td>8450</td>\n",
       "      <td>548</td>\n",
       "      <td>2003</td>\n",
       "      <td>0</td>\n",
       "      <td>208500</td>\n",
       "    </tr>\n",
       "    <tr>\n",
       "      <td>1</td>\n",
       "      <td>9600</td>\n",
       "      <td>460</td>\n",
       "      <td>1976</td>\n",
       "      <td>1</td>\n",
       "      <td>181500</td>\n",
       "    </tr>\n",
       "  </tbody>\n",
       "</table>\n",
       "</div>"
      ],
      "text/plain": [
       "   Konut_Boyutu(x1)  Garaj_Boyutu(x2)  Yapılma_Tarihi(x3)  Şömine_Adedi(x4)  \\\n",
       "0              8450               548                2003                 0   \n",
       "1              9600               460                1976                 1   \n",
       "\n",
       "   Konut_Fiyat(y)  \n",
       "0          208500  \n",
       "1          181500  "
      ]
     },
     "execution_count": 5,
     "metadata": {},
     "output_type": "execute_result"
    }
   ],
   "source": [
    "eğitim_verisi.head(2)"
   ]
  },
  {
   "cell_type": "markdown",
   "metadata": {
    "slideshow": {
     "slide_type": "slide"
    }
   },
   "source": [
    "### Notasyon\n",
    "\n",
    "\n",
    "\n",
    "**m** : Eğitim verisindeki örnek adedi\n",
    " \n",
    "**x**: Girdi değişkenleri\n",
    " \n",
    "**y**: Çıktı değişkeni\n",
    "\n",
    "**$\\theta$**: Katsayı ,Ağırlık \n",
    "\n",
    "**h**: Hipotez\n",
    "\n",
    "**(x, y)** – eğitim verisi\n",
    "\n",
    " \n",
    "\n"
   ]
  },
  {
   "cell_type": "markdown",
   "metadata": {
    "ExecuteTime": {
     "end_time": "2019-10-19T11:07:41.274365Z",
     "start_time": "2019-10-19T11:07:41.270380Z"
    },
    "slideshow": {
     "slide_type": "slide"
    }
   },
   "source": [
    " <p style=\"font-size:150%;\"> * Yeni notasyonlar :  </p> \n",
    "<p style=\"font-size:150%;\"> $n$ : Nitelik adedi  </p> \n",
    " <p style=\"font-size:150%;\"> $x^i$ : i. eğitim verisi için girdi değişkenleri (nitelikleri)  </p> \n",
    "    <p style=\"font-size:150%;\"> $x_j^i$ : i. eğitim verisi için j. değişkenin değeri </p> "
   ]
  },
  {
   "cell_type": "markdown",
   "metadata": {
    "slideshow": {
     "slide_type": "slide"
    }
   },
   "source": [
    " \n",
    "<p style=\"font-size:200%;\"> Hipotez :  $ h_0(x)=  \\theta_0 + \\theta_1*x $  ->   Artık Değil!    </p> \n",
    " "
   ]
  },
  {
   "cell_type": "markdown",
   "metadata": {
    "ExecuteTime": {
     "end_time": "2019-10-19T11:14:53.301429Z",
     "start_time": "2019-10-19T11:14:53.297450Z"
    },
    "slideshow": {
     "slide_type": "fragment"
    }
   },
   "source": [
    " \n",
    "<p style=\"font-size:200%;\"> Artık  :   $ h_0(x)=  \\theta_0 + \\theta_1*x_1+  \\theta_2*x_2  + \\theta_3*x_3 +...+  \\theta_n*x_n $  </p> \n",
    " "
   ]
  },
  {
   "cell_type": "code",
   "execution_count": 6,
   "metadata": {
    "ExecuteTime": {
     "end_time": "2019-11-07T16:16:27.407718Z",
     "start_time": "2019-11-07T16:16:27.401202Z"
    },
    "slideshow": {
     "slide_type": "slide"
    }
   },
   "outputs": [],
   "source": [
    "y=eğitim_verisi[[\"Konut_Fiyat(y)\"]]"
   ]
  },
  {
   "cell_type": "code",
   "execution_count": 7,
   "metadata": {
    "ExecuteTime": {
     "end_time": "2019-11-07T16:16:27.420754Z",
     "start_time": "2019-11-07T16:16:27.409723Z"
    },
    "slideshow": {
     "slide_type": "fragment"
    }
   },
   "outputs": [
    {
     "data": {
      "text/plain": [
       "['Konut_Boyutu(x1)',\n",
       " 'Garaj_Boyutu(x2)',\n",
       " 'Yapılma_Tarihi(x3)',\n",
       " 'Şömine_Adedi(x4)']"
      ]
     },
     "execution_count": 7,
     "metadata": {},
     "output_type": "execute_result"
    }
   ],
   "source": [
    "nitelik_listesi=eğitim_verisi.columns.tolist();nitelik_listesi.remove(\"Konut_Fiyat(y)\");nitelik_listesi"
   ]
  },
  {
   "cell_type": "code",
   "execution_count": 8,
   "metadata": {
    "ExecuteTime": {
     "end_time": "2019-11-07T16:16:27.432785Z",
     "start_time": "2019-11-07T16:16:27.422258Z"
    },
    "slideshow": {
     "slide_type": "fragment"
    }
   },
   "outputs": [
    {
     "data": {
      "text/html": [
       "<div>\n",
       "<style scoped>\n",
       "    .dataframe tbody tr th:only-of-type {\n",
       "        vertical-align: middle;\n",
       "    }\n",
       "\n",
       "    .dataframe tbody tr th {\n",
       "        vertical-align: top;\n",
       "    }\n",
       "\n",
       "    .dataframe thead th {\n",
       "        text-align: right;\n",
       "    }\n",
       "</style>\n",
       "<table border=\"1\" class=\"dataframe\">\n",
       "  <thead>\n",
       "    <tr style=\"text-align: right;\">\n",
       "      <th></th>\n",
       "      <th>Konut_Boyutu(x1)</th>\n",
       "      <th>Garaj_Boyutu(x2)</th>\n",
       "      <th>Yapılma_Tarihi(x3)</th>\n",
       "      <th>Şömine_Adedi(x4)</th>\n",
       "    </tr>\n",
       "  </thead>\n",
       "  <tbody>\n",
       "    <tr>\n",
       "      <td>0</td>\n",
       "      <td>8450</td>\n",
       "      <td>548</td>\n",
       "      <td>2003</td>\n",
       "      <td>0</td>\n",
       "    </tr>\n",
       "    <tr>\n",
       "      <td>1</td>\n",
       "      <td>9600</td>\n",
       "      <td>460</td>\n",
       "      <td>1976</td>\n",
       "      <td>1</td>\n",
       "    </tr>\n",
       "  </tbody>\n",
       "</table>\n",
       "</div>"
      ],
      "text/plain": [
       "   Konut_Boyutu(x1)  Garaj_Boyutu(x2)  Yapılma_Tarihi(x3)  Şömine_Adedi(x4)\n",
       "0              8450               548                2003                 0\n",
       "1              9600               460                1976                 1"
      ]
     },
     "execution_count": 8,
     "metadata": {},
     "output_type": "execute_result"
    }
   ],
   "source": [
    "x=eğitim_verisi[nitelik_listesi];x.head(2)"
   ]
  },
  {
   "cell_type": "code",
   "execution_count": 9,
   "metadata": {
    "ExecuteTime": {
     "end_time": "2019-11-07T16:16:27.442310Z",
     "start_time": "2019-11-07T16:16:27.433789Z"
    },
    "slideshow": {
     "slide_type": "fragment"
    }
   },
   "outputs": [
    {
     "data": {
      "text/plain": [
       "Konut_Boyutu(x1)      8450\n",
       "Garaj_Boyutu(x2)       548\n",
       "Yapılma_Tarihi(x3)    2003\n",
       "Şömine_Adedi(x4)         0\n",
       "Name: 0, dtype: int64"
      ]
     },
     "execution_count": 9,
     "metadata": {},
     "output_type": "execute_result"
    }
   ],
   "source": [
    "x.loc[0]"
   ]
  },
  {
   "cell_type": "code",
   "execution_count": 10,
   "metadata": {
    "ExecuteTime": {
     "end_time": "2019-11-07T16:16:27.452338Z",
     "start_time": "2019-11-07T16:16:27.443314Z"
    },
    "slideshow": {
     "slide_type": "slide"
    }
   },
   "outputs": [],
   "source": [
    "theta0=50000;theta1=10;theta2=1.2;theta3=0.1;theta4=0.2\n",
    "theta=pd.DataFrame([theta0,theta1,theta2,theta3,theta4],columns=[\"Katsayılar\"])"
   ]
  },
  {
   "cell_type": "code",
   "execution_count": 11,
   "metadata": {
    "ExecuteTime": {
     "end_time": "2019-11-07T16:16:27.463367Z",
     "start_time": "2019-11-07T16:16:27.453842Z"
    },
    "slideshow": {
     "slide_type": "fragment"
    }
   },
   "outputs": [
    {
     "data": {
      "text/html": [
       "<div>\n",
       "<style scoped>\n",
       "    .dataframe tbody tr th:only-of-type {\n",
       "        vertical-align: middle;\n",
       "    }\n",
       "\n",
       "    .dataframe tbody tr th {\n",
       "        vertical-align: top;\n",
       "    }\n",
       "\n",
       "    .dataframe thead th {\n",
       "        text-align: right;\n",
       "    }\n",
       "</style>\n",
       "<table border=\"1\" class=\"dataframe\">\n",
       "  <thead>\n",
       "    <tr style=\"text-align: right;\">\n",
       "      <th></th>\n",
       "      <th>Katsayılar</th>\n",
       "    </tr>\n",
       "  </thead>\n",
       "  <tbody>\n",
       "    <tr>\n",
       "      <td>0</td>\n",
       "      <td>50000.0</td>\n",
       "    </tr>\n",
       "    <tr>\n",
       "      <td>1</td>\n",
       "      <td>10.0</td>\n",
       "    </tr>\n",
       "    <tr>\n",
       "      <td>2</td>\n",
       "      <td>1.2</td>\n",
       "    </tr>\n",
       "    <tr>\n",
       "      <td>3</td>\n",
       "      <td>0.1</td>\n",
       "    </tr>\n",
       "    <tr>\n",
       "      <td>4</td>\n",
       "      <td>0.2</td>\n",
       "    </tr>\n",
       "  </tbody>\n",
       "</table>\n",
       "</div>"
      ],
      "text/plain": [
       "   Katsayılar\n",
       "0     50000.0\n",
       "1        10.0\n",
       "2         1.2\n",
       "3         0.1\n",
       "4         0.2"
      ]
     },
     "execution_count": 11,
     "metadata": {},
     "output_type": "execute_result"
    }
   ],
   "source": [
    "theta"
   ]
  },
  {
   "cell_type": "code",
   "execution_count": 12,
   "metadata": {
    "ExecuteTime": {
     "end_time": "2019-11-07T16:16:27.471889Z",
     "start_time": "2019-11-07T16:16:27.464370Z"
    },
    "slideshow": {
     "slide_type": "slide"
    }
   },
   "outputs": [],
   "source": [
    "x0=[1]*x.shape[0]"
   ]
  },
  {
   "cell_type": "code",
   "execution_count": 13,
   "metadata": {
    "ExecuteTime": {
     "end_time": "2019-11-07T16:16:27.480914Z",
     "start_time": "2019-11-07T16:16:27.472893Z"
    },
    "slideshow": {
     "slide_type": "fragment"
    }
   },
   "outputs": [],
   "source": [
    "x[\"Yanlılık(x0)\"]=x0\n",
    "girdi_listesi=x.columns.tolist();girdi_listesi.remove(\"Yanlılık(x0)\");girdi_listesi.insert(0,\"Yanlılık(x0)\")"
   ]
  },
  {
   "cell_type": "code",
   "execution_count": 14,
   "metadata": {
    "ExecuteTime": {
     "end_time": "2019-11-07T16:16:27.493446Z",
     "start_time": "2019-11-07T16:16:27.481916Z"
    },
    "slideshow": {
     "slide_type": "fragment"
    }
   },
   "outputs": [
    {
     "data": {
      "text/plain": [
       "['Yanlılık(x0)',\n",
       " 'Konut_Boyutu(x1)',\n",
       " 'Garaj_Boyutu(x2)',\n",
       " 'Yapılma_Tarihi(x3)',\n",
       " 'Şömine_Adedi(x4)']"
      ]
     },
     "execution_count": 14,
     "metadata": {},
     "output_type": "execute_result"
    }
   ],
   "source": [
    "girdi_listesi"
   ]
  },
  {
   "cell_type": "code",
   "execution_count": 15,
   "metadata": {
    "ExecuteTime": {
     "end_time": "2019-11-07T16:16:27.503474Z",
     "start_time": "2019-11-07T16:16:27.494450Z"
    },
    "slideshow": {
     "slide_type": "skip"
    }
   },
   "outputs": [],
   "source": [
    "x = x.reindex(columns=girdi_listesi)"
   ]
  },
  {
   "cell_type": "code",
   "execution_count": 16,
   "metadata": {
    "ExecuteTime": {
     "end_time": "2019-11-07T16:16:27.511997Z",
     "start_time": "2019-11-07T16:16:27.504482Z"
    },
    "slideshow": {
     "slide_type": "slide"
    }
   },
   "outputs": [],
   "source": [
    "def girdi(x):\n",
    "    x_new=x.copy()\n",
    "    x0=[1]*x_new.shape[0]\n",
    "    x_new[\"Yanlılık(x0)\"]=x0\n",
    "    girdi_listesi=x_new.columns.tolist()\n",
    "    girdi_listesi.remove(\"Yanlılık(x0)\")\n",
    "    girdi_listesi.insert(0,\"Yanlılık(x0)\")\n",
    "    x_new = x_new.reindex(columns=girdi_listesi)\n",
    "    return x_new"
   ]
  },
  {
   "cell_type": "code",
   "execution_count": 17,
   "metadata": {
    "ExecuteTime": {
     "end_time": "2019-11-07T16:16:27.526535Z",
     "start_time": "2019-11-07T16:16:27.512999Z"
    },
    "scrolled": true,
    "slideshow": {
     "slide_type": "fragment"
    }
   },
   "outputs": [
    {
     "data": {
      "text/html": [
       "<div>\n",
       "<style scoped>\n",
       "    .dataframe tbody tr th:only-of-type {\n",
       "        vertical-align: middle;\n",
       "    }\n",
       "\n",
       "    .dataframe tbody tr th {\n",
       "        vertical-align: top;\n",
       "    }\n",
       "\n",
       "    .dataframe thead th {\n",
       "        text-align: right;\n",
       "    }\n",
       "</style>\n",
       "<table border=\"1\" class=\"dataframe\">\n",
       "  <thead>\n",
       "    <tr style=\"text-align: right;\">\n",
       "      <th></th>\n",
       "      <th>Yanlılık(x0)</th>\n",
       "      <th>Konut_Boyutu(x1)</th>\n",
       "      <th>Garaj_Boyutu(x2)</th>\n",
       "      <th>Yapılma_Tarihi(x3)</th>\n",
       "      <th>Şömine_Adedi(x4)</th>\n",
       "    </tr>\n",
       "  </thead>\n",
       "  <tbody>\n",
       "    <tr>\n",
       "      <td>0</td>\n",
       "      <td>1</td>\n",
       "      <td>8450</td>\n",
       "      <td>548</td>\n",
       "      <td>2003</td>\n",
       "      <td>0</td>\n",
       "    </tr>\n",
       "    <tr>\n",
       "      <td>1</td>\n",
       "      <td>1</td>\n",
       "      <td>9600</td>\n",
       "      <td>460</td>\n",
       "      <td>1976</td>\n",
       "      <td>1</td>\n",
       "    </tr>\n",
       "  </tbody>\n",
       "</table>\n",
       "</div>"
      ],
      "text/plain": [
       "   Yanlılık(x0)  Konut_Boyutu(x1)  Garaj_Boyutu(x2)  Yapılma_Tarihi(x3)  \\\n",
       "0             1              8450               548                2003   \n",
       "1             1              9600               460                1976   \n",
       "\n",
       "   Şömine_Adedi(x4)  \n",
       "0                 0  \n",
       "1                 1  "
      ]
     },
     "execution_count": 17,
     "metadata": {},
     "output_type": "execute_result"
    }
   ],
   "source": [
    "girdi(eğitim_verisi[nitelik_listesi]).head(2)"
   ]
  },
  {
   "cell_type": "code",
   "execution_count": 18,
   "metadata": {
    "ExecuteTime": {
     "end_time": "2019-11-07T16:16:27.533052Z",
     "start_time": "2019-11-07T16:16:27.527538Z"
    },
    "slideshow": {
     "slide_type": "slide"
    }
   },
   "outputs": [],
   "source": [
    "h=pd.DataFrame(np.dot(x,theta),columns=[\"Tahmin(h)\"])"
   ]
  },
  {
   "cell_type": "code",
   "execution_count": 19,
   "metadata": {
    "ExecuteTime": {
     "end_time": "2019-11-07T16:16:27.542076Z",
     "start_time": "2019-11-07T16:16:27.535058Z"
    },
    "slideshow": {
     "slide_type": "fragment"
    }
   },
   "outputs": [],
   "source": [
    "def tahmin(x,theta):\n",
    "    h=pd.DataFrame(np.dot(x,theta),columns=[\"Tahmin(h)\"])\n",
    "    return h"
   ]
  },
  {
   "cell_type": "code",
   "execution_count": 20,
   "metadata": {
    "ExecuteTime": {
     "end_time": "2019-11-07T16:16:27.558644Z",
     "start_time": "2019-11-07T16:16:27.543078Z"
    },
    "slideshow": {
     "slide_type": "fragment"
    }
   },
   "outputs": [
    {
     "data": {
      "text/html": [
       "<div>\n",
       "<style scoped>\n",
       "    .dataframe tbody tr th:only-of-type {\n",
       "        vertical-align: middle;\n",
       "    }\n",
       "\n",
       "    .dataframe tbody tr th {\n",
       "        vertical-align: top;\n",
       "    }\n",
       "\n",
       "    .dataframe thead th {\n",
       "        text-align: right;\n",
       "    }\n",
       "</style>\n",
       "<table border=\"1\" class=\"dataframe\">\n",
       "  <thead>\n",
       "    <tr style=\"text-align: right;\">\n",
       "      <th></th>\n",
       "      <th>Tahmin(h)</th>\n",
       "    </tr>\n",
       "  </thead>\n",
       "  <tbody>\n",
       "    <tr>\n",
       "      <td>0</td>\n",
       "      <td>135357.9</td>\n",
       "    </tr>\n",
       "    <tr>\n",
       "      <td>1</td>\n",
       "      <td>146749.8</td>\n",
       "    </tr>\n",
       "  </tbody>\n",
       "</table>\n",
       "</div>"
      ],
      "text/plain": [
       "   Tahmin(h)\n",
       "0   135357.9\n",
       "1   146749.8"
      ]
     },
     "execution_count": 20,
     "metadata": {},
     "output_type": "execute_result"
    }
   ],
   "source": [
    "tahmin(x,theta).head(2)"
   ]
  },
  {
   "cell_type": "code",
   "execution_count": 21,
   "metadata": {
    "ExecuteTime": {
     "end_time": "2019-11-07T16:16:27.570151Z",
     "start_time": "2019-11-07T16:16:27.560124Z"
    },
    "slideshow": {
     "slide_type": "fragment"
    }
   },
   "outputs": [
    {
     "data": {
      "text/html": [
       "<div>\n",
       "<style scoped>\n",
       "    .dataframe tbody tr th:only-of-type {\n",
       "        vertical-align: middle;\n",
       "    }\n",
       "\n",
       "    .dataframe tbody tr th {\n",
       "        vertical-align: top;\n",
       "    }\n",
       "\n",
       "    .dataframe thead th {\n",
       "        text-align: right;\n",
       "    }\n",
       "</style>\n",
       "<table border=\"1\" class=\"dataframe\">\n",
       "  <thead>\n",
       "    <tr style=\"text-align: right;\">\n",
       "      <th></th>\n",
       "      <th>Konut_Fiyat(y)</th>\n",
       "    </tr>\n",
       "  </thead>\n",
       "  <tbody>\n",
       "    <tr>\n",
       "      <td>0</td>\n",
       "      <td>208500</td>\n",
       "    </tr>\n",
       "    <tr>\n",
       "      <td>1</td>\n",
       "      <td>181500</td>\n",
       "    </tr>\n",
       "  </tbody>\n",
       "</table>\n",
       "</div>"
      ],
      "text/plain": [
       "   Konut_Fiyat(y)\n",
       "0          208500\n",
       "1          181500"
      ]
     },
     "execution_count": 21,
     "metadata": {},
     "output_type": "execute_result"
    }
   ],
   "source": [
    "y.head(2)"
   ]
  },
  {
   "cell_type": "markdown",
   "metadata": {
    "ExecuteTime": {
     "end_time": "2019-10-19T12:17:45.625754Z",
     "start_time": "2019-10-19T12:17:45.621743Z"
    },
    "slideshow": {
     "slide_type": "slide"
    }
   },
   "source": [
    "<br>\n",
    "<p style=\"font-size:150%;\"> $Bedel(J_{\\theta})$:$  \\begin{equation}\\ 1/2m \\sum_{i=1}^m (h_{\\theta}(x^{(i)})-y^{(i)}))^2 \\end{equation}  $ </p> \n",
    "<br>"
   ]
  },
  {
   "cell_type": "code",
   "execution_count": 22,
   "metadata": {
    "ExecuteTime": {
     "end_time": "2019-11-07T16:16:27.591756Z",
     "start_time": "2019-11-07T16:16:27.571153Z"
    },
    "slideshow": {
     "slide_type": "fragment"
    }
   },
   "outputs": [],
   "source": [
    "m=y.shape[0]\n",
    "j=(1/(2*m))*np.sum(np.array(np.square(np.dot(x,theta)-y))) "
   ]
  },
  {
   "cell_type": "code",
   "execution_count": 23,
   "metadata": {
    "ExecuteTime": {
     "end_time": "2019-11-07T16:16:27.598775Z",
     "start_time": "2019-11-07T16:16:27.592760Z"
    },
    "slideshow": {
     "slide_type": "fragment"
    }
   },
   "outputs": [
    {
     "name": "stdout",
     "output_type": "stream",
     "text": [
      "Bedel değeri: 6344618856.149989\n"
     ]
    }
   ],
   "source": [
    "print(\"Bedel değeri:\",j)"
   ]
  },
  {
   "cell_type": "code",
   "execution_count": 24,
   "metadata": {
    "ExecuteTime": {
     "end_time": "2019-11-07T16:16:27.606295Z",
     "start_time": "2019-11-07T16:16:27.599779Z"
    },
    "slideshow": {
     "slide_type": "slide"
    }
   },
   "outputs": [],
   "source": [
    "def bedel(X,y,theta):\n",
    "    \n",
    "    m=y.shape[0]\n",
    "    j=(1/(2*m))*np.sum(np.array(np.square(np.dot(X,theta)-y)))    \n",
    "    \n",
    "    return j\n",
    "\n",
    "\n"
   ]
  },
  {
   "cell_type": "code",
   "execution_count": 25,
   "metadata": {
    "ExecuteTime": {
     "end_time": "2019-11-07T16:16:27.616824Z",
     "start_time": "2019-11-07T16:16:27.607799Z"
    },
    "scrolled": true,
    "slideshow": {
     "slide_type": "fragment"
    }
   },
   "outputs": [
    {
     "name": "stdout",
     "output_type": "stream",
     "text": [
      "Fonksiyon ile Bedel değeri: 6344618856.149989\n"
     ]
    }
   ],
   "source": [
    "print(\"Fonksiyon ile Bedel değeri:\",bedel(x,y,theta))"
   ]
  },
  {
   "cell_type": "markdown",
   "metadata": {
    "slideshow": {
     "slide_type": "slide"
    }
   },
   "source": [
    "<br>\n",
    "<p style=\"font-size:200%;\"> $Artık(r^{(i)})=  \\begin{equation}\\   h_{\\theta}(x^{(i)})-y^{(i)}   \\end{equation}  $ </p> \n",
    "<br>"
   ]
  },
  {
   "cell_type": "code",
   "execution_count": 26,
   "metadata": {
    "ExecuteTime": {
     "end_time": "2019-11-07T16:16:27.627854Z",
     "start_time": "2019-11-07T16:16:27.618327Z"
    },
    "slideshow": {
     "slide_type": "fragment"
    }
   },
   "outputs": [
    {
     "data": {
      "text/html": [
       "<div>\n",
       "<style scoped>\n",
       "    .dataframe tbody tr th:only-of-type {\n",
       "        vertical-align: middle;\n",
       "    }\n",
       "\n",
       "    .dataframe tbody tr th {\n",
       "        vertical-align: top;\n",
       "    }\n",
       "\n",
       "    .dataframe thead th {\n",
       "        text-align: right;\n",
       "    }\n",
       "</style>\n",
       "<table border=\"1\" class=\"dataframe\">\n",
       "  <thead>\n",
       "    <tr style=\"text-align: right;\">\n",
       "      <th></th>\n",
       "      <th>Artık(r)</th>\n",
       "    </tr>\n",
       "  </thead>\n",
       "  <tbody>\n",
       "    <tr>\n",
       "      <td>0</td>\n",
       "      <td>-73142.1</td>\n",
       "    </tr>\n",
       "    <tr>\n",
       "      <td>1</td>\n",
       "      <td>-34750.2</td>\n",
       "    </tr>\n",
       "  </tbody>\n",
       "</table>\n",
       "</div>"
      ],
      "text/plain": [
       "   Artık(r)\n",
       "0  -73142.1\n",
       "1  -34750.2"
      ]
     },
     "execution_count": 26,
     "metadata": {},
     "output_type": "execute_result"
    }
   ],
   "source": [
    "r=pd.DataFrame((np.array(h)-np.array(y)),columns=[\"Artık(r)\"]);r.head(2)\n"
   ]
  },
  {
   "cell_type": "code",
   "execution_count": 27,
   "metadata": {
    "ExecuteTime": {
     "end_time": "2019-11-07T16:16:27.642391Z",
     "start_time": "2019-11-07T16:16:27.628855Z"
    },
    "slideshow": {
     "slide_type": "fragment"
    }
   },
   "outputs": [],
   "source": [
    "def artık(h,y):\n",
    "    r=pd.DataFrame((np.array(h)-np.array(y)),columns=[\"Artık(r)\"])\n",
    "    return r"
   ]
  },
  {
   "cell_type": "code",
   "execution_count": 28,
   "metadata": {
    "ExecuteTime": {
     "end_time": "2019-11-07T16:16:27.652919Z",
     "start_time": "2019-11-07T16:16:27.643896Z"
    },
    "slideshow": {
     "slide_type": "fragment"
    }
   },
   "outputs": [
    {
     "data": {
      "text/html": [
       "<div>\n",
       "<style scoped>\n",
       "    .dataframe tbody tr th:only-of-type {\n",
       "        vertical-align: middle;\n",
       "    }\n",
       "\n",
       "    .dataframe tbody tr th {\n",
       "        vertical-align: top;\n",
       "    }\n",
       "\n",
       "    .dataframe thead th {\n",
       "        text-align: right;\n",
       "    }\n",
       "</style>\n",
       "<table border=\"1\" class=\"dataframe\">\n",
       "  <thead>\n",
       "    <tr style=\"text-align: right;\">\n",
       "      <th></th>\n",
       "      <th>Artık(r)</th>\n",
       "    </tr>\n",
       "  </thead>\n",
       "  <tbody>\n",
       "    <tr>\n",
       "      <td>0</td>\n",
       "      <td>-73142.1</td>\n",
       "    </tr>\n",
       "    <tr>\n",
       "      <td>1</td>\n",
       "      <td>-34750.2</td>\n",
       "    </tr>\n",
       "  </tbody>\n",
       "</table>\n",
       "</div>"
      ],
      "text/plain": [
       "   Artık(r)\n",
       "0  -73142.1\n",
       "1  -34750.2"
      ]
     },
     "execution_count": 28,
     "metadata": {},
     "output_type": "execute_result"
    }
   ],
   "source": [
    "artık(h,y).head(2)"
   ]
  },
  {
   "cell_type": "markdown",
   "metadata": {
    "ExecuteTime": {
     "end_time": "2019-10-19T12:53:22.080529Z",
     "start_time": "2019-10-19T12:53:22.076506Z"
    },
    "slideshow": {
     "slide_type": "slide"
    }
   },
   "source": [
    "<br>\n",
    "<p style=\"font-size:150%;\"> $Dereceli(g)\\ \\ Azalım:$</p>\n",
    "\n",
    "<p style=\"font-size:150%;\"> Tekrarla: {  \\begin{equation}\\     \\theta_j := \\theta_j-a*\\frac{\\partial J(\\theta_0,\\theta_1,...\\theta_n)}{\\partial \\theta_j} \\end{equation} }</p>\n",
    "\n",
    "<p style=\"font-size:150%;\">\n",
    " Anlık olarak her j=0,...,n için hesaplanır.</p>\n",
    "<br>"
   ]
  },
  {
   "cell_type": "markdown",
   "metadata": {
    "ExecuteTime": {
     "end_time": "2019-10-19T13:18:10.985611Z",
     "start_time": "2019-10-19T13:18:10.980597Z"
    },
    "slideshow": {
     "slide_type": "slide"
    }
   },
   "source": [
    "<p style=\"font-size:150%;\">\\begin{equation}\\     \\theta_j := \\theta_j-a*1/m \\sum_{i=1}^m (h_\\theta(x^{(i)})-y^{(i)}))*x^{(i)}  \\end{equation}</p>"
   ]
  },
  {
   "cell_type": "markdown",
   "metadata": {
    "ExecuteTime": {
     "end_time": "2019-10-19T13:21:44.240884Z",
     "start_time": "2019-10-19T13:21:44.236906Z"
    },
    "slideshow": {
     "slide_type": "fragment"
    }
   },
   "source": [
    " <p style=\"font-size:150%;\">$ \\theta_0 \\   için \\ x^{(i)}=1' dir$ </p> "
   ]
  },
  {
   "cell_type": "markdown",
   "metadata": {
    "ExecuteTime": {
     "end_time": "2019-10-19T13:23:18.325682Z",
     "start_time": "2019-10-19T13:23:18.321638Z"
    },
    "slideshow": {
     "slide_type": "slide"
    }
   },
   "source": [
    "<p style=\"font-size:150%;\"> Bu yüzden $\\theta_0$ iken derece alçalma fonksiyonu : </p> "
   ]
  },
  {
   "cell_type": "markdown",
   "metadata": {
    "slideshow": {
     "slide_type": "fragment"
    }
   },
   "source": [
    "<p style=\"font-size:120%;\">\\begin{equation}\\ \\theta_0->     \\theta_0 := \\theta_0-a*1/m \\sum_{i=1}^m (h_\\theta(x^{(i)})-y^{(i)}))  \\end{equation}</p>"
   ]
  },
  {
   "cell_type": "markdown",
   "metadata": {
    "ExecuteTime": {
     "end_time": "2019-10-19T13:26:37.490505Z",
     "start_time": "2019-10-19T13:26:37.485495Z"
    },
    "slideshow": {
     "slide_type": "fragment"
    }
   },
   "source": [
    "<p style=\"font-size:120%;\">\\begin{equation}\\ \\theta_1->     \\theta_1 := \\theta_1-a*1/m \\sum_{i=1}^m (h_\\theta(x^{(i)})-y^{(i)}))*x_1^{(i)}  \\end{equation}</p>"
   ]
  },
  {
   "cell_type": "markdown",
   "metadata": {
    "ExecuteTime": {
     "end_time": "2019-10-19T13:27:23.130820Z",
     "start_time": "2019-10-19T13:27:23.126787Z"
    },
    "slideshow": {
     "slide_type": "fragment"
    }
   },
   "source": [
    "<p style=\"font-size:120%;\">\\begin{equation}\\ \\theta_2->     \\theta_2 := \\theta_2-a*1/m \\sum_{i=1}^m (h_\\theta(x^{(i)})-y^{(i)}))*x_2^{(i)}  \\end{equation}</p>"
   ]
  },
  {
   "cell_type": "markdown",
   "metadata": {
    "ExecuteTime": {
     "end_time": "2019-10-19T13:36:14.544044Z",
     "start_time": "2019-10-19T13:36:14.539032Z"
    },
    "slideshow": {
     "slide_type": "slide"
    }
   },
   "source": [
    "<p style=\"font-size:110%;\">$ Öğrenme Hızı : a$</p> <br>"
   ]
  },
  {
   "cell_type": "code",
   "execution_count": 29,
   "metadata": {
    "ExecuteTime": {
     "end_time": "2019-11-07T16:16:28.855180Z",
     "start_time": "2019-11-07T16:16:28.852706Z"
    },
    "slideshow": {
     "slide_type": "fragment"
    }
   },
   "outputs": [],
   "source": [
    "a=0.1"
   ]
  },
  {
   "cell_type": "code",
   "execution_count": 30,
   "metadata": {
    "ExecuteTime": {
     "end_time": "2019-11-07T16:16:28.868716Z",
     "start_time": "2019-11-07T16:16:28.857186Z"
    },
    "slideshow": {
     "slide_type": "fragment"
    }
   },
   "outputs": [],
   "source": [
    "theta0= theta0 - a*(1/m)*np.sum(np.array(h)-np.array(y))"
   ]
  },
  {
   "cell_type": "code",
   "execution_count": 31,
   "metadata": {
    "ExecuteTime": {
     "end_time": "2019-11-07T16:16:28.880763Z",
     "start_time": "2019-11-07T16:16:28.869719Z"
    },
    "scrolled": true,
    "slideshow": {
     "slide_type": "fragment"
    }
   },
   "outputs": [
    {
     "data": {
      "text/plain": [
       "52498.808952054795"
      ]
     },
     "execution_count": 31,
     "metadata": {},
     "output_type": "execute_result"
    }
   ],
   "source": [
    "theta0"
   ]
  },
  {
   "cell_type": "code",
   "execution_count": 32,
   "metadata": {
    "ExecuteTime": {
     "end_time": "2019-11-07T16:16:28.901803Z",
     "start_time": "2019-11-07T16:16:28.882252Z"
    },
    "slideshow": {
     "slide_type": "fragment"
    }
   },
   "outputs": [],
   "source": [
    "theta1=theta1 - a*(1/m)*np.sum(np.multiply((np.array(h)-np.array(y)), x.iloc[:,1].values))"
   ]
  },
  {
   "cell_type": "code",
   "execution_count": 33,
   "metadata": {
    "ExecuteTime": {
     "end_time": "2019-11-07T16:16:28.907319Z",
     "start_time": "2019-11-07T16:16:28.903818Z"
    },
    "slideshow": {
     "slide_type": "fragment"
    }
   },
   "outputs": [
    {
     "data": {
      "text/plain": [
       "38368134482.14304"
      ]
     },
     "execution_count": 33,
     "metadata": {},
     "output_type": "execute_result"
    }
   ],
   "source": [
    "theta1"
   ]
  },
  {
   "cell_type": "code",
   "execution_count": 34,
   "metadata": {
    "ExecuteTime": {
     "end_time": "2019-11-07T16:16:28.932420Z",
     "start_time": "2019-11-07T16:16:28.908822Z"
    },
    "slideshow": {
     "slide_type": "fragment"
    }
   },
   "outputs": [],
   "source": [
    "theta2=theta2 - a*(1/m)*np.sum(np.multiply((np.array(h)-np.array(y)), x.iloc[:,2].values))"
   ]
  },
  {
   "cell_type": "code",
   "execution_count": 35,
   "metadata": {
    "ExecuteTime": {
     "end_time": "2019-11-07T16:16:28.937399Z",
     "start_time": "2019-11-07T16:16:28.933890Z"
    },
    "slideshow": {
     "slide_type": "fragment"
    }
   },
   "outputs": [
    {
     "data": {
      "text/plain": [
       "1725555021.8503902"
      ]
     },
     "execution_count": 35,
     "metadata": {},
     "output_type": "execute_result"
    }
   ],
   "source": [
    "theta2"
   ]
  },
  {
   "cell_type": "markdown",
   "metadata": {
    "slideshow": {
     "slide_type": "slide"
    }
   },
   "source": [
    "###  <p style=\"font-size:180%;\">   Nitelik Normalleştirme </p>"
   ]
  },
  {
   "cell_type": "markdown",
   "metadata": {
    "slideshow": {
     "slide_type": "slide"
    }
   },
   "source": [
    "<p style=\"font-size:150%;\"> Benzer ölçekteki veriler ile çalışmanın bize faydaları olacaktır. Neden ? </p>"
   ]
  },
  {
   "attachments": {
    "image.png": {
     "image/png": "[encoded data removed]"
    }
   },
   "cell_type": "markdown",
   "metadata": {
    "slideshow": {
     "slide_type": "fragment"
    }
   },
   "source": [
    "![image.png](attachment:image.png)"
   ]
  },
  {
   "cell_type": "code",
   "execution_count": 36,
   "metadata": {
    "ExecuteTime": {
     "end_time": "2019-11-07T16:16:29.382301Z",
     "start_time": "2019-11-07T16:16:29.379328Z"
    },
    "slideshow": {
     "slide_type": "slide"
    }
   },
   "outputs": [],
   "source": [
    "x1=eğitim_verisi[\"Konut_Boyutu(x1)\"]"
   ]
  },
  {
   "cell_type": "code",
   "execution_count": 37,
   "metadata": {
    "ExecuteTime": {
     "end_time": "2019-11-07T16:16:29.395336Z",
     "start_time": "2019-11-07T16:16:29.383805Z"
    },
    "slideshow": {
     "slide_type": "fragment"
    }
   },
   "outputs": [],
   "source": [
    "x2=eğitim_verisi[\"Şömine_Adedi(x4)\"] #  Not1 :Aradaki farkın daha iyi gösterilmesi için  \"Şömine_Adedi(x4)\" x2 olarak kullanılmıştır"
   ]
  },
  {
   "cell_type": "code",
   "execution_count": 38,
   "metadata": {
    "ExecuteTime": {
     "end_time": "2019-11-07T16:16:29.404862Z",
     "start_time": "2019-11-07T16:16:29.396840Z"
    },
    "slideshow": {
     "slide_type": "fragment"
    }
   },
   "outputs": [
    {
     "name": "stdout",
     "output_type": "stream",
     "text": [
      "X1 in minumum değeri 1300 ve maksimum değeri 215245\n"
     ]
    }
   ],
   "source": [
    "print(\"X1 in minumum değeri\" , x1.min(),\"ve maksimum değeri\" , x1.max())"
   ]
  },
  {
   "cell_type": "code",
   "execution_count": 39,
   "metadata": {
    "ExecuteTime": {
     "end_time": "2019-11-07T16:16:29.415891Z",
     "start_time": "2019-11-07T16:16:29.405865Z"
    },
    "slideshow": {
     "slide_type": "fragment"
    }
   },
   "outputs": [
    {
     "name": "stdout",
     "output_type": "stream",
     "text": [
      "X2 in minumum değeri 0 ve maksimum değeri 3\n"
     ]
    }
   ],
   "source": [
    "print(\"X2 in minumum değeri\" , x2.min(),\"ve maksimum değeri\" , x2.max())"
   ]
  },
  {
   "cell_type": "markdown",
   "metadata": {
    "ExecuteTime": {
     "end_time": "2019-10-26T09:50:35.550942Z",
     "start_time": "2019-10-26T09:50:35.545950Z"
    },
    "slideshow": {
     "slide_type": "fragment"
    }
   },
   "source": [
    " \n",
    "<p style=\"font-size:120%;\"> Nitelikleri benzer ölçeğe getireceğiz. Olmasını istediğimiz aralık  :  $ -1< x_i < 1 $ gibi olabilir. </p>"
   ]
  },
  {
   "cell_type": "markdown",
   "metadata": {
    "slideshow": {
     "slide_type": "slide"
    }
   },
   "source": [
    "####  <p style=\"font-size:180%;\">   Ortalama ile Normalleştirme </p>"
   ]
  },
  {
   "cell_type": "markdown",
   "metadata": {
    "ExecuteTime": {
     "end_time": "2019-10-26T10:18:34.508929Z",
     "start_time": "2019-10-26T10:18:34.504418Z"
    },
    "slideshow": {
     "slide_type": "fragment"
    }
   },
   "source": [
    " \n",
    "\n",
    " <p style=\"font-size:180%;\">\\begin{equation}\\ x_i =   \\ \\frac{  x_i -\\mu_i }{  S_i} \\end{equation}</p>\n"
   ]
  },
  {
   "cell_type": "markdown",
   "metadata": {
    "slideshow": {
     "slide_type": "fragment"
    }
   },
   "source": [
    "<p style=\"font-size:120%;\"> * Notasyonlar :  </p> \n",
    " \n",
    " <p style=\"font-size:120%;\"> $x_i$ : Nitelik (Girdi) Değeri </p> \n",
    "    <p style=\"font-size:120%;\"> $\\mu_i$ : $x_i$'nin Ortalaması </p> \n",
    "        <p style=\"font-size:120%;\"> $S_i$ : $x_i$'nin Standart Sapması veya Maksimum Minumum Farkı </p> "
   ]
  },
  {
   "cell_type": "code",
   "execution_count": 40,
   "metadata": {
    "ExecuteTime": {
     "end_time": "2019-11-07T16:16:30.024009Z",
     "start_time": "2019-11-07T16:16:30.021032Z"
    },
    "slideshow": {
     "slide_type": "slide"
    }
   },
   "outputs": [],
   "source": [
    "x1_normal=(x1-x1.mean())/x1.std()"
   ]
  },
  {
   "cell_type": "code",
   "execution_count": 41,
   "metadata": {
    "ExecuteTime": {
     "end_time": "2019-11-07T16:16:30.038046Z",
     "start_time": "2019-11-07T16:16:30.025512Z"
    },
    "slideshow": {
     "slide_type": "fragment"
    }
   },
   "outputs": [
    {
     "data": {
      "text/plain": [
       "0   -0.207071\n",
       "1   -0.091855\n",
       "2    0.073455\n",
       "Name: Konut_Boyutu(x1), dtype: float64"
      ]
     },
     "execution_count": 41,
     "metadata": {},
     "output_type": "execute_result"
    }
   ],
   "source": [
    "x1_normal.loc[:2]"
   ]
  },
  {
   "cell_type": "code",
   "execution_count": 42,
   "metadata": {
    "ExecuteTime": {
     "end_time": "2019-11-07T16:16:30.050578Z",
     "start_time": "2019-11-07T16:16:30.039549Z"
    },
    "slideshow": {
     "slide_type": "fragment"
    }
   },
   "outputs": [
    {
     "name": "stdout",
     "output_type": "stream",
     "text": [
      "X1_normal in minumum değeri -0.923412828397377 ve maksimum değeri 20.511245148264887\n"
     ]
    }
   ],
   "source": [
    "print(\"X1_normal in minumum değeri\" , x1_normal.min(),\"ve maksimum değeri\" , x1_normal.max())"
   ]
  },
  {
   "cell_type": "code",
   "execution_count": 43,
   "metadata": {
    "ExecuteTime": {
     "end_time": "2019-11-07T16:16:30.060604Z",
     "start_time": "2019-11-07T16:16:30.052083Z"
    },
    "slideshow": {
     "slide_type": "fragment"
    }
   },
   "outputs": [],
   "source": [
    "x2_normal=(x2-x2.mean())/x2.std()"
   ]
  },
  {
   "cell_type": "code",
   "execution_count": 44,
   "metadata": {
    "ExecuteTime": {
     "end_time": "2019-11-07T16:16:30.073641Z",
     "start_time": "2019-11-07T16:16:30.061607Z"
    },
    "slideshow": {
     "slide_type": "fragment"
    }
   },
   "outputs": [
    {
     "data": {
      "text/plain": [
       "0   -0.950901\n",
       "1    0.600289\n",
       "2    0.600289\n",
       "Name: Şömine_Adedi(x4), dtype: float64"
      ]
     },
     "execution_count": 44,
     "metadata": {},
     "output_type": "execute_result"
    }
   ],
   "source": [
    "x2_normal.loc[:2]"
   ]
  },
  {
   "cell_type": "code",
   "execution_count": 45,
   "metadata": {
    "ExecuteTime": {
     "end_time": "2019-11-07T16:16:30.083692Z",
     "start_time": "2019-11-07T16:16:30.074644Z"
    },
    "slideshow": {
     "slide_type": "fragment"
    }
   },
   "outputs": [
    {
     "name": "stdout",
     "output_type": "stream",
     "text": [
      "X2_normal in minumum değeri -0.9509006699369511 ve maksimum değeri 3.7026690890841056\n"
     ]
    }
   ],
   "source": [
    "print(\"X2_normal in minumum değeri\" , x2_normal.min(),\"ve maksimum değeri\" , x2_normal.max())"
   ]
  },
  {
   "cell_type": "code",
   "execution_count": 46,
   "metadata": {
    "ExecuteTime": {
     "end_time": "2019-11-07T16:16:30.092190Z",
     "start_time": "2019-11-07T16:16:30.085170Z"
    },
    "slideshow": {
     "slide_type": "slide"
    }
   },
   "outputs": [],
   "source": [
    "def normalizasyon(X):\n",
    "    X_norm=pd.DataFrame(np.matrix(x)*0,columns=X.columns.tolist())\n",
    "    \n",
    "    for i in X.columns:\n",
    "        if X[i].std()==0:\n",
    "            X_norm[i]=1\n",
    "        else:\n",
    "            X_norm[i]=(X[i]-X[i].mean())/(X[i].std())\n",
    "    return  X_norm "
   ]
  },
  {
   "cell_type": "code",
   "execution_count": 47,
   "metadata": {
    "ExecuteTime": {
     "end_time": "2019-11-07T16:16:30.112744Z",
     "start_time": "2019-11-07T16:16:30.093192Z"
    },
    "slideshow": {
     "slide_type": "fragment"
    }
   },
   "outputs": [
    {
     "data": {
      "text/html": [
       "<div>\n",
       "<style scoped>\n",
       "    .dataframe tbody tr th:only-of-type {\n",
       "        vertical-align: middle;\n",
       "    }\n",
       "\n",
       "    .dataframe tbody tr th {\n",
       "        vertical-align: top;\n",
       "    }\n",
       "\n",
       "    .dataframe thead th {\n",
       "        text-align: right;\n",
       "    }\n",
       "</style>\n",
       "<table border=\"1\" class=\"dataframe\">\n",
       "  <thead>\n",
       "    <tr style=\"text-align: right;\">\n",
       "      <th></th>\n",
       "      <th>Konut_Boyutu(x1)</th>\n",
       "      <th>Garaj_Boyutu(x2)</th>\n",
       "      <th>Yapılma_Tarihi(x3)</th>\n",
       "      <th>Şömine_Adedi(x4)</th>\n",
       "      <th>Konut_Fiyat(y)</th>\n",
       "    </tr>\n",
       "  </thead>\n",
       "  <tbody>\n",
       "    <tr>\n",
       "      <td>0</td>\n",
       "      <td>-0.207071</td>\n",
       "      <td>0.35088</td>\n",
       "      <td>1.050634</td>\n",
       "      <td>-0.950901</td>\n",
       "      <td>0.347154</td>\n",
       "    </tr>\n",
       "    <tr>\n",
       "      <td>1</td>\n",
       "      <td>-0.091855</td>\n",
       "      <td>-0.06071</td>\n",
       "      <td>0.156680</td>\n",
       "      <td>0.600289</td>\n",
       "      <td>0.007286</td>\n",
       "    </tr>\n",
       "  </tbody>\n",
       "</table>\n",
       "</div>"
      ],
      "text/plain": [
       "   Konut_Boyutu(x1)  Garaj_Boyutu(x2)  Yapılma_Tarihi(x3)  Şömine_Adedi(x4)  \\\n",
       "0         -0.207071           0.35088            1.050634         -0.950901   \n",
       "1         -0.091855          -0.06071            0.156680          0.600289   \n",
       "\n",
       "   Konut_Fiyat(y)  \n",
       "0        0.347154  \n",
       "1        0.007286  "
      ]
     },
     "execution_count": 47,
     "metadata": {},
     "output_type": "execute_result"
    }
   ],
   "source": [
    "normalizasyon(eğitim_verisi).head(2)"
   ]
  },
  {
   "cell_type": "code",
   "execution_count": 48,
   "metadata": {
    "ExecuteTime": {
     "end_time": "2019-11-07T16:16:30.123249Z",
     "start_time": "2019-11-07T16:16:30.113747Z"
    },
    "slideshow": {
     "slide_type": "fragment"
    }
   },
   "outputs": [
    {
     "data": {
      "text/html": [
       "<div>\n",
       "<style scoped>\n",
       "    .dataframe tbody tr th:only-of-type {\n",
       "        vertical-align: middle;\n",
       "    }\n",
       "\n",
       "    .dataframe tbody tr th {\n",
       "        vertical-align: top;\n",
       "    }\n",
       "\n",
       "    .dataframe thead th {\n",
       "        text-align: right;\n",
       "    }\n",
       "</style>\n",
       "<table border=\"1\" class=\"dataframe\">\n",
       "  <thead>\n",
       "    <tr style=\"text-align: right;\">\n",
       "      <th></th>\n",
       "      <th>Yanlılık(x0)</th>\n",
       "      <th>Konut_Boyutu(x1)</th>\n",
       "      <th>Garaj_Boyutu(x2)</th>\n",
       "      <th>Yapılma_Tarihi(x3)</th>\n",
       "      <th>Şömine_Adedi(x4)</th>\n",
       "    </tr>\n",
       "  </thead>\n",
       "  <tbody>\n",
       "    <tr>\n",
       "      <td>0</td>\n",
       "      <td>1</td>\n",
       "      <td>-0.207071</td>\n",
       "      <td>0.35088</td>\n",
       "      <td>1.050634</td>\n",
       "      <td>-0.950901</td>\n",
       "    </tr>\n",
       "    <tr>\n",
       "      <td>1</td>\n",
       "      <td>1</td>\n",
       "      <td>-0.091855</td>\n",
       "      <td>-0.06071</td>\n",
       "      <td>0.156680</td>\n",
       "      <td>0.600289</td>\n",
       "    </tr>\n",
       "  </tbody>\n",
       "</table>\n",
       "</div>"
      ],
      "text/plain": [
       "   Yanlılık(x0)  Konut_Boyutu(x1)  Garaj_Boyutu(x2)  Yapılma_Tarihi(x3)  \\\n",
       "0             1         -0.207071           0.35088            1.050634   \n",
       "1             1         -0.091855          -0.06071            0.156680   \n",
       "\n",
       "   Şömine_Adedi(x4)  \n",
       "0         -0.950901  \n",
       "1          0.600289  "
      ]
     },
     "execution_count": 48,
     "metadata": {},
     "output_type": "execute_result"
    }
   ],
   "source": [
    "normalizasyon(x).head(2)"
   ]
  },
  {
   "cell_type": "markdown",
   "metadata": {
    "slideshow": {
     "slide_type": "slide"
    }
   },
   "source": [
    "###  <p style=\"font-size:180%;\">  Dereceli  Azaltma</p>"
   ]
  },
  {
   "cell_type": "markdown",
   "metadata": {
    "ExecuteTime": {
     "end_time": "2019-10-26T10:28:06.666474Z",
     "start_time": "2019-10-26T10:28:06.661443Z"
    },
    "slideshow": {
     "slide_type": "fragment"
    }
   },
   "source": [
    "<p style=\"font-size:150%;\">   \\begin{equation}\\     \\theta_j := \\theta_j-a*\\frac{\\partial J(\\theta_0,\\theta_1,...\\theta_n)}{\\partial \\theta_j} \\end{equation} </p>"
   ]
  },
  {
   "cell_type": "markdown",
   "metadata": {
    "slideshow": {
     "slide_type": "fragment"
    }
   },
   "source": [
    " \n",
    "<p style=\"font-size:120%;\">   * Dereceli Azaltmanın doğru çalıştığından emin olmalıyız.  </p>\n",
    " \n",
    "<p style=\"font-size:120%;\">   *\n",
    " Öğrenme hızını nasıl seçeceğiz ? </p> "
   ]
  },
  {
   "cell_type": "code",
   "execution_count": 49,
   "metadata": {
    "ExecuteTime": {
     "end_time": "2019-11-07T16:16:30.508965Z",
     "start_time": "2019-11-07T16:16:30.502938Z"
    },
    "slideshow": {
     "slide_type": "slide"
    }
   },
   "outputs": [],
   "source": [
    "# Tekrar sayısı : TS\n",
    "\n",
    "def dereceli_azaltma(x, y, theta, a=0.1,TS=10 ):\n",
    "    \n",
    "    x_m=np.array(x) # X,y ve thetayı işlem kolaylığı için matrix haline getiriyoruz. \n",
    "    \n",
    "    y_m=np.array(y)\n",
    "    \n",
    "   \n",
    "    m=y.shape[0] # Eğitim verisindeki örnek adedi ( boyut i, satırlar)\n",
    "    \n",
    "    n=x.shape[1] # Nitelik adedi   ( boyut j, sütünlar)\n",
    "    \n",
    "    J_history=[] # Oluşan Bedelleri burada toplayacağız \n",
    "    J_history.append(bedel(x,y,theta))\n",
    "    for s in range(TS):\n",
    "        theta_m=np.array(theta)\n",
    "        theta_s=theta_m\n",
    "        for j in range(n):\n",
    "            \n",
    "            derece_= np.sum(np.multiply(np.array(np.array(x_m.dot(theta_m)-y_m)).T,x_m[:,j]))/m # Önce dereceyi hesaplıyoruz. \n",
    "            theta_s[j]=theta_m[j]-a*derece_ # Sonra onu katsayıdan öğrenme hızıyla çarpıp çıkartıyoruz\n",
    "            \n",
    "        theta[theta.columns[0]]=theta_s # Bütün katsayıları bir anda güncelliyoruz.\n",
    "        \n",
    "        J_history.append(bedel(x,y,theta)) # Bedel fonskiyonu ile her bir denemedeki bedeli hesaplıyoruz.\n",
    "    \n",
    "    return  theta_m, J_history  "
   ]
  },
  {
   "cell_type": "code",
   "execution_count": 50,
   "metadata": {
    "ExecuteTime": {
     "end_time": "2019-11-07T16:16:30.522993Z",
     "start_time": "2019-11-07T16:16:30.510425Z"
    },
    "slideshow": {
     "slide_type": "slide"
    }
   },
   "outputs": [],
   "source": [
    "theta0=50000;theta1=10;theta2=1.2;theta3=0.1;theta4=0.2\n",
    "theta=pd.DataFrame([theta0,theta1,theta2,theta3,theta4],columns=[\"Katsayılar\"])"
   ]
  },
  {
   "cell_type": "code",
   "execution_count": 51,
   "metadata": {
    "ExecuteTime": {
     "end_time": "2019-11-07T16:17:26.647801Z",
     "start_time": "2019-11-07T16:16:30.524964Z"
    },
    "scrolled": false,
    "slideshow": {
     "slide_type": "fragment"
    }
   },
   "outputs": [],
   "source": [
    "t,j=dereceli_azaltma(x, y, theta, a=np.power(1/10,9),TS=50000 )"
   ]
  },
  {
   "cell_type": "code",
   "execution_count": 52,
   "metadata": {
    "ExecuteTime": {
     "end_time": "2019-11-07T16:17:26.653005Z",
     "start_time": "2019-11-07T16:17:26.648961Z"
    },
    "slideshow": {
     "slide_type": "fragment"
    }
   },
   "outputs": [
    {
     "data": {
      "text/plain": [
       "array([[4.99999861e+04],\n",
       "       [1.31261024e+00],\n",
       "       [1.91285756e+02],\n",
       "       [1.37435857e+01],\n",
       "       [1.00377487e+00]])"
      ]
     },
     "execution_count": 52,
     "metadata": {},
     "output_type": "execute_result"
    }
   ],
   "source": [
    "t # Yeni katsayılar"
   ]
  },
  {
   "cell_type": "code",
   "execution_count": 53,
   "metadata": {
    "ExecuteTime": {
     "end_time": "2019-11-07T16:17:26.667076Z",
     "start_time": "2019-11-07T16:17:26.654476Z"
    },
    "slideshow": {
     "slide_type": "fragment"
    }
   },
   "outputs": [
    {
     "data": {
      "text/plain": [
       "[6344618856.149989,\n",
       " 6094526724.305228,\n",
       " 5934708406.068296,\n",
       " 5831017864.815525,\n",
       " 5762237872.772985]"
      ]
     },
     "execution_count": 53,
     "metadata": {},
     "output_type": "execute_result"
    }
   ],
   "source": [
    "j[:5] # Bedelin değişimi , azalmasını istiyoruz"
   ]
  },
  {
   "cell_type": "code",
   "execution_count": 54,
   "metadata": {
    "ExecuteTime": {
     "end_time": "2019-11-07T16:17:26.677078Z",
     "start_time": "2019-11-07T16:17:26.668054Z"
    },
    "slideshow": {
     "slide_type": "fragment"
    }
   },
   "outputs": [],
   "source": [
    "bedel_df=pd.DataFrame(columns=[\"Bedel\"])"
   ]
  },
  {
   "cell_type": "code",
   "execution_count": 55,
   "metadata": {
    "ExecuteTime": {
     "end_time": "2019-11-07T16:17:26.707202Z",
     "start_time": "2019-11-07T16:17:26.678081Z"
    },
    "slideshow": {
     "slide_type": "fragment"
    }
   },
   "outputs": [],
   "source": [
    "bedel_df[\"Bedel\"]=j;bedel_df.reset_index(inplace=True)"
   ]
  },
  {
   "cell_type": "code",
   "execution_count": 56,
   "metadata": {
    "ExecuteTime": {
     "end_time": "2019-11-07T16:17:27.065738Z",
     "start_time": "2019-11-07T16:17:26.709163Z"
    },
    "slideshow": {
     "slide_type": "slide"
    }
   },
   "outputs": [
    {
     "data": {
      "image/png": "[encoded data removed]",
      "text/plain": [
       "<Figure size 576x576 with 1 Axes>"
      ]
     },
     "metadata": {
      "needs_background": "light"
     },
     "output_type": "display_data"
    }
   ],
   "source": [
    "plt.figure(figsize=(8,8))\n",
    "plt.title(\"Bedelin Tekrar Sayısına Göre Değişimi \",fontsize=\"20\")\n",
    "plt.ylabel(\"$Bedel(J) $\",fontsize=15)\n",
    "plt.xlabel(\" Tekrar Sayısı (TS)\",fontsize=15)\n",
    "plt.plot(bedel_df[\"index\"],bedel_df[\"Bedel\"], 'k-',linewidth=1,markersize=18)\n",
    "plt.show()"
   ]
  },
  {
   "cell_type": "code",
   "execution_count": 57,
   "metadata": {
    "ExecuteTime": {
     "end_time": "2019-11-07T16:17:32.677134Z",
     "start_time": "2019-11-07T16:17:27.066834Z"
    },
    "slideshow": {
     "slide_type": "slide"
    }
   },
   "outputs": [
    {
     "name": "stderr",
     "output_type": "stream",
     "text": [
      "C:\\Users\\onur.bilgic\\AppData\\Local\\Continuum\\anaconda3\\lib\\site-packages\\ipykernel_launcher.py:4: RuntimeWarning: overflow encountered in square\n",
      "  after removing the cwd from sys.path.\n",
      "C:\\Users\\onur.bilgic\\AppData\\Local\\Continuum\\anaconda3\\lib\\site-packages\\numpy\\core\\fromnumeric.py:86: RuntimeWarning: overflow encountered in reduce\n",
      "  return ufunc.reduce(obj, axis, dtype, out, **passkwargs)\n",
      "C:\\Users\\onur.bilgic\\AppData\\Local\\Continuum\\anaconda3\\lib\\site-packages\\ipykernel_launcher.py:21: RuntimeWarning: invalid value encountered in multiply\n"
     ]
    },
    {
     "name": "stdout",
     "output_type": "stream",
     "text": [
      "Katsayılar [[nan]\n",
      " [nan]\n",
      " [nan]\n",
      " [nan]\n",
      " [nan]]\n",
      "Bedelin ilk 10 tekrardaki değişimi [6344618856.149989, 1.330508058229625e+31, 1.4208276556017448e+53, 1.5172784670886815e+75, 1.6202767011288119e+97, 1.730266819945204e+119, 1.8477234574301746e+141, 1.973153467305024e+163, 2.1070981103160947e+185, 2.2501353899054378e+207]\n"
     ]
    }
   ],
   "source": [
    "# Öğrenme Hızını Biraz Büyük Seciyoruz a = np.power(1/10,3)\n",
    "\n",
    "theta0=50000;theta1=10;theta2=1.2;theta3=0.1;theta4=0.2\n",
    "theta=pd.DataFrame([theta0,theta1,theta2,theta3,theta4],columns=[\"Katsayılar\"])\n",
    "a=np.power(1/10,3)\n",
    "t,j=dereceli_azaltma(x, y, theta, a=a,TS=5000 )\n",
    "print(\"Katsayılar\" , t)\n",
    "print(\"Bedelin ilk 10 tekrardaki değişimi\", j[:10])\n",
    "bedel_df=pd.DataFrame(columns=[\"Bedel\"])\n",
    "bedel_df[\"Bedel\"]=j;bedel_df.reset_index(inplace=True)"
   ]
  },
  {
   "cell_type": "code",
   "execution_count": 58,
   "metadata": {
    "ExecuteTime": {
     "end_time": "2019-11-07T16:17:32.882134Z",
     "start_time": "2019-11-07T16:17:32.678628Z"
    },
    "slideshow": {
     "slide_type": "slide"
    }
   },
   "outputs": [
    {
     "data": {
      "image/png": "[encoded data removed]",
      "text/plain": [
       "<Figure size 576x576 with 1 Axes>"
      ]
     },
     "metadata": {
      "needs_background": "light"
     },
     "output_type": "display_data"
    }
   ],
   "source": [
    "plt.figure(figsize=(8,8))\n",
    "title=\"Bedelin Tekrar Sayısına Göre Değişimi, Öğrenme Hızı=\"+str(a)\n",
    "plt.title(title,fontsize=\"20\")\n",
    "plt.ylabel(\"$Bedel(J) $\",fontsize=15)\n",
    "plt.xlabel(\" Tekrar Sayısı (TS)\",fontsize=15)\n",
    "plt.plot(bedel_df[\"index\"],bedel_df[\"Bedel\"], 'k-',linewidth=1,markersize=18)\n",
    "plt.show()"
   ]
  },
  {
   "cell_type": "code",
   "execution_count": 59,
   "metadata": {
    "ExecuteTime": {
     "end_time": "2019-11-07T16:17:38.366095Z",
     "start_time": "2019-11-07T16:17:32.883223Z"
    },
    "slideshow": {
     "slide_type": "slide"
    }
   },
   "outputs": [
    {
     "name": "stderr",
     "output_type": "stream",
     "text": [
      "C:\\Users\\onur.bilgic\\AppData\\Local\\Continuum\\anaconda3\\lib\\site-packages\\ipykernel_launcher.py:4: RuntimeWarning: overflow encountered in square\n",
      "  after removing the cwd from sys.path.\n"
     ]
    },
    {
     "name": "stdout",
     "output_type": "stream",
     "text": [
      "Katsayılar [[nan]\n",
      " [nan]\n",
      " [nan]\n",
      " [nan]\n",
      " [nan]]\n",
      "Bedelin ilk 10 tekrardaki değişimi [6344618856.149989, 86278584857807.95, 1.819000104513586e+18, 3.5726527485569275e+22, 7.005452599286762e+26, 1.3736140860687207e+31, 2.693350493837536e+35, 5.281058776251872e+39, 1.0354976765040637e+44, 2.0303796709363084e+48]\n"
     ]
    }
   ],
   "source": [
    "# Öğrenme Hızını Biraz Azaltalım z a = np.power(1/10,6)\n",
    "\n",
    "theta0=50000;theta1=10;theta2=1.2;theta3=0.1;theta4=0.2\n",
    "theta=pd.DataFrame([theta0,theta1,theta2,theta3,theta4],columns=[\"Katsayılar\"])\n",
    "a=np.power(1/10,6)\n",
    "t,j=dereceli_azaltma(x, y, theta, a=a,TS=5000 )\n",
    "print(\"Katsayılar\" , t)\n",
    "print(\"Bedelin ilk 10 tekrardaki değişimi\", j[:10])\n",
    "bedel_df=pd.DataFrame(columns=[\"Bedel\"])\n",
    "bedel_df[\"Bedel\"]=j;bedel_df.reset_index(inplace=True)\n"
   ]
  },
  {
   "cell_type": "code",
   "execution_count": 60,
   "metadata": {
    "ExecuteTime": {
     "end_time": "2019-11-07T16:17:38.586746Z",
     "start_time": "2019-11-07T16:17:38.366565Z"
    },
    "slideshow": {
     "slide_type": "slide"
    }
   },
   "outputs": [
    {
     "data": {
      "image/png": "[encoded data removed]",
      "text/plain": [
       "<Figure size 576x576 with 1 Axes>"
      ]
     },
     "metadata": {
      "needs_background": "light"
     },
     "output_type": "display_data"
    }
   ],
   "source": [
    "plt.figure(figsize=(8,8))\n",
    "title=\"Bedelin Tekrar Sayısına Göre Değişimi, Öğrenme Hızı=\"+str(a)\n",
    "plt.title(title,fontsize=\"20\")\n",
    "plt.ylabel(\"$Bedel(J) $\",fontsize=15)\n",
    "plt.xlabel(\" Tekrar Sayısı (TS)\",fontsize=15)\n",
    "plt.plot(bedel_df[\"index\"],bedel_df[\"Bedel\"], 'k-',linewidth=1,markersize=18)\n",
    "plt.show()"
   ]
  },
  {
   "cell_type": "markdown",
   "metadata": {
    "slideshow": {
     "slide_type": "fragment"
    }
   },
   "source": [
    "\n",
    "<br>\n",
    "<p style=\"font-size:120%;\">  Öğrenme hızını çok seçersek bedel azalmak yerine artar ve öğrenme gerçekleşmez.   </p><br>\n",
    "<br>"
   ]
  },
  {
   "cell_type": "code",
   "execution_count": 61,
   "metadata": {
    "ExecuteTime": {
     "end_time": "2019-11-07T16:17:44.110531Z",
     "start_time": "2019-11-07T16:17:38.587652Z"
    },
    "slideshow": {
     "slide_type": "slide"
    }
   },
   "outputs": [
    {
     "name": "stdout",
     "output_type": "stream",
     "text": [
      "Katsayılar [[5.00000201e+04]\n",
      " [1.76284967e+00]\n",
      " [5.11210936e+01]\n",
      " [4.54058043e+01]\n",
      " [3.04231352e-01]]\n",
      "Bedelin ilk 10 tekrardaki değişimi [6344618856.149989, 6094526724.305228, 5934708406.068296, 5831017864.815525, 5762237872.772985, 5715183224.824807, 5681658928.732279, 5656570610.720949, 5636750632.156979, 5620228789.359401]\n"
     ]
    }
   ],
   "source": [
    "# İdeal bir Öğrenme Hızı seçtiğimizde \n",
    "\n",
    "theta0=50000;theta1=10;theta2=1.2;theta3=0.1;theta4=0.2\n",
    "theta=pd.DataFrame([theta0,theta1,theta2,theta3,theta4],columns=[\"Katsayılar\"])\n",
    "a=np.power(1/10,9)\n",
    "t,j=dereceli_azaltma(x, y, theta, a=a,TS=5000 )\n",
    "print(\"Katsayılar\" , t)\n",
    "print(\"Bedelin ilk 10 tekrardaki değişimi\", j[:10])\n",
    "bedel_df=pd.DataFrame(columns=[\"Bedel\"])\n",
    "bedel_df[\"Bedel\"]=j;bedel_df.reset_index(inplace=True)\n"
   ]
  },
  {
   "cell_type": "code",
   "execution_count": 62,
   "metadata": {
    "ExecuteTime": {
     "end_time": "2019-11-07T16:17:44.323952Z",
     "start_time": "2019-11-07T16:17:44.112017Z"
    },
    "slideshow": {
     "slide_type": "slide"
    }
   },
   "outputs": [
    {
     "data": {
      "image/png": "[encoded data removed]",
      "text/plain": [
       "<Figure size 576x576 with 1 Axes>"
      ]
     },
     "metadata": {
      "needs_background": "light"
     },
     "output_type": "display_data"
    }
   ],
   "source": [
    "plt.figure(figsize=(8,8))\n",
    "title=\"Bedelin Tekrar Sayısına Göre Değişimi, Öğrenme Hızı=\"+str(a)\n",
    "plt.title(title,fontsize=\"20\")\n",
    "plt.ylabel(\"$Bedel(J) $\",fontsize=15)\n",
    "plt.xlabel(\" Tekrar Sayısı (TS)\",fontsize=15)\n",
    "plt.plot(bedel_df[\"index\"],bedel_df[\"Bedel\"], 'k-',linewidth=1,markersize=18)\n",
    "plt.show()"
   ]
  },
  {
   "cell_type": "code",
   "execution_count": 63,
   "metadata": {
    "ExecuteTime": {
     "end_time": "2019-11-07T16:17:49.848836Z",
     "start_time": "2019-11-07T16:17:44.324955Z"
    },
    "slideshow": {
     "slide_type": "slide"
    }
   },
   "outputs": [
    {
     "name": "stdout",
     "output_type": "stream",
     "text": [
      "Katsayılar [[5.00000002e+04]\n",
      " [8.36450009e+00]\n",
      " [1.31726334e+00]\n",
      " [4.47991413e-01]\n",
      " [2.00146670e-01]]\n",
      "Bedelin ilk 10 tekrardaki değişimi [6344618856.149989, 6344341237.177733, 6344063731.289544, 6343786338.437417, 6343509058.573365, 6343231891.649422, 6342954837.617646, 6342677896.430109, 6342401068.038909, 6342124352.396161]\n"
     ]
    }
   ],
   "source": [
    "# Öğrenme hızını daha  az seçiyoruz.\n",
    "\n",
    "theta0=50000;theta1=10;theta2=1.2;theta3=0.1;theta4=0.2\n",
    "theta=pd.DataFrame([theta0,theta1,theta2,theta3,theta4],columns=[\"Katsayılar\"])\n",
    "a=np.power(1/10,12)\n",
    "t,j=dereceli_azaltma(x, y, theta, a=a,TS=5000 )\n",
    "print(\"Katsayılar\" , t)\n",
    "print(\"Bedelin ilk 10 tekrardaki değişimi\", j[:10])\n",
    "bedel_df=pd.DataFrame(columns=[\"Bedel\"])\n",
    "bedel_df[\"Bedel\"]=j;bedel_df.reset_index(inplace=True)\n"
   ]
  },
  {
   "cell_type": "code",
   "execution_count": 64,
   "metadata": {
    "ExecuteTime": {
     "end_time": "2019-11-07T16:17:50.044219Z",
     "start_time": "2019-11-07T16:17:49.849993Z"
    },
    "slideshow": {
     "slide_type": "slide"
    }
   },
   "outputs": [
    {
     "data": {
      "image/png": "[encoded data removed]",
      "text/plain": [
       "<Figure size 576x576 with 1 Axes>"
      ]
     },
     "metadata": {
      "needs_background": "light"
     },
     "output_type": "display_data"
    }
   ],
   "source": [
    "plt.figure(figsize=(8,8))\n",
    "title=\"Bedelin Tekrar Sayısına Göre Değişimi, Öğrenme Hızı=\"+str(a)\n",
    "plt.title(title,fontsize=\"20\")\n",
    "plt.ylabel(\"$Bedel(J) $\",fontsize=15)\n",
    "plt.xlabel(\" Tekrar Sayısı (TS)\",fontsize=15)\n",
    "plt.plot(bedel_df[\"index\"],bedel_df[\"Bedel\"], 'k-',linewidth=1,markersize=18)\n",
    "plt.show()"
   ]
  },
  {
   "cell_type": "markdown",
   "metadata": {
    "slideshow": {
     "slide_type": "fragment"
    }
   },
   "source": [
    "\n",
    "<br>\n",
    "<p style=\"font-size:120%;\">  Öğrenme hızını az seçersek bedeli azaltmamız uzun sürer. Çok fazla tekrar yapmamız gerekir.  </p><br>\n",
    "<br>"
   ]
  },
  {
   "cell_type": "markdown",
   "metadata": {
    "slideshow": {
     "slide_type": "slide"
    }
   },
   "source": [
    "###  <p style=\"font-size:100%;\">  Nitelikler ve Polinom Regresyon</p>"
   ]
  },
  {
   "cell_type": "markdown",
   "metadata": {
    "slideshow": {
     "slide_type": "fragment"
    }
   },
   "source": [
    "\n",
    "<p style=\"font-size:100%;\">\\begin{equation}\\  h\\theta(x) =  \\theta_0 + \\theta_1*x_1(BinanınEni) + \\theta_2*x_2(BinanınDerinliği) \\end{equation}</p>\n"
   ]
  },
  {
   "cell_type": "markdown",
   "metadata": {
    "slideshow": {
     "slide_type": "fragment"
    }
   },
   "source": [
    "\n",
    "<p style=\"font-size:100%;\">\\begin{equation}\\ x =   x_1(BinanınEni) *x_2(BinanınDerinliği) \\end{equation}</p>\n"
   ]
  },
  {
   "cell_type": "markdown",
   "metadata": {
    "ExecuteTime": {
     "end_time": "2019-10-26T18:56:56.091228Z",
     "start_time": "2019-10-26T18:56:56.087216Z"
    },
    "slideshow": {
     "slide_type": "fragment"
    }
   },
   "source": [
    "\n",
    "<p style=\"font-size:100%;\">\\begin{equation}\\  h\\theta(x) =  \\theta_0 + \\theta_1*x(BinanınBoyutu ) \\end{equation}</p>\n"
   ]
  },
  {
   "attachments": {},
   "cell_type": "markdown",
   "metadata": {
    "slideshow": {
     "slide_type": "slide"
    }
   },
   "source": [
    "![image.png](dogrusalresim/ev.png)"
   ]
  },
  {
   "cell_type": "code",
   "execution_count": 65,
   "metadata": {
    "ExecuteTime": {
     "end_time": "2019-11-07T16:17:50.048216Z",
     "start_time": "2019-11-07T16:17:50.045185Z"
    },
    "slideshow": {
     "slide_type": "slide"
    }
   },
   "outputs": [],
   "source": [
    "BinaEni=[10,12,13,12,14,12,13]\n",
    "BinaDerinliği=[10,11,13,17,16,13,11]\n",
    "Konut_Fiyat=[200,300,400,500,600,390,350]\n"
   ]
  },
  {
   "cell_type": "code",
   "execution_count": 66,
   "metadata": {
    "ExecuteTime": {
     "end_time": "2019-11-07T16:17:50.062734Z",
     "start_time": "2019-11-07T16:17:50.049195Z"
    },
    "slideshow": {
     "slide_type": "fragment"
    }
   },
   "outputs": [
    {
     "data": {
      "text/html": [
       "<div>\n",
       "<style scoped>\n",
       "    .dataframe tbody tr th:only-of-type {\n",
       "        vertical-align: middle;\n",
       "    }\n",
       "\n",
       "    .dataframe tbody tr th {\n",
       "        vertical-align: top;\n",
       "    }\n",
       "\n",
       "    .dataframe thead th {\n",
       "        text-align: right;\n",
       "    }\n",
       "</style>\n",
       "<table border=\"1\" class=\"dataframe\">\n",
       "  <thead>\n",
       "    <tr style=\"text-align: right;\">\n",
       "      <th></th>\n",
       "      <th>Konut_Fiyat(y)</th>\n",
       "    </tr>\n",
       "  </thead>\n",
       "  <tbody>\n",
       "    <tr>\n",
       "      <td>0</td>\n",
       "      <td>200</td>\n",
       "    </tr>\n",
       "    <tr>\n",
       "      <td>1</td>\n",
       "      <td>300</td>\n",
       "    </tr>\n",
       "  </tbody>\n",
       "</table>\n",
       "</div>"
      ],
      "text/plain": [
       "   Konut_Fiyat(y)\n",
       "0             200\n",
       "1             300"
      ]
     },
     "execution_count": 66,
     "metadata": {},
     "output_type": "execute_result"
    }
   ],
   "source": [
    "y=pd.DataFrame(Konut_Fiyat,columns=[\"Konut_Fiyat(y)\"]);y.head(2)"
   ]
  },
  {
   "cell_type": "code",
   "execution_count": 67,
   "metadata": {
    "ExecuteTime": {
     "end_time": "2019-11-07T16:17:50.076999Z",
     "start_time": "2019-11-07T16:17:50.064740Z"
    },
    "scrolled": true,
    "slideshow": {
     "slide_type": "fragment"
    }
   },
   "outputs": [
    {
     "data": {
      "text/html": [
       "<div>\n",
       "<style scoped>\n",
       "    .dataframe tbody tr th:only-of-type {\n",
       "        vertical-align: middle;\n",
       "    }\n",
       "\n",
       "    .dataframe tbody tr th {\n",
       "        vertical-align: top;\n",
       "    }\n",
       "\n",
       "    .dataframe thead th {\n",
       "        text-align: right;\n",
       "    }\n",
       "</style>\n",
       "<table border=\"1\" class=\"dataframe\">\n",
       "  <thead>\n",
       "    <tr style=\"text-align: right;\">\n",
       "      <th></th>\n",
       "      <th>BinaEni(x1)</th>\n",
       "      <th>BinaDerinliği(x2)</th>\n",
       "    </tr>\n",
       "  </thead>\n",
       "  <tbody>\n",
       "    <tr>\n",
       "      <td>0</td>\n",
       "      <td>10</td>\n",
       "      <td>10</td>\n",
       "    </tr>\n",
       "    <tr>\n",
       "      <td>1</td>\n",
       "      <td>12</td>\n",
       "      <td>11</td>\n",
       "    </tr>\n",
       "    <tr>\n",
       "      <td>2</td>\n",
       "      <td>13</td>\n",
       "      <td>13</td>\n",
       "    </tr>\n",
       "  </tbody>\n",
       "</table>\n",
       "</div>"
      ],
      "text/plain": [
       "   BinaEni(x1)  BinaDerinliği(x2)\n",
       "0           10                 10\n",
       "1           12                 11\n",
       "2           13                 13"
      ]
     },
     "execution_count": 67,
     "metadata": {},
     "output_type": "execute_result"
    }
   ],
   "source": [
    "x=pd.DataFrame(BinaEni,columns=[\"BinaEni(x1)\"])\n",
    "x[\"BinaDerinliği(x2)\"]=BinaDerinliği;x.head(3)"
   ]
  },
  {
   "cell_type": "code",
   "execution_count": 68,
   "metadata": {
    "ExecuteTime": {
     "end_time": "2019-11-07T16:17:50.091034Z",
     "start_time": "2019-11-07T16:17:50.077982Z"
    },
    "slideshow": {
     "slide_type": "slide"
    }
   },
   "outputs": [
    {
     "data": {
      "text/html": [
       "<div>\n",
       "<style scoped>\n",
       "    .dataframe tbody tr th:only-of-type {\n",
       "        vertical-align: middle;\n",
       "    }\n",
       "\n",
       "    .dataframe tbody tr th {\n",
       "        vertical-align: top;\n",
       "    }\n",
       "\n",
       "    .dataframe thead th {\n",
       "        text-align: right;\n",
       "    }\n",
       "</style>\n",
       "<table border=\"1\" class=\"dataframe\">\n",
       "  <thead>\n",
       "    <tr style=\"text-align: right;\">\n",
       "      <th></th>\n",
       "      <th>BinaEni(x1)</th>\n",
       "      <th>BinaDerinliği(x2)</th>\n",
       "      <th>BinaBoyutu(x3)</th>\n",
       "    </tr>\n",
       "  </thead>\n",
       "  <tbody>\n",
       "    <tr>\n",
       "      <td>0</td>\n",
       "      <td>10</td>\n",
       "      <td>10</td>\n",
       "      <td>100</td>\n",
       "    </tr>\n",
       "    <tr>\n",
       "      <td>1</td>\n",
       "      <td>12</td>\n",
       "      <td>11</td>\n",
       "      <td>132</td>\n",
       "    </tr>\n",
       "  </tbody>\n",
       "</table>\n",
       "</div>"
      ],
      "text/plain": [
       "   BinaEni(x1)  BinaDerinliği(x2)  BinaBoyutu(x3)\n",
       "0           10                 10             100\n",
       "1           12                 11             132"
      ]
     },
     "execution_count": 68,
     "metadata": {},
     "output_type": "execute_result"
    }
   ],
   "source": [
    "x[\"BinaBoyutu(x3)\"]=x[\"BinaEni(x1)\"]*x[\"BinaDerinliği(x2)\"];x.head(2)"
   ]
  },
  {
   "cell_type": "code",
   "execution_count": 69,
   "metadata": {
    "ExecuteTime": {
     "end_time": "2019-11-07T16:17:50.100072Z",
     "start_time": "2019-11-07T16:17:50.092032Z"
    },
    "slideshow": {
     "slide_type": "fragment"
    }
   },
   "outputs": [],
   "source": [
    "x[\"BinaEni^2(x4)\"]=x[\"BinaEni(x1)\"]**2\n"
   ]
  },
  {
   "cell_type": "code",
   "execution_count": 70,
   "metadata": {
    "ExecuteTime": {
     "end_time": "2019-11-07T16:17:50.122750Z",
     "start_time": "2019-11-07T16:17:50.101038Z"
    },
    "slideshow": {
     "slide_type": "fragment"
    }
   },
   "outputs": [],
   "source": [
    "x[\"BinaDerinliği^2(x5)\"]=x[\"BinaDerinliği(x2)\"]**2"
   ]
  },
  {
   "cell_type": "code",
   "execution_count": 71,
   "metadata": {
    "ExecuteTime": {
     "end_time": "2019-11-07T16:17:50.138453Z",
     "start_time": "2019-11-07T16:17:50.122750Z"
    },
    "slideshow": {
     "slide_type": "fragment"
    }
   },
   "outputs": [],
   "source": [
    "x[\"BinaBoyutu^3(x6)\"]=x[\"BinaBoyutu(x3)\"]**3"
   ]
  },
  {
   "cell_type": "code",
   "execution_count": 72,
   "metadata": {
    "ExecuteTime": {
     "end_time": "2019-11-07T16:17:50.144468Z",
     "start_time": "2019-11-07T16:17:50.140458Z"
    },
    "slideshow": {
     "slide_type": "fragment"
    }
   },
   "outputs": [],
   "source": [
    "eğitim_verisi=pd.concat([x,y.reindex(x.index)], axis=1)"
   ]
  },
  {
   "cell_type": "code",
   "execution_count": 73,
   "metadata": {
    "ExecuteTime": {
     "end_time": "2019-11-07T16:17:50.159050Z",
     "start_time": "2019-11-07T16:17:50.145472Z"
    },
    "slideshow": {
     "slide_type": "slide"
    }
   },
   "outputs": [
    {
     "data": {
      "text/html": [
       "<div>\n",
       "<style scoped>\n",
       "    .dataframe tbody tr th:only-of-type {\n",
       "        vertical-align: middle;\n",
       "    }\n",
       "\n",
       "    .dataframe tbody tr th {\n",
       "        vertical-align: top;\n",
       "    }\n",
       "\n",
       "    .dataframe thead th {\n",
       "        text-align: right;\n",
       "    }\n",
       "</style>\n",
       "<table border=\"1\" class=\"dataframe\">\n",
       "  <thead>\n",
       "    <tr style=\"text-align: right;\">\n",
       "      <th></th>\n",
       "      <th>BinaEni(x1)</th>\n",
       "      <th>BinaDerinliği(x2)</th>\n",
       "      <th>BinaBoyutu(x3)</th>\n",
       "      <th>BinaEni^2(x4)</th>\n",
       "      <th>BinaDerinliği^2(x5)</th>\n",
       "      <th>BinaBoyutu^3(x6)</th>\n",
       "      <th>Konut_Fiyat(y)</th>\n",
       "    </tr>\n",
       "  </thead>\n",
       "  <tbody>\n",
       "    <tr>\n",
       "      <td>0</td>\n",
       "      <td>10</td>\n",
       "      <td>10</td>\n",
       "      <td>100</td>\n",
       "      <td>100</td>\n",
       "      <td>100</td>\n",
       "      <td>1000000</td>\n",
       "      <td>200</td>\n",
       "    </tr>\n",
       "    <tr>\n",
       "      <td>1</td>\n",
       "      <td>12</td>\n",
       "      <td>11</td>\n",
       "      <td>132</td>\n",
       "      <td>144</td>\n",
       "      <td>121</td>\n",
       "      <td>2299968</td>\n",
       "      <td>300</td>\n",
       "    </tr>\n",
       "  </tbody>\n",
       "</table>\n",
       "</div>"
      ],
      "text/plain": [
       "   BinaEni(x1)  BinaDerinliği(x2)  BinaBoyutu(x3)  BinaEni^2(x4)  \\\n",
       "0           10                 10             100            100   \n",
       "1           12                 11             132            144   \n",
       "\n",
       "   BinaDerinliği^2(x5)  BinaBoyutu^3(x6)  Konut_Fiyat(y)  \n",
       "0                  100           1000000             200  \n",
       "1                  121           2299968             300  "
      ]
     },
     "execution_count": 73,
     "metadata": {},
     "output_type": "execute_result"
    }
   ],
   "source": [
    "eğitim_verisi.head(2)"
   ]
  },
  {
   "cell_type": "code",
   "execution_count": 74,
   "metadata": {
    "ExecuteTime": {
     "end_time": "2019-11-07T16:17:50.360901Z",
     "start_time": "2019-11-07T16:17:50.160013Z"
    },
    "scrolled": false,
    "slideshow": {
     "slide_type": "slide"
    }
   },
   "outputs": [
    {
     "data": {
      "image/png": "[encoded data removed]",
      "text/plain": [
       "<Figure size 576x576 with 1 Axes>"
      ]
     },
     "metadata": {
      "needs_background": "light"
     },
     "output_type": "display_data"
    }
   ],
   "source": [
    "plt.figure(figsize=(8,8))\n",
    "title=\"Nitelik Seçimi: Konut_Fiyat(y) vs BinaEni(x1)\"\n",
    "plt.title(title,fontsize= 20)\n",
    "plt.ylabel(\"Konut_Fiyat(y)\",fontsize=15)\n",
    "plt.xlabel(\"BinaEni(x1)\",fontsize=15)\n",
    "plt.plot(x[\"BinaEni(x1)\"],eğitim_verisi[\"Konut_Fiyat(y)\"], 'ko',linewidth=1,markersize=10)\n",
    "plt.show()"
   ]
  },
  {
   "cell_type": "code",
   "execution_count": 75,
   "metadata": {
    "ExecuteTime": {
     "end_time": "2019-11-07T16:17:50.584265Z",
     "start_time": "2019-11-07T16:17:50.362440Z"
    },
    "slideshow": {
     "slide_type": "slide"
    }
   },
   "outputs": [
    {
     "data": {
      "image/png": "[encoded data removed]",
      "text/plain": [
       "<Figure size 576x576 with 1 Axes>"
      ]
     },
     "metadata": {
      "needs_background": "light"
     },
     "output_type": "display_data"
    }
   ],
   "source": [
    "plt.figure(figsize=(8,8))\n",
    "title=\"Nitelik Seçimi: Konut_Fiyat(y) vs BinaDerinliği(x2)\"\n",
    "plt.title(title,fontsize= 20)\n",
    "plt.ylabel(\"Konut_Fiyat(y)\",fontsize=15)\n",
    "plt.xlabel(\"BinaDerinliği(x2)\",fontsize=15)\n",
    "plt.plot(x[\"BinaDerinliği(x2)\"],eğitim_verisi[\"Konut_Fiyat(y)\"], 'ko',linewidth=1,markersize=10)\n",
    "plt.show()"
   ]
  },
  {
   "cell_type": "code",
   "execution_count": 76,
   "metadata": {
    "ExecuteTime": {
     "end_time": "2019-11-07T16:17:50.777640Z",
     "start_time": "2019-11-07T16:17:50.585386Z"
    },
    "slideshow": {
     "slide_type": "slide"
    }
   },
   "outputs": [
    {
     "data": {
      "image/png": "[encoded data removed]",
      "text/plain": [
       "<Figure size 576x576 with 1 Axes>"
      ]
     },
     "metadata": {
      "needs_background": "light"
     },
     "output_type": "display_data"
    }
   ],
   "source": [
    "plt.figure(figsize=(8,8))\n",
    "title=\"Nitelik Seçimi: Konut_Fiyat(y) vs BinaEni^2(x4)\"\n",
    "plt.title(title,fontsize= 20)\n",
    "plt.ylabel(\"Konut_Fiyat(y)\",fontsize=15)\n",
    "plt.xlabel(\"BinaEni^2(x4)\",fontsize=15)\n",
    "plt.plot(x[\"BinaEni^2(x4)\"],eğitim_verisi[\"Konut_Fiyat(y)\"], 'ko',linewidth=1,markersize=10)\n",
    "plt.show()"
   ]
  },
  {
   "cell_type": "code",
   "execution_count": 77,
   "metadata": {
    "ExecuteTime": {
     "end_time": "2019-11-07T16:17:50.977822Z",
     "start_time": "2019-11-07T16:17:50.777640Z"
    },
    "slideshow": {
     "slide_type": "slide"
    }
   },
   "outputs": [
    {
     "data": {
      "image/png": "[encoded data removed]",
      "text/plain": [
       "<Figure size 576x576 with 1 Axes>"
      ]
     },
     "metadata": {
      "needs_background": "light"
     },
     "output_type": "display_data"
    }
   ],
   "source": [
    "plt.figure(figsize=(8,8))\n",
    "title=\"Nitelik Seçimi: Konut_Fiyat(y) vs BinaDerinliği^2(x5)\"\n",
    "plt.title(title,fontsize= 20)\n",
    "plt.ylabel(\"Konut_Fiyat(y)\",fontsize=15)\n",
    "plt.xlabel(\"BinaDerinliği^2(x5)\",fontsize=15)\n",
    "plt.plot(x[\"BinaDerinliği^2(x5)\"],eğitim_verisi[\"Konut_Fiyat(y)\"], 'ko',linewidth=1,markersize=10)\n",
    "plt.show()"
   ]
  },
  {
   "cell_type": "code",
   "execution_count": 78,
   "metadata": {
    "ExecuteTime": {
     "end_time": "2019-11-07T16:17:51.160220Z",
     "start_time": "2019-11-07T16:17:50.979300Z"
    },
    "slideshow": {
     "slide_type": "slide"
    }
   },
   "outputs": [
    {
     "data": {
      "image/png": "[encoded data removed]",
      "text/plain": [
       "<Figure size 576x576 with 1 Axes>"
      ]
     },
     "metadata": {
      "needs_background": "light"
     },
     "output_type": "display_data"
    }
   ],
   "source": [
    "plt.figure(figsize=(8,8))\n",
    "title=\"Nitelik Seçimi: Konut_Fiyat(y) vs BinaBoyutu^3(x6)\"\n",
    "plt.title(title,fontsize= 20)\n",
    "plt.ylabel(\"Konut_Fiyat(y)\",fontsize=15)\n",
    "plt.xlabel(\"BinaBoyutu^3(x6)\",fontsize=15)\n",
    "plt.plot(x[\"BinaBoyutu^3(x6)\"],eğitim_verisi[\"Konut_Fiyat(y)\"], 'ko',linewidth=1,markersize=10)\n",
    "plt.show()"
   ]
  },
  {
   "cell_type": "code",
   "execution_count": 79,
   "metadata": {
    "ExecuteTime": {
     "end_time": "2019-11-07T16:17:51.350131Z",
     "start_time": "2019-11-07T16:17:51.161226Z"
    },
    "slideshow": {
     "slide_type": "slide"
    }
   },
   "outputs": [
    {
     "data": {
      "image/png": "[encoded data removed]",
      "text/plain": [
       "<Figure size 576x576 with 1 Axes>"
      ]
     },
     "metadata": {
      "needs_background": "light"
     },
     "output_type": "display_data"
    }
   ],
   "source": [
    "plt.figure(figsize=(8,8))\n",
    "title=\"Nitelik Seçimi: Konut_Fiyat(y) vs BinaBoyutu(x3)\"\n",
    "plt.title(title,fontsize= 20)\n",
    "plt.ylabel(\"Konut_Fiyat(y)\",fontsize=15)\n",
    "plt.xlabel(\"BinaBoyutu(x3)\",fontsize=15)\n",
    "plt.plot(x[\"BinaBoyutu(x3)\"],eğitim_verisi[\"Konut_Fiyat(y)\"], 'ko',linewidth=1,markersize=10)\n",
    "plt.show()"
   ]
  },
  {
   "cell_type": "markdown",
   "metadata": {
    "slideshow": {
     "slide_type": "slide"
    }
   },
   "source": [
    " \n",
    "<p style=\"font-size:120%;\">  \\begin{equation}\\ Seçim : h\\theta(x) =  \\theta_0 + \\theta_1*x(BinanınBoyutu ) \\end{equation}</p>\n",
    " "
   ]
  },
  {
   "cell_type": "markdown",
   "metadata": {
    "slideshow": {
     "slide_type": "slide"
    }
   },
   "source": [
    "###  <p style=\"font-size:180%;\">  Normal Denklem Yoluyla Çözüm</p>"
   ]
  },
  {
   "cell_type": "markdown",
   "metadata": {
    "ExecuteTime": {
     "end_time": "2019-10-26T19:33:47.551378Z",
     "start_time": "2019-10-26T19:33:47.546364Z"
    },
    "slideshow": {
     "slide_type": "fragment"
    }
   },
   "source": [
    "\n",
    " \n",
    "<p style=\"font-size:120%;\">  Dereceli azaltma olmadan da regresyon katsayıları hesaplanabilir. Her bir katsayıyı tek tek bulmak yerine hepsini bir kere de bulabiliriz.  </p> \n",
    " "
   ]
  },
  {
   "cell_type": "markdown",
   "metadata": {
    "slideshow": {
     "slide_type": "fragment"
    }
   },
   "source": [
    "<p style=\"font-size:120%;\">   \\begin{equation}\\     \\theta_j := \\theta_j-a*\\frac{\\partial J(\\theta_0,\\theta_1,...\\theta_n)}{\\partial \\theta_j} \\end{equation} </p>"
   ]
  },
  {
   "cell_type": "markdown",
   "metadata": {
    "slideshow": {
     "slide_type": "slide"
    }
   },
   "source": [
    " \n",
    "<p style=\"font-size:120%;\">  İlk örneğimize dönelim </p> "
   ]
  },
  {
   "cell_type": "code",
   "execution_count": 80,
   "metadata": {
    "ExecuteTime": {
     "end_time": "2019-11-07T16:17:51.385381Z",
     "start_time": "2019-11-07T16:17:51.351159Z"
    },
    "slideshow": {
     "slide_type": "fragment"
    }
   },
   "outputs": [],
   "source": [
    "eğitim_verisi=pd.read_csv(\"data/train.csv\")\n",
    "# Konut fiyatları için eğitim seti\n",
    "eğitim_verisi.rename(columns={\"Fireplaces\":\"Şömine_Adedi(x4)\",\"YearBuilt\":\"Yapılma_Tarihi(x3)\",\"GarageArea\":\"Garaj_Boyutu(x2)\",\"LotArea\":\"Konut_Boyutu(x1)\",\"SalePrice\":\"Konut_Fiyat(y)\"},inplace=True)\n",
    "eğitim_verisi=eğitim_verisi[[\"Konut_Boyutu(x1)\",\"Garaj_Boyutu(x2)\",\"Yapılma_Tarihi(x3)\",\"Şömine_Adedi(x4)\" ,\"Konut_Fiyat(y)\"]] \n",
    "y=eğitim_verisi[[\"Konut_Fiyat(y)\"]]\n",
    "nitelik_listesi=eğitim_verisi.columns.tolist();nitelik_listesi.remove(\"Konut_Fiyat(y)\");nitelik_listesi\n",
    "x=eğitim_verisi[nitelik_listesi];x=girdi(x)"
   ]
  },
  {
   "cell_type": "code",
   "execution_count": 81,
   "metadata": {
    "ExecuteTime": {
     "end_time": "2019-11-07T16:17:51.395626Z",
     "start_time": "2019-11-07T16:17:51.385381Z"
    },
    "slideshow": {
     "slide_type": "fragment"
    }
   },
   "outputs": [
    {
     "data": {
      "text/html": [
       "<div>\n",
       "<style scoped>\n",
       "    .dataframe tbody tr th:only-of-type {\n",
       "        vertical-align: middle;\n",
       "    }\n",
       "\n",
       "    .dataframe tbody tr th {\n",
       "        vertical-align: top;\n",
       "    }\n",
       "\n",
       "    .dataframe thead th {\n",
       "        text-align: right;\n",
       "    }\n",
       "</style>\n",
       "<table border=\"1\" class=\"dataframe\">\n",
       "  <thead>\n",
       "    <tr style=\"text-align: right;\">\n",
       "      <th></th>\n",
       "      <th>Konut_Fiyat(y)</th>\n",
       "    </tr>\n",
       "  </thead>\n",
       "  <tbody>\n",
       "    <tr>\n",
       "      <td>0</td>\n",
       "      <td>208500</td>\n",
       "    </tr>\n",
       "    <tr>\n",
       "      <td>1</td>\n",
       "      <td>181500</td>\n",
       "    </tr>\n",
       "  </tbody>\n",
       "</table>\n",
       "</div>"
      ],
      "text/plain": [
       "   Konut_Fiyat(y)\n",
       "0          208500\n",
       "1          181500"
      ]
     },
     "execution_count": 81,
     "metadata": {},
     "output_type": "execute_result"
    }
   ],
   "source": [
    "y.head(2)"
   ]
  },
  {
   "cell_type": "code",
   "execution_count": 82,
   "metadata": {
    "ExecuteTime": {
     "end_time": "2019-11-07T16:17:51.405667Z",
     "start_time": "2019-11-07T16:17:51.396642Z"
    },
    "slideshow": {
     "slide_type": "fragment"
    }
   },
   "outputs": [
    {
     "data": {
      "text/html": [
       "<div>\n",
       "<style scoped>\n",
       "    .dataframe tbody tr th:only-of-type {\n",
       "        vertical-align: middle;\n",
       "    }\n",
       "\n",
       "    .dataframe tbody tr th {\n",
       "        vertical-align: top;\n",
       "    }\n",
       "\n",
       "    .dataframe thead th {\n",
       "        text-align: right;\n",
       "    }\n",
       "</style>\n",
       "<table border=\"1\" class=\"dataframe\">\n",
       "  <thead>\n",
       "    <tr style=\"text-align: right;\">\n",
       "      <th></th>\n",
       "      <th>Yanlılık(x0)</th>\n",
       "      <th>Konut_Boyutu(x1)</th>\n",
       "      <th>Garaj_Boyutu(x2)</th>\n",
       "      <th>Yapılma_Tarihi(x3)</th>\n",
       "      <th>Şömine_Adedi(x4)</th>\n",
       "    </tr>\n",
       "  </thead>\n",
       "  <tbody>\n",
       "    <tr>\n",
       "      <td>0</td>\n",
       "      <td>1</td>\n",
       "      <td>8450</td>\n",
       "      <td>548</td>\n",
       "      <td>2003</td>\n",
       "      <td>0</td>\n",
       "    </tr>\n",
       "    <tr>\n",
       "      <td>1</td>\n",
       "      <td>1</td>\n",
       "      <td>9600</td>\n",
       "      <td>460</td>\n",
       "      <td>1976</td>\n",
       "      <td>1</td>\n",
       "    </tr>\n",
       "  </tbody>\n",
       "</table>\n",
       "</div>"
      ],
      "text/plain": [
       "   Yanlılık(x0)  Konut_Boyutu(x1)  Garaj_Boyutu(x2)  Yapılma_Tarihi(x3)  \\\n",
       "0             1              8450               548                2003   \n",
       "1             1              9600               460                1976   \n",
       "\n",
       "   Şömine_Adedi(x4)  \n",
       "0                 0  \n",
       "1                 1  "
      ]
     },
     "execution_count": 82,
     "metadata": {},
     "output_type": "execute_result"
    }
   ],
   "source": [
    "x.head(2)"
   ]
  },
  {
   "cell_type": "markdown",
   "metadata": {
    "slideshow": {
     "slide_type": "slide"
    }
   },
   "source": [
    "<p style=\"font-size:150%;\">   \\begin{equation}\\     \\theta=(X^TX)^{-1}X^Ty   \\end{equation} </p>"
   ]
  },
  {
   "cell_type": "code",
   "execution_count": 83,
   "metadata": {
    "ExecuteTime": {
     "end_time": "2019-11-07T16:17:51.417722Z",
     "start_time": "2019-11-07T16:17:51.406656Z"
    },
    "slideshow": {
     "slide_type": "fragment"
    }
   },
   "outputs": [],
   "source": [
    "theta_yeni=np.dot(np.dot(np.linalg.inv(np.dot(x.T,x)),x.T),y) # Yukarıdaki formul ile hesaplarsak "
   ]
  },
  {
   "cell_type": "code",
   "execution_count": 84,
   "metadata": {
    "ExecuteTime": {
     "end_time": "2019-11-07T16:17:51.425732Z",
     "start_time": "2019-11-07T16:17:51.418713Z"
    },
    "slideshow": {
     "slide_type": "fragment"
    }
   },
   "outputs": [
    {
     "data": {
      "text/plain": [
       "1392901096.5439003"
      ]
     },
     "execution_count": 84,
     "metadata": {},
     "output_type": "execute_result"
    }
   ],
   "source": [
    "bedel(x,y,theta_yeni)\n"
   ]
  },
  {
   "cell_type": "code",
   "execution_count": 85,
   "metadata": {
    "ExecuteTime": {
     "end_time": "2019-11-07T16:19:38.947081Z",
     "start_time": "2019-11-07T16:17:51.426733Z"
    },
    "slideshow": {
     "slide_type": "slide"
    }
   },
   "outputs": [
    {
     "name": "stdout",
     "output_type": "stream",
     "text": [
      "Katsayılar [[4.99999683e+04]\n",
      " [1.23854754e+00]\n",
      " [2.14359056e+02]\n",
      " [8.53072866e+00]\n",
      " [1.69313307e+00]]\n",
      "Bedelin ilk 10 tekrardaki değişimi [6344618856.149989, 6094526724.305228, 5934708406.068296, 5831017864.815525, 5762237872.772985, 5715183224.824807, 5681658928.732279, 5656570610.720949, 5636750632.156979, 5620228789.359401]\n"
     ]
    }
   ],
   "source": [
    "theta0=50000;theta1=10;theta2=1.2;theta3=0.1;theta4=0.2\n",
    "theta=pd.DataFrame([theta0,theta1,theta2,theta3,theta4],columns=[\"Katsayılar\"])\n",
    "a=np.power(1/10,9)\n",
    "t,j=dereceli_azaltma(x, y, theta, a=a,TS=100000 )\n",
    "print(\"Katsayılar\" , t)\n",
    "print(\"Bedelin ilk 10 tekrardaki değişimi\", j[:10])\n",
    "bedel_df=pd.DataFrame(columns=[\"Bedel\"])\n",
    "bedel_df[\"Bedel\"]=j;bedel_df.reset_index(inplace=True)\n"
   ]
  },
  {
   "cell_type": "code",
   "execution_count": 86,
   "metadata": {
    "ExecuteTime": {
     "end_time": "2019-11-07T16:19:39.153256Z",
     "start_time": "2019-11-07T16:19:38.948052Z"
    },
    "slideshow": {
     "slide_type": "slide"
    }
   },
   "outputs": [
    {
     "data": {
      "image/png": "[encoded data removed]",
      "text/plain": [
       "<Figure size 576x576 with 1 Axes>"
      ]
     },
     "metadata": {
      "needs_background": "light"
     },
     "output_type": "display_data"
    }
   ],
   "source": [
    "plt.figure(figsize=(8,8))\n",
    "title=\"Bedelin Tekrar Sayısına Göre Değişimi, Öğrenme Hızı=\"+str(a)\n",
    "plt.title(title,fontsize=\"20\")\n",
    "plt.ylabel(\"$Bedel(J) $\",fontsize=15)\n",
    "plt.xlabel(\" Tekrar Sayısı (TS)\",fontsize=15)\n",
    "plt.plot(bedel_df[\"index\"],bedel_df[\"Bedel\"], 'k-',linewidth=1,markersize=18)\n",
    "plt.show()"
   ]
  },
  {
   "cell_type": "markdown",
   "metadata": {
    "slideshow": {
     "slide_type": "slide"
    }
   },
   "source": [
    " \n",
    "\n",
    "<p style=\"font-size:120%;\">    Normal Denklem Yolu ile Bedel 1392*10^6 / Dereceli Azaltma ile 100000 Tekrardan Sonra ise Bedel 1849*10^6  </p>\n",
    " "
   ]
  },
  {
   "cell_type": "code",
   "execution_count": 87,
   "metadata": {
    "ExecuteTime": {
     "end_time": "2019-11-07T16:19:39.161780Z",
     "start_time": "2019-11-07T16:19:39.154801Z"
    },
    "slideshow": {
     "slide_type": "fragment"
    }
   },
   "outputs": [
    {
     "data": {
      "text/html": [
       "<div>\n",
       "<style scoped>\n",
       "    .dataframe tbody tr th:only-of-type {\n",
       "        vertical-align: middle;\n",
       "    }\n",
       "\n",
       "    .dataframe tbody tr th {\n",
       "        vertical-align: top;\n",
       "    }\n",
       "\n",
       "    .dataframe thead th {\n",
       "        text-align: right;\n",
       "    }\n",
       "</style>\n",
       "<table border=\"1\" class=\"dataframe\">\n",
       "  <thead>\n",
       "    <tr style=\"text-align: right;\">\n",
       "      <th></th>\n",
       "      <th>Katsayılar</th>\n",
       "    </tr>\n",
       "  </thead>\n",
       "  <tbody>\n",
       "    <tr>\n",
       "      <td>0</td>\n",
       "      <td>49999.968275</td>\n",
       "    </tr>\n",
       "    <tr>\n",
       "      <td>1</td>\n",
       "      <td>1.238548</td>\n",
       "    </tr>\n",
       "    <tr>\n",
       "      <td>2</td>\n",
       "      <td>214.359056</td>\n",
       "    </tr>\n",
       "    <tr>\n",
       "      <td>3</td>\n",
       "      <td>8.530729</td>\n",
       "    </tr>\n",
       "    <tr>\n",
       "      <td>4</td>\n",
       "      <td>1.693133</td>\n",
       "    </tr>\n",
       "  </tbody>\n",
       "</table>\n",
       "</div>"
      ],
      "text/plain": [
       "     Katsayılar\n",
       "0  49999.968275\n",
       "1      1.238548\n",
       "2    214.359056\n",
       "3      8.530729\n",
       "4      1.693133"
      ]
     },
     "execution_count": 87,
     "metadata": {},
     "output_type": "execute_result"
    }
   ],
   "source": [
    "theta"
   ]
  },
  {
   "cell_type": "code",
   "execution_count": 88,
   "metadata": {
    "ExecuteTime": {
     "end_time": "2019-11-07T16:19:39.174817Z",
     "start_time": "2019-11-07T16:19:39.163284Z"
    },
    "slideshow": {
     "slide_type": "fragment"
    }
   },
   "outputs": [
    {
     "data": {
      "text/html": [
       "<div>\n",
       "<style scoped>\n",
       "    .dataframe tbody tr th:only-of-type {\n",
       "        vertical-align: middle;\n",
       "    }\n",
       "\n",
       "    .dataframe tbody tr th {\n",
       "        vertical-align: top;\n",
       "    }\n",
       "\n",
       "    .dataframe thead th {\n",
       "        text-align: right;\n",
       "    }\n",
       "</style>\n",
       "<table border=\"1\" class=\"dataframe\">\n",
       "  <thead>\n",
       "    <tr style=\"text-align: right;\">\n",
       "      <th></th>\n",
       "      <th>Normal Denklem Katsayılar</th>\n",
       "    </tr>\n",
       "  </thead>\n",
       "  <tbody>\n",
       "    <tr>\n",
       "      <td>0</td>\n",
       "      <td>-1.444660e+06</td>\n",
       "    </tr>\n",
       "    <tr>\n",
       "      <td>1</td>\n",
       "      <td>8.891818e-01</td>\n",
       "    </tr>\n",
       "    <tr>\n",
       "      <td>2</td>\n",
       "      <td>1.427828e+02</td>\n",
       "    </tr>\n",
       "    <tr>\n",
       "      <td>3</td>\n",
       "      <td>7.745331e+02</td>\n",
       "    </tr>\n",
       "    <tr>\n",
       "      <td>4</td>\n",
       "      <td>3.569877e+04</td>\n",
       "    </tr>\n",
       "  </tbody>\n",
       "</table>\n",
       "</div>"
      ],
      "text/plain": [
       "   Normal Denklem Katsayılar\n",
       "0              -1.444660e+06\n",
       "1               8.891818e-01\n",
       "2               1.427828e+02\n",
       "3               7.745331e+02\n",
       "4               3.569877e+04"
      ]
     },
     "execution_count": 88,
     "metadata": {},
     "output_type": "execute_result"
    }
   ],
   "source": [
    "theta_normal=pd.DataFrame(theta_yeni,columns=[\"Normal Denklem Katsayılar\"]);theta_normal"
   ]
  },
  {
   "cell_type": "markdown",
   "metadata": {
    "slideshow": {
     "slide_type": "slide"
    }
   },
   "source": [
    " \n",
    "\n",
    "<p style=\"font-size:180%;\">    Dereceli Azaltma   </p>\n",
    "<p style=\"font-size:100%;\">    - Öğrenme Hızını iyi seçmek gerekir. </p>\n",
    "<p style=\"font-size:100%;\">    - Çok fazla tekrar gerektirir. </p>\n",
    "<p style=\"font-size:100%;\">    - Nitelik adedi(n) fazla bile olsa iyi çalışır </p>\n",
    " "
   ]
  },
  {
   "cell_type": "markdown",
   "metadata": {
    "ExecuteTime": {
     "end_time": "2019-10-26T20:11:43.061197Z",
     "start_time": "2019-10-26T20:11:43.056185Z"
    },
    "slideshow": {
     "slide_type": "fragment"
    }
   },
   "source": [
    " \n",
    "<p style=\"font-size:180%;\">    Normal Denklem   </p>\n",
    "<p style=\"font-size:100%;\">    - Öğrenme Hızını seçmeye gerek yoktur. </p>\n",
    "<p style=\"font-size:100%;\">    - Tekrar gerektirmez. </p>\n",
    "<p style=\"font-size:100%;\">    - $(X^TX)^{-1}$ hesaplayabilmek gerekir. Bazen inverse alınması mümkün olmuyor. </p>\n",
    "<p style=\"font-size:100%;\">    - Nitelik adedi(n) fazla ise yavaş çalışır.</p>\n",
    " "
   ]
  },
  {
   "cell_type": "code",
   "execution_count": 89,
   "metadata": {
    "ExecuteTime": {
     "end_time": "2019-11-07T16:19:39.420013Z",
     "start_time": "2019-11-07T16:19:39.175820Z"
    },
    "slideshow": {
     "slide_type": "slide"
    }
   },
   "outputs": [
    {
     "ename": "LinAlgError",
     "evalue": "Singular matrix",
     "output_type": "error",
     "traceback": [
      "\u001b[1;31m---------------------------------------------------------------------------\u001b[0m",
      "\u001b[1;31mLinAlgError\u001b[0m                               Traceback (most recent call last)",
      "\u001b[1;32m<ipython-input-89-11876ea0240e>\u001b[0m in \u001b[0;36m<module>\u001b[1;34m\u001b[0m\n\u001b[1;32m----> 1\u001b[1;33m \u001b[0mnp\u001b[0m\u001b[1;33m.\u001b[0m\u001b[0mlinalg\u001b[0m\u001b[1;33m.\u001b[0m\u001b[0minv\u001b[0m\u001b[1;33m(\u001b[0m\u001b[0mnp\u001b[0m\u001b[1;33m.\u001b[0m\u001b[0mdot\u001b[0m\u001b[1;33m(\u001b[0m\u001b[0mx\u001b[0m\u001b[1;33m,\u001b[0m\u001b[0mx\u001b[0m\u001b[1;33m.\u001b[0m\u001b[0mT\u001b[0m\u001b[1;33m)\u001b[0m\u001b[1;33m)\u001b[0m\u001b[1;33m\u001b[0m\u001b[1;33m\u001b[0m\u001b[0m\n\u001b[0m",
      "\u001b[1;32m~\\AppData\\Local\\Continuum\\anaconda3\\lib\\site-packages\\numpy\\linalg\\linalg.py\u001b[0m in \u001b[0;36minv\u001b[1;34m(a)\u001b[0m\n\u001b[0;32m    549\u001b[0m     \u001b[0msignature\u001b[0m \u001b[1;33m=\u001b[0m \u001b[1;34m'D->D'\u001b[0m \u001b[1;32mif\u001b[0m \u001b[0misComplexType\u001b[0m\u001b[1;33m(\u001b[0m\u001b[0mt\u001b[0m\u001b[1;33m)\u001b[0m \u001b[1;32melse\u001b[0m \u001b[1;34m'd->d'\u001b[0m\u001b[1;33m\u001b[0m\u001b[1;33m\u001b[0m\u001b[0m\n\u001b[0;32m    550\u001b[0m     \u001b[0mextobj\u001b[0m \u001b[1;33m=\u001b[0m \u001b[0mget_linalg_error_extobj\u001b[0m\u001b[1;33m(\u001b[0m\u001b[0m_raise_linalgerror_singular\u001b[0m\u001b[1;33m)\u001b[0m\u001b[1;33m\u001b[0m\u001b[1;33m\u001b[0m\u001b[0m\n\u001b[1;32m--> 551\u001b[1;33m     \u001b[0mainv\u001b[0m \u001b[1;33m=\u001b[0m \u001b[0m_umath_linalg\u001b[0m\u001b[1;33m.\u001b[0m\u001b[0minv\u001b[0m\u001b[1;33m(\u001b[0m\u001b[0ma\u001b[0m\u001b[1;33m,\u001b[0m \u001b[0msignature\u001b[0m\u001b[1;33m=\u001b[0m\u001b[0msignature\u001b[0m\u001b[1;33m,\u001b[0m \u001b[0mextobj\u001b[0m\u001b[1;33m=\u001b[0m\u001b[0mextobj\u001b[0m\u001b[1;33m)\u001b[0m\u001b[1;33m\u001b[0m\u001b[1;33m\u001b[0m\u001b[0m\n\u001b[0m\u001b[0;32m    552\u001b[0m     \u001b[1;32mreturn\u001b[0m \u001b[0mwrap\u001b[0m\u001b[1;33m(\u001b[0m\u001b[0mainv\u001b[0m\u001b[1;33m.\u001b[0m\u001b[0mastype\u001b[0m\u001b[1;33m(\u001b[0m\u001b[0mresult_t\u001b[0m\u001b[1;33m,\u001b[0m \u001b[0mcopy\u001b[0m\u001b[1;33m=\u001b[0m\u001b[1;32mFalse\u001b[0m\u001b[1;33m)\u001b[0m\u001b[1;33m)\u001b[0m\u001b[1;33m\u001b[0m\u001b[1;33m\u001b[0m\u001b[0m\n\u001b[0;32m    553\u001b[0m \u001b[1;33m\u001b[0m\u001b[0m\n",
      "\u001b[1;32m~\\AppData\\Local\\Continuum\\anaconda3\\lib\\site-packages\\numpy\\linalg\\linalg.py\u001b[0m in \u001b[0;36m_raise_linalgerror_singular\u001b[1;34m(err, flag)\u001b[0m\n\u001b[0;32m     95\u001b[0m \u001b[1;33m\u001b[0m\u001b[0m\n\u001b[0;32m     96\u001b[0m \u001b[1;32mdef\u001b[0m \u001b[0m_raise_linalgerror_singular\u001b[0m\u001b[1;33m(\u001b[0m\u001b[0merr\u001b[0m\u001b[1;33m,\u001b[0m \u001b[0mflag\u001b[0m\u001b[1;33m)\u001b[0m\u001b[1;33m:\u001b[0m\u001b[1;33m\u001b[0m\u001b[1;33m\u001b[0m\u001b[0m\n\u001b[1;32m---> 97\u001b[1;33m     \u001b[1;32mraise\u001b[0m \u001b[0mLinAlgError\u001b[0m\u001b[1;33m(\u001b[0m\u001b[1;34m\"Singular matrix\"\u001b[0m\u001b[1;33m)\u001b[0m\u001b[1;33m\u001b[0m\u001b[1;33m\u001b[0m\u001b[0m\n\u001b[0m\u001b[0;32m     98\u001b[0m \u001b[1;33m\u001b[0m\u001b[0m\n\u001b[0;32m     99\u001b[0m \u001b[1;32mdef\u001b[0m \u001b[0m_raise_linalgerror_nonposdef\u001b[0m\u001b[1;33m(\u001b[0m\u001b[0merr\u001b[0m\u001b[1;33m,\u001b[0m \u001b[0mflag\u001b[0m\u001b[1;33m)\u001b[0m\u001b[1;33m:\u001b[0m\u001b[1;33m\u001b[0m\u001b[1;33m\u001b[0m\u001b[0m\n",
      "\u001b[1;31mLinAlgError\u001b[0m: Singular matrix"
     ]
    }
   ],
   "source": [
    "np.linalg.inv(np.dot(x,x.T))"
   ]
  },
  {
   "cell_type": "markdown",
   "metadata": {
    "ExecuteTime": {
     "end_time": "2019-10-26T20:13:40.702873Z",
     "start_time": "2019-10-26T20:13:40.697857Z"
    },
    "slideshow": {
     "slide_type": "fragment"
    }
   },
   "source": [
    " \n",
    "<p style=\"font-size:100%;\">    Eğer yukarıdaki gibi bir hata alıyorsak . Bu matriks'in tekil olduğunu gösterir. </p>\n",
    "<p style=\"font-size:100%;\">    Bu durumlarda yapılması gereken birbirine bağımlı olan girdilerin azaltılması veyahut düzenlileştirme (regularization) yapmaktır.  </p> "
   ]
  },
  {
   "cell_type": "code",
   "execution_count": 90,
   "metadata": {
    "ExecuteTime": {
     "end_time": "2019-11-07T16:21:59.922742Z",
     "start_time": "2019-11-07T16:21:59.919734Z"
    },
    "slideshow": {
     "slide_type": "slide"
    }
   },
   "outputs": [
    {
     "name": "stdout",
     "output_type": "stream",
     "text": [
      "Sorularınız ?\n"
     ]
    }
   ],
   "source": [
    "print(\"Sorularınız ?\")"
   ]
  },
  {
   "cell_type": "code",
   "execution_count": 91,
   "metadata": {
    "ExecuteTime": {
     "end_time": "2019-11-07T16:22:00.441040Z",
     "start_time": "2019-11-07T16:22:00.439003Z"
    },
    "slideshow": {
     "slide_type": "slide"
    }
   },
   "outputs": [
    {
     "name": "stdout",
     "output_type": "stream",
     "text": [
      "Teşekkürler...\n"
     ]
    }
   ],
   "source": [
    "print(\"Teşekkürler...\")"
   ]
  },
  {
   "cell_type": "code",
   "execution_count": null,
   "metadata": {},
   "outputs": [],
   "source": []
  }
 ],
 "metadata": {
  "kernelspec": {
   "display_name": "Python 3",
   "language": "python",
   "name": "python3"
  },
  "language_info": {
   "codemirror_mode": {
    "name": "ipython",
    "version": 3
   },
   "file_extension": ".py",
   "mimetype": "text/x-python",
   "name": "python",
   "nbconvert_exporter": "python",
   "pygments_lexer": "ipython3",
   "version": "3.7.4"
  },
  "latex_envs": {
   "LaTeX_envs_menu_present": true,
   "autoclose": false,
   "autocomplete": true,
   "bibliofile": "biblio.bib",
   "cite_by": "apalike",
   "current_citInitial": 1,
   "eqLabelWithNumbers": true,
   "eqNumInitial": 1,
   "hotkeys": {
    "equation": "Ctrl-E",
    "itemize": "Ctrl-I"
   },
   "labels_anchors": false,
   "latex_user_defs": false,
   "report_style_numbering": false,
   "user_envs_cfg": false
  },
  "toc": {
   "base_numbering": 1,
   "nav_menu": {},
   "number_sections": true,
   "sideBar": true,
   "skip_h1_title": false,
   "title_cell": "Table of Contents",
   "title_sidebar": "Contents",
   "toc_cell": false,
   "toc_position": {},
   "toc_section_display": true,
   "toc_window_display": false
  },
  "varInspector": {
   "cols": {
    "lenName": 16,
    "lenType": 16,
    "lenVar": 40
   },
   "kernels_config": {
    "python": {
     "delete_cmd_postfix": "",
     "delete_cmd_prefix": "del ",
     "library": "var_list.py",
     "varRefreshCmd": "print(var_dic_list())"
    },
    "r": {
     "delete_cmd_postfix": ") ",
     "delete_cmd_prefix": "rm(",
     "library": "var_list.r",
     "varRefreshCmd": "cat(var_dic_list()) "
    }
   },
   "types_to_exclude": [
    "module",
    "function",
    "builtin_function_or_method",
    "instance",
    "_Feature"
   ],
   "window_display": false
  }
 },
 "nbformat": 4,
 "nbformat_minor": 2
}
