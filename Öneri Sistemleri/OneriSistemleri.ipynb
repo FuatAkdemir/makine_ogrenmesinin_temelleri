{
 "cells": [
  {
   "cell_type": "code",
   "execution_count": 1,
   "metadata": {
    "ExecuteTime": {
     "end_time": "2019-11-06T20:26:50.933336Z",
     "start_time": "2019-11-06T20:26:50.924310Z"
    },
    "slideshow": {
     "slide_type": "skip"
    }
   },
   "outputs": [
    {
     "data": {
      "text/html": [
       "<style>.container { width:100% !important; }</style>"
      ],
      "text/plain": [
       "<IPython.core.display.HTML object>"
      ]
     },
     "metadata": {},
     "output_type": "display_data"
    }
   ],
   "source": [
    "from IPython.core.display import display, HTML\n",
    "display(HTML(\"<style>.container { width:100% !important; }</style>\"))"
   ]
  },
  {
   "cell_type": "code",
   "execution_count": 2,
   "metadata": {
    "ExecuteTime": {
     "end_time": "2019-11-06T20:26:53.436521Z",
     "start_time": "2019-11-06T20:26:50.935341Z"
    },
    "slideshow": {
     "slide_type": "skip"
    }
   },
   "outputs": [],
   "source": [
    "import pandas as pd\n",
    "import numpy as np"
   ]
  },
  {
   "cell_type": "markdown",
   "metadata": {
    "slideshow": {
     "slide_type": "slide"
    }
   },
   "source": [
    "# Öneri Sistemleri "
   ]
  },
  {
   "cell_type": "markdown",
   "metadata": {
    "slideshow": {
     "slide_type": "slide"
    }
   },
   "source": [
    "## Problem Tanımı"
   ]
  },
  {
   "cell_type": "code",
   "execution_count": 3,
   "metadata": {
    "ExecuteTime": {
     "end_time": "2019-11-06T20:26:53.471113Z",
     "start_time": "2019-11-06T20:26:53.438029Z"
    },
    "slideshow": {
     "slide_type": "fragment"
    }
   },
   "outputs": [
    {
     "data": {
      "text/html": [
       "<div>\n",
       "<style scoped>\n",
       "    .dataframe tbody tr th:only-of-type {\n",
       "        vertical-align: middle;\n",
       "    }\n",
       "\n",
       "    .dataframe tbody tr th {\n",
       "        vertical-align: top;\n",
       "    }\n",
       "\n",
       "    .dataframe thead th {\n",
       "        text-align: right;\n",
       "    }\n",
       "</style>\n",
       "<table border=\"1\" class=\"dataframe\">\n",
       "  <thead>\n",
       "    <tr style=\"text-align: right;\">\n",
       "      <th></th>\n",
       "      <th>movieId</th>\n",
       "      <th>title</th>\n",
       "      <th>genres</th>\n",
       "    </tr>\n",
       "  </thead>\n",
       "  <tbody>\n",
       "    <tr>\n",
       "      <td>0</td>\n",
       "      <td>1</td>\n",
       "      <td>Toy Story (1995)</td>\n",
       "      <td>Adventure|Animation|Children|Comedy|Fantasy</td>\n",
       "    </tr>\n",
       "    <tr>\n",
       "      <td>1</td>\n",
       "      <td>2</td>\n",
       "      <td>Jumanji (1995)</td>\n",
       "      <td>Adventure|Children|Fantasy</td>\n",
       "    </tr>\n",
       "  </tbody>\n",
       "</table>\n",
       "</div>"
      ],
      "text/plain": [
       "   movieId             title                                       genres\n",
       "0        1  Toy Story (1995)  Adventure|Animation|Children|Comedy|Fantasy\n",
       "1        2    Jumanji (1995)                   Adventure|Children|Fantasy"
      ]
     },
     "execution_count": 3,
     "metadata": {},
     "output_type": "execute_result"
    }
   ],
   "source": [
    "film=pd.read_csv(\"data/movies.csv\");film.head(2)"
   ]
  },
  {
   "cell_type": "code",
   "execution_count": 4,
   "metadata": {
    "ExecuteTime": {
     "end_time": "2019-11-06T20:26:53.489628Z",
     "start_time": "2019-11-06T20:26:53.472616Z"
    },
    "slideshow": {
     "slide_type": "fragment"
    }
   },
   "outputs": [],
   "source": [
    "film[\"tür\"]=film.genres.str.strip().str.split('[\\W_]+')"
   ]
  },
  {
   "cell_type": "code",
   "execution_count": 5,
   "metadata": {
    "ExecuteTime": {
     "end_time": "2019-11-06T20:26:54.500810Z",
     "start_time": "2019-11-06T20:26:53.490631Z"
    },
    "slideshow": {
     "slide_type": "fragment"
    }
   },
   "outputs": [
    {
     "data": {
      "text/html": [
       "<div>\n",
       "<style scoped>\n",
       "    .dataframe tbody tr th:only-of-type {\n",
       "        vertical-align: middle;\n",
       "    }\n",
       "\n",
       "    .dataframe tbody tr th {\n",
       "        vertical-align: top;\n",
       "    }\n",
       "\n",
       "    .dataframe thead th {\n",
       "        text-align: right;\n",
       "    }\n",
       "</style>\n",
       "<table border=\"1\" class=\"dataframe\">\n",
       "  <thead>\n",
       "    <tr style=\"text-align: right;\">\n",
       "      <th></th>\n",
       "      <th>movieId</th>\n",
       "      <th>tür</th>\n",
       "    </tr>\n",
       "  </thead>\n",
       "  <tbody>\n",
       "    <tr>\n",
       "      <td>0</td>\n",
       "      <td>1</td>\n",
       "      <td>Adventure</td>\n",
       "    </tr>\n",
       "    <tr>\n",
       "      <td>1</td>\n",
       "      <td>1</td>\n",
       "      <td>Animation</td>\n",
       "    </tr>\n",
       "  </tbody>\n",
       "</table>\n",
       "</div>"
      ],
      "text/plain": [
       "   movieId        tür\n",
       "0        1  Adventure\n",
       "1        1  Animation"
      ]
     },
     "execution_count": 5,
     "metadata": {},
     "output_type": "execute_result"
    }
   ],
   "source": [
    "satırlar = list()\n",
    "for row in film[['movieId', 'tür']].iterrows():\n",
    "    r = row[1]\n",
    "    for tür in r.tür:\n",
    "        satırlar.append((r.movieId, tür))\n",
    "\n",
    "nitelik_df = pd.DataFrame(satırlar, columns=['movieId', 'tür'])\n",
    "nitelik_listesi=nitelik_df.tür.unique().tolist();nitelik_listesi.remove('');nitelik_listesi\n",
    "nitelik_df.head(2)"
   ]
  },
  {
   "cell_type": "code",
   "execution_count": 6,
   "metadata": {
    "ExecuteTime": {
     "end_time": "2019-11-06T20:26:54.623135Z",
     "start_time": "2019-11-06T20:26:54.501813Z"
    },
    "slideshow": {
     "slide_type": "slide"
    }
   },
   "outputs": [
    {
     "data": {
      "text/html": [
       "<div>\n",
       "<style scoped>\n",
       "    .dataframe tbody tr th:only-of-type {\n",
       "        vertical-align: middle;\n",
       "    }\n",
       "\n",
       "    .dataframe tbody tr th {\n",
       "        vertical-align: top;\n",
       "    }\n",
       "\n",
       "    .dataframe thead th {\n",
       "        text-align: right;\n",
       "    }\n",
       "</style>\n",
       "<table border=\"1\" class=\"dataframe\">\n",
       "  <thead>\n",
       "    <tr style=\"text-align: right;\">\n",
       "      <th></th>\n",
       "      <th>userId</th>\n",
       "      <th>movieId</th>\n",
       "      <th>rating</th>\n",
       "      <th>timestamp</th>\n",
       "    </tr>\n",
       "  </thead>\n",
       "  <tbody>\n",
       "    <tr>\n",
       "      <td>0</td>\n",
       "      <td>1</td>\n",
       "      <td>1</td>\n",
       "      <td>4.0</td>\n",
       "      <td>964982703</td>\n",
       "    </tr>\n",
       "    <tr>\n",
       "      <td>1</td>\n",
       "      <td>1</td>\n",
       "      <td>3</td>\n",
       "      <td>4.0</td>\n",
       "      <td>964981247</td>\n",
       "    </tr>\n",
       "  </tbody>\n",
       "</table>\n",
       "</div>"
      ],
      "text/plain": [
       "   userId  movieId  rating  timestamp\n",
       "0       1        1     4.0  964982703\n",
       "1       1        3     4.0  964981247"
      ]
     },
     "execution_count": 6,
     "metadata": {},
     "output_type": "execute_result"
    }
   ],
   "source": [
    "nitelik_df[\"say\"]=1\n",
    "nitelik_pivot=pd.pivot_table(nitelik_df, values=\"say\", index=['movieId'],columns=['tür'], aggfunc=np.sum)\n",
    "nitelik_pivot=pd.pivot_table(nitelik_df, values=\"say\", index=['movieId'],columns=['tür'], aggfunc=np.sum)\n",
    "nitelik_pivot=nitelik_pivot.reset_index()\n",
    "nitelik_pivot.drop([''], axis=1,inplace=True)\n",
    "nitelik_pivot=nitelik_pivot.merge(film[[\"movieId\",\"title\"]],how=\"left\",on=\"movieId\")\n",
    "# #kelimeler_eklenecek=kelimeler_eklenecek.fillna(0)\n",
    "derece=pd.read_csv(\"data/ratings.csv\");derece.head(2)"
   ]
  },
  {
   "cell_type": "code",
   "execution_count": 7,
   "metadata": {
    "ExecuteTime": {
     "end_time": "2019-11-06T20:26:54.976071Z",
     "start_time": "2019-11-06T20:26:54.624137Z"
    },
    "slideshow": {
     "slide_type": "slide"
    }
   },
   "outputs": [],
   "source": [
    "eğitim_verisi=derece.merge(film,how=\"left\",on=\"movieId\")[[\"userId\",\"title\",\"rating\"]]\n",
    "eğitim_verisi_pivot=pd.pivot_table(eğitim_verisi, values=\"rating\", index=['title'],columns=['userId'], aggfunc=np.mean)\n",
    "eğitim_verisi=eğitim_verisi_pivot.reset_index().merge(nitelik_pivot,how=\"left\",on=\"title\")\n",
    "eğitim_verisi.drop(['movieId' ], axis=1,inplace=True)"
   ]
  },
  {
   "cell_type": "code",
   "execution_count": 8,
   "metadata": {
    "ExecuteTime": {
     "end_time": "2019-11-06T20:26:55.043751Z",
     "start_time": "2019-11-06T20:26:54.978577Z"
    },
    "slideshow": {
     "slide_type": "fragment"
    }
   },
   "outputs": [
    {
     "data": {
      "text/html": [
       "<div>\n",
       "<style scoped>\n",
       "    .dataframe tbody tr th:only-of-type {\n",
       "        vertical-align: middle;\n",
       "    }\n",
       "\n",
       "    .dataframe tbody tr th {\n",
       "        vertical-align: top;\n",
       "    }\n",
       "\n",
       "    .dataframe thead th {\n",
       "        text-align: right;\n",
       "    }\n",
       "</style>\n",
       "<table border=\"1\" class=\"dataframe\">\n",
       "  <thead>\n",
       "    <tr style=\"text-align: right;\">\n",
       "      <th></th>\n",
       "      <th>title</th>\n",
       "      <th>1</th>\n",
       "      <th>2</th>\n",
       "      <th>3</th>\n",
       "      <th>4</th>\n",
       "      <th>5</th>\n",
       "      <th>6</th>\n",
       "      <th>7</th>\n",
       "      <th>8</th>\n",
       "      <th>9</th>\n",
       "      <th>...</th>\n",
       "      <th>Mystery</th>\n",
       "      <th>Noir</th>\n",
       "      <th>Romance</th>\n",
       "      <th>Sci</th>\n",
       "      <th>Thriller</th>\n",
       "      <th>War</th>\n",
       "      <th>Western</th>\n",
       "      <th>genres</th>\n",
       "      <th>listed</th>\n",
       "      <th>no</th>\n",
       "    </tr>\n",
       "  </thead>\n",
       "  <tbody>\n",
       "    <tr>\n",
       "      <td>3161</td>\n",
       "      <td>Forrest Gump (1994)</td>\n",
       "      <td>4.0</td>\n",
       "      <td>NaN</td>\n",
       "      <td>NaN</td>\n",
       "      <td>NaN</td>\n",
       "      <td>NaN</td>\n",
       "      <td>5.0</td>\n",
       "      <td>5.0</td>\n",
       "      <td>3.0</td>\n",
       "      <td>NaN</td>\n",
       "      <td>...</td>\n",
       "      <td>NaN</td>\n",
       "      <td>NaN</td>\n",
       "      <td>1.0</td>\n",
       "      <td>NaN</td>\n",
       "      <td>NaN</td>\n",
       "      <td>1.0</td>\n",
       "      <td>NaN</td>\n",
       "      <td>NaN</td>\n",
       "      <td>NaN</td>\n",
       "      <td>NaN</td>\n",
       "    </tr>\n",
       "    <tr>\n",
       "      <td>5515</td>\n",
       "      <td>Matrix, The (1999)</td>\n",
       "      <td>5.0</td>\n",
       "      <td>NaN</td>\n",
       "      <td>NaN</td>\n",
       "      <td>1.0</td>\n",
       "      <td>NaN</td>\n",
       "      <td>NaN</td>\n",
       "      <td>NaN</td>\n",
       "      <td>NaN</td>\n",
       "      <td>NaN</td>\n",
       "      <td>...</td>\n",
       "      <td>NaN</td>\n",
       "      <td>NaN</td>\n",
       "      <td>NaN</td>\n",
       "      <td>1.0</td>\n",
       "      <td>1.0</td>\n",
       "      <td>NaN</td>\n",
       "      <td>NaN</td>\n",
       "      <td>NaN</td>\n",
       "      <td>NaN</td>\n",
       "      <td>NaN</td>\n",
       "    </tr>\n",
       "    <tr>\n",
       "      <td>6868</td>\n",
       "      <td>Pulp Fiction (1994)</td>\n",
       "      <td>3.0</td>\n",
       "      <td>NaN</td>\n",
       "      <td>NaN</td>\n",
       "      <td>1.0</td>\n",
       "      <td>5.0</td>\n",
       "      <td>2.0</td>\n",
       "      <td>NaN</td>\n",
       "      <td>4.0</td>\n",
       "      <td>NaN</td>\n",
       "      <td>...</td>\n",
       "      <td>NaN</td>\n",
       "      <td>NaN</td>\n",
       "      <td>NaN</td>\n",
       "      <td>NaN</td>\n",
       "      <td>1.0</td>\n",
       "      <td>NaN</td>\n",
       "      <td>NaN</td>\n",
       "      <td>NaN</td>\n",
       "      <td>NaN</td>\n",
       "      <td>NaN</td>\n",
       "    </tr>\n",
       "    <tr>\n",
       "      <td>7597</td>\n",
       "      <td>Shawshank Redemption, The (1994)</td>\n",
       "      <td>NaN</td>\n",
       "      <td>3.0</td>\n",
       "      <td>NaN</td>\n",
       "      <td>NaN</td>\n",
       "      <td>3.0</td>\n",
       "      <td>5.0</td>\n",
       "      <td>NaN</td>\n",
       "      <td>5.0</td>\n",
       "      <td>NaN</td>\n",
       "      <td>...</td>\n",
       "      <td>NaN</td>\n",
       "      <td>NaN</td>\n",
       "      <td>NaN</td>\n",
       "      <td>NaN</td>\n",
       "      <td>NaN</td>\n",
       "      <td>NaN</td>\n",
       "      <td>NaN</td>\n",
       "      <td>NaN</td>\n",
       "      <td>NaN</td>\n",
       "      <td>NaN</td>\n",
       "    </tr>\n",
       "    <tr>\n",
       "      <td>7684</td>\n",
       "      <td>Silence of the Lambs, The (1991)</td>\n",
       "      <td>4.0</td>\n",
       "      <td>NaN</td>\n",
       "      <td>NaN</td>\n",
       "      <td>5.0</td>\n",
       "      <td>NaN</td>\n",
       "      <td>4.0</td>\n",
       "      <td>5.0</td>\n",
       "      <td>4.0</td>\n",
       "      <td>NaN</td>\n",
       "      <td>...</td>\n",
       "      <td>NaN</td>\n",
       "      <td>NaN</td>\n",
       "      <td>NaN</td>\n",
       "      <td>NaN</td>\n",
       "      <td>1.0</td>\n",
       "      <td>NaN</td>\n",
       "      <td>NaN</td>\n",
       "      <td>NaN</td>\n",
       "      <td>NaN</td>\n",
       "      <td>NaN</td>\n",
       "    </tr>\n",
       "    <tr>\n",
       "      <td>8005</td>\n",
       "      <td>Star Wars: Episode IV - A New Hope (1977)</td>\n",
       "      <td>5.0</td>\n",
       "      <td>NaN</td>\n",
       "      <td>NaN</td>\n",
       "      <td>5.0</td>\n",
       "      <td>NaN</td>\n",
       "      <td>NaN</td>\n",
       "      <td>5.0</td>\n",
       "      <td>NaN</td>\n",
       "      <td>NaN</td>\n",
       "      <td>...</td>\n",
       "      <td>NaN</td>\n",
       "      <td>NaN</td>\n",
       "      <td>NaN</td>\n",
       "      <td>1.0</td>\n",
       "      <td>NaN</td>\n",
       "      <td>NaN</td>\n",
       "      <td>NaN</td>\n",
       "      <td>NaN</td>\n",
       "      <td>NaN</td>\n",
       "      <td>NaN</td>\n",
       "    </tr>\n",
       "  </tbody>\n",
       "</table>\n",
       "<p>6 rows × 635 columns</p>\n",
       "</div>"
      ],
      "text/plain": [
       "                                          title    1    2   3    4    5    6  \\\n",
       "3161                        Forrest Gump (1994)  4.0  NaN NaN  NaN  NaN  5.0   \n",
       "5515                         Matrix, The (1999)  5.0  NaN NaN  1.0  NaN  NaN   \n",
       "6868                        Pulp Fiction (1994)  3.0  NaN NaN  1.0  5.0  2.0   \n",
       "7597           Shawshank Redemption, The (1994)  NaN  3.0 NaN  NaN  3.0  5.0   \n",
       "7684           Silence of the Lambs, The (1991)  4.0  NaN NaN  5.0  NaN  4.0   \n",
       "8005  Star Wars: Episode IV - A New Hope (1977)  5.0  NaN NaN  5.0  NaN  NaN   \n",
       "\n",
       "        7    8   9  ...  Mystery  Noir  Romance  Sci  Thriller  War  Western  \\\n",
       "3161  5.0  3.0 NaN  ...      NaN   NaN      1.0  NaN       NaN  1.0      NaN   \n",
       "5515  NaN  NaN NaN  ...      NaN   NaN      NaN  1.0       1.0  NaN      NaN   \n",
       "6868  NaN  4.0 NaN  ...      NaN   NaN      NaN  NaN       1.0  NaN      NaN   \n",
       "7597  NaN  5.0 NaN  ...      NaN   NaN      NaN  NaN       NaN  NaN      NaN   \n",
       "7684  5.0  4.0 NaN  ...      NaN   NaN      NaN  NaN       1.0  NaN      NaN   \n",
       "8005  5.0  NaN NaN  ...      NaN   NaN      NaN  1.0       NaN  NaN      NaN   \n",
       "\n",
       "      genres  listed  no  \n",
       "3161     NaN     NaN NaN  \n",
       "5515     NaN     NaN NaN  \n",
       "6868     NaN     NaN NaN  \n",
       "7597     NaN     NaN NaN  \n",
       "7684     NaN     NaN NaN  \n",
       "8005     NaN     NaN NaN  \n",
       "\n",
       "[6 rows x 635 columns]"
      ]
     },
     "execution_count": 8,
     "metadata": {},
     "output_type": "execute_result"
    }
   ],
   "source": [
    "eğitim_verisi.dropna(thresh=250)"
   ]
  },
  {
   "cell_type": "markdown",
   "metadata": {
    "slideshow": {
     "slide_type": "slide"
    }
   },
   "source": [
    "##  Örnek Film- İzleyici (Kullanıcı) Puan Tahmini"
   ]
  },
  {
   "cell_type": "markdown",
   "metadata": {
    "slideshow": {
     "slide_type": "fragment"
    }
   },
   "source": [
    "### Notasyon\n",
    "\n",
    "\n",
    "<br>\n",
    "\n",
    "<p style=\"font-size:100%;\">  $n_u$  : Kullanıcı Sayısı  </p>\n",
    "\n",
    "<p style=\"font-size:100%;\"> $ n_m $ : Film Sayısı </p>\n",
    "\n",
    "<p style=\"font-size:100%;\">  Film indisi= $i$ ,   kullanıcı indisi=$j $  </p>\n",
    "\n",
    "<p style=\"font-size:100%;\"> $ r_{(i,j)} $ : Eğer kullanıcı filmi puanladı ise 1 </p>\n",
    "\n",
    "<p style=\"font-size:100%;\"> $y_{(i,j)}$  : indis $(i,j)=1$ iken verilen puanın değeri</p> <br>\n",
    "\n",
    " \n",
    "\n"
   ]
  },
  {
   "attachments": {},
   "cell_type": "markdown",
   "metadata": {
    "slideshow": {
     "slide_type": "slide"
    }
   },
   "source": [
    "![image.png](data/yıldız.png)"
   ]
  },
  {
   "cell_type": "code",
   "execution_count": 9,
   "metadata": {
    "ExecuteTime": {
     "end_time": "2019-11-06T20:26:55.054780Z",
     "start_time": "2019-11-06T20:26:55.045756Z"
    },
    "slideshow": {
     "slide_type": "slide"
    }
   },
   "outputs": [
    {
     "name": "stdout",
     "output_type": "stream",
     "text": [
      "Kullanıcı Sayısı 611 kişidir.\n"
     ]
    }
   ],
   "source": [
    "nu=len(eğitim_verisi.columns)-len(nitelik_listesi);print(\"Kullanıcı Sayısı\" ,nu,\"kişidir.\")"
   ]
  },
  {
   "cell_type": "code",
   "execution_count": 10,
   "metadata": {
    "ExecuteTime": {
     "end_time": "2019-11-06T20:26:55.064806Z",
     "start_time": "2019-11-06T20:26:55.056786Z"
    },
    "slideshow": {
     "slide_type": "fragment"
    }
   },
   "outputs": [
    {
     "name": "stdout",
     "output_type": "stream",
     "text": [
      "Film Sayısı 9724 kişidir.\n"
     ]
    }
   ],
   "source": [
    "nm=eğitim_verisi.shape[0];print(\"Film Sayısı\" ,nm,\"kişidir.\")"
   ]
  },
  {
   "cell_type": "code",
   "execution_count": 11,
   "metadata": {
    "ExecuteTime": {
     "end_time": "2019-11-06T20:26:55.127472Z",
     "start_time": "2019-11-06T20:26:55.066812Z"
    },
    "slideshow": {
     "slide_type": "fragment"
    }
   },
   "outputs": [
    {
     "data": {
      "text/html": [
       "<div>\n",
       "<style scoped>\n",
       "    .dataframe tbody tr th:only-of-type {\n",
       "        vertical-align: middle;\n",
       "    }\n",
       "\n",
       "    .dataframe tbody tr th {\n",
       "        vertical-align: top;\n",
       "    }\n",
       "\n",
       "    .dataframe thead th {\n",
       "        text-align: right;\n",
       "    }\n",
       "</style>\n",
       "<table border=\"1\" class=\"dataframe\">\n",
       "  <thead>\n",
       "    <tr style=\"text-align: right;\">\n",
       "      <th></th>\n",
       "      <th>title</th>\n",
       "      <th>Adventure</th>\n",
       "      <th>Animation</th>\n",
       "      <th>Children</th>\n",
       "      <th>Comedy</th>\n",
       "      <th>Fantasy</th>\n",
       "      <th>Romance</th>\n",
       "      <th>Drama</th>\n",
       "      <th>Action</th>\n",
       "      <th>Crime</th>\n",
       "      <th>...</th>\n",
       "      <th>War</th>\n",
       "      <th>Musical</th>\n",
       "      <th>Documentary</th>\n",
       "      <th>IMAX</th>\n",
       "      <th>Western</th>\n",
       "      <th>Film</th>\n",
       "      <th>Noir</th>\n",
       "      <th>no</th>\n",
       "      <th>genres</th>\n",
       "      <th>listed</th>\n",
       "    </tr>\n",
       "  </thead>\n",
       "  <tbody>\n",
       "    <tr>\n",
       "      <td>405</td>\n",
       "      <td>American Beauty (1999)</td>\n",
       "      <td>NaN</td>\n",
       "      <td>NaN</td>\n",
       "      <td>NaN</td>\n",
       "      <td>NaN</td>\n",
       "      <td>NaN</td>\n",
       "      <td>1.0</td>\n",
       "      <td>1.0</td>\n",
       "      <td>NaN</td>\n",
       "      <td>NaN</td>\n",
       "      <td>...</td>\n",
       "      <td>NaN</td>\n",
       "      <td>NaN</td>\n",
       "      <td>NaN</td>\n",
       "      <td>NaN</td>\n",
       "      <td>NaN</td>\n",
       "      <td>NaN</td>\n",
       "      <td>NaN</td>\n",
       "      <td>NaN</td>\n",
       "      <td>NaN</td>\n",
       "      <td>NaN</td>\n",
       "    </tr>\n",
       "    <tr>\n",
       "      <td>565</td>\n",
       "      <td>Apollo 13 (1995)</td>\n",
       "      <td>1.0</td>\n",
       "      <td>NaN</td>\n",
       "      <td>NaN</td>\n",
       "      <td>NaN</td>\n",
       "      <td>NaN</td>\n",
       "      <td>NaN</td>\n",
       "      <td>1.0</td>\n",
       "      <td>NaN</td>\n",
       "      <td>NaN</td>\n",
       "      <td>...</td>\n",
       "      <td>NaN</td>\n",
       "      <td>NaN</td>\n",
       "      <td>NaN</td>\n",
       "      <td>1.0</td>\n",
       "      <td>NaN</td>\n",
       "      <td>NaN</td>\n",
       "      <td>NaN</td>\n",
       "      <td>NaN</td>\n",
       "      <td>NaN</td>\n",
       "      <td>NaN</td>\n",
       "    </tr>\n",
       "    <tr>\n",
       "      <td>1337</td>\n",
       "      <td>Braveheart (1995)</td>\n",
       "      <td>NaN</td>\n",
       "      <td>NaN</td>\n",
       "      <td>NaN</td>\n",
       "      <td>NaN</td>\n",
       "      <td>NaN</td>\n",
       "      <td>NaN</td>\n",
       "      <td>1.0</td>\n",
       "      <td>1.0</td>\n",
       "      <td>NaN</td>\n",
       "      <td>...</td>\n",
       "      <td>1.0</td>\n",
       "      <td>NaN</td>\n",
       "      <td>NaN</td>\n",
       "      <td>NaN</td>\n",
       "      <td>NaN</td>\n",
       "      <td>NaN</td>\n",
       "      <td>NaN</td>\n",
       "      <td>NaN</td>\n",
       "      <td>NaN</td>\n",
       "      <td>NaN</td>\n",
       "    </tr>\n",
       "    <tr>\n",
       "      <td>3014</td>\n",
       "      <td>Fight Club (1999)</td>\n",
       "      <td>NaN</td>\n",
       "      <td>NaN</td>\n",
       "      <td>NaN</td>\n",
       "      <td>NaN</td>\n",
       "      <td>NaN</td>\n",
       "      <td>NaN</td>\n",
       "      <td>1.0</td>\n",
       "      <td>1.0</td>\n",
       "      <td>1.0</td>\n",
       "      <td>...</td>\n",
       "      <td>NaN</td>\n",
       "      <td>NaN</td>\n",
       "      <td>NaN</td>\n",
       "      <td>NaN</td>\n",
       "      <td>NaN</td>\n",
       "      <td>NaN</td>\n",
       "      <td>NaN</td>\n",
       "      <td>NaN</td>\n",
       "      <td>NaN</td>\n",
       "      <td>NaN</td>\n",
       "    </tr>\n",
       "    <tr>\n",
       "      <td>3161</td>\n",
       "      <td>Forrest Gump (1994)</td>\n",
       "      <td>NaN</td>\n",
       "      <td>NaN</td>\n",
       "      <td>NaN</td>\n",
       "      <td>1.0</td>\n",
       "      <td>NaN</td>\n",
       "      <td>1.0</td>\n",
       "      <td>1.0</td>\n",
       "      <td>NaN</td>\n",
       "      <td>NaN</td>\n",
       "      <td>...</td>\n",
       "      <td>1.0</td>\n",
       "      <td>NaN</td>\n",
       "      <td>NaN</td>\n",
       "      <td>NaN</td>\n",
       "      <td>NaN</td>\n",
       "      <td>NaN</td>\n",
       "      <td>NaN</td>\n",
       "      <td>NaN</td>\n",
       "      <td>NaN</td>\n",
       "      <td>NaN</td>\n",
       "    </tr>\n",
       "  </tbody>\n",
       "</table>\n",
       "<p>5 rows × 25 columns</p>\n",
       "</div>"
      ],
      "text/plain": [
       "                       title  Adventure  Animation  Children  Comedy  Fantasy  \\\n",
       "405   American Beauty (1999)        NaN        NaN       NaN     NaN      NaN   \n",
       "565         Apollo 13 (1995)        1.0        NaN       NaN     NaN      NaN   \n",
       "1337       Braveheart (1995)        NaN        NaN       NaN     NaN      NaN   \n",
       "3014       Fight Club (1999)        NaN        NaN       NaN     NaN      NaN   \n",
       "3161     Forrest Gump (1994)        NaN        NaN       NaN     1.0      NaN   \n",
       "\n",
       "      Romance  Drama  Action  Crime  ...  War  Musical  Documentary  IMAX  \\\n",
       "405       1.0    1.0     NaN    NaN  ...  NaN      NaN          NaN   NaN   \n",
       "565       NaN    1.0     NaN    NaN  ...  NaN      NaN          NaN   1.0   \n",
       "1337      NaN    1.0     1.0    NaN  ...  1.0      NaN          NaN   NaN   \n",
       "3014      NaN    1.0     1.0    1.0  ...  NaN      NaN          NaN   NaN   \n",
       "3161      1.0    1.0     NaN    NaN  ...  1.0      NaN          NaN   NaN   \n",
       "\n",
       "      Western  Film  Noir  no  genres  listed  \n",
       "405       NaN   NaN   NaN NaN     NaN     NaN  \n",
       "565       NaN   NaN   NaN NaN     NaN     NaN  \n",
       "1337      NaN   NaN   NaN NaN     NaN     NaN  \n",
       "3014      NaN   NaN   NaN NaN     NaN     NaN  \n",
       "3161      NaN   NaN   NaN NaN     NaN     NaN  \n",
       "\n",
       "[5 rows x 25 columns]"
      ]
     },
     "execution_count": 11,
     "metadata": {},
     "output_type": "execute_result"
    }
   ],
   "source": [
    "eğitim_verisi.dropna(thresh=200)[[\"title\"]+nitelik_listesi].head(5)"
   ]
  },
  {
   "cell_type": "markdown",
   "metadata": {
    "slideshow": {
     "slide_type": "slide"
    }
   },
   "source": [
    "## İçerik Üzerinden Puanlama"
   ]
  },
  {
   "cell_type": "markdown",
   "metadata": {
    "slideshow": {
     "slide_type": "fragment"
    }
   },
   "source": [
    "### Problemin Formulleştirilmesi"
   ]
  },
  {
   "cell_type": "markdown",
   "metadata": {
    "ExecuteTime": {
     "end_time": "2019-10-16T17:09:43.728221Z",
     "start_time": "2019-10-16T17:09:43.724223Z"
    },
    "slideshow": {
     "slide_type": "fragment"
    }
   },
   "source": [
    " <br>\n",
    "\n",
    "<p style=\"font-size:120%;\">   Her bir kullanıcı için katsayısı ($\\theta$) öğrenilir. Ardından bu katsayılar ile niteliklerin (x) değerleri çarpılarak tahmini puanlar hesaplanır.</p> \n",
    " <br>"
   ]
  },
  {
   "cell_type": "markdown",
   "metadata": {
    "ExecuteTime": {
     "end_time": "2019-10-16T17:15:04.369280Z",
     "start_time": "2019-10-16T17:15:04.365291Z"
    },
    "slideshow": {
     "slide_type": "fragment"
    }
   },
   "source": [
    "\n",
    "<p style=\"font-size:150%;\"> Formül : $   (\\theta^j)^T *x_i $ </p> \n",
    "\n"
   ]
  },
  {
   "cell_type": "markdown",
   "metadata": {
    "slideshow": {
     "slide_type": "fragment"
    }
   },
   "source": [
    " \n",
    "\n",
    "<p style=\"font-size:120%;\">  $r^{(i,j)}$ : Eğer kullanıcı filmi puanladı ise 1 </p>\n",
    "\n",
    "\n",
    "<p style=\"font-size:120%;\">$y^{(i,j)}$  : indis (i,j)=1 iken verilen puanın değeri</p> <br>\n",
    "\n",
    "\n",
    "<p style=\"font-size:120%;\">  $\\theta^{(j)}$  : j kullanıcı için katsayı vektörü </p> <br>\n",
    "\n",
    "<p style=\"font-size:120%;\">  $x^{(i)}$  : i filmi  için nitelik vektörü </p> <br>\n",
    "<p style=\"font-size:120%;\">  Her bir kullanıcı için tahmini puan $  (\\theta^{(j)})^T *x_i$  </p> \n",
    "<p style=\"font-size:120%;\">  $  m^{(j)} $:  $j$ kullanıcısı tarafından puanlanan toplam film adedi    </p> \n",
    " "
   ]
  },
  {
   "cell_type": "markdown",
   "metadata": {
    "slideshow": {
     "slide_type": "slide"
    }
   },
   "source": [
    "\n",
    "<p style=\"font-size:120%;\">  j kullanıcısı için katsayı($\\theta_j$) hesaplanması : </p> "
   ]
  },
  {
   "cell_type": "markdown",
   "metadata": {
    "slideshow": {
     "slide_type": "fragment"
    }
   },
   "source": [
    "<p style=\"font-size:120%;\">  $min_{\\theta^{(j)}} 1/2 \\begin{equation}\\sum_{i:r(i,j)=1} ((\\theta^j)^T *x_i - y^{(i,j)})^2 \\end{equation} $ </p>"
   ]
  },
  {
   "cell_type": "markdown",
   "metadata": {
    "ExecuteTime": {
     "end_time": "2019-10-16T18:13:49.697746Z",
     "start_time": "2019-10-16T18:13:49.693736Z"
    },
    "slideshow": {
     "slide_type": "fragment"
    }
   },
   "source": [
    "<p style=\"font-size:120%;\">  $min_{\\theta^j} 1/2 \\begin{equation}\\sum_{i:r(i,j)=1} ((\\theta^j)^T *x_i - y^{(i,j)})^2 \\ + \\lambda/2 \\sum_{k=1}^n (\\theta_k^j)^2 \\end{equation} $ </p>"
   ]
  },
  {
   "cell_type": "markdown",
   "metadata": {
    "ExecuteTime": {
     "end_time": "2019-10-27T11:58:58.437044Z",
     "start_time": "2019-10-27T11:58:58.434047Z"
    },
    "slideshow": {
     "slide_type": "slide"
    }
   },
   "source": [
    "### Optimizasyon Hedefi"
   ]
  },
  {
   "cell_type": "markdown",
   "metadata": {
    "slideshow": {
     "slide_type": "fragment"
    }
   },
   "source": [
    "<p style=\"font-size:120%;\">*   $ \\theta^{(j)} $ katsayısını j kullanıcısı için hesaplamak için kullanılacak formül :   </p>\n",
    "<p style=\"font-size:120%;\">  $min_{\\theta^j} 1/2 \\begin{equation}\\sum_{i:r(i,j)=1} ((\\theta^j)^T *x_i - y^{(i,j)})^2 \\ + \\lambda/2 \\sum_{k=1}^n (\\theta_k^j)^2 \\end{equation} $ </p>"
   ]
  },
  {
   "cell_type": "markdown",
   "metadata": {
    "ExecuteTime": {
     "end_time": "2019-10-27T12:02:03.704384Z",
     "start_time": "2019-10-27T12:02:03.698354Z"
    },
    "slideshow": {
     "slide_type": "fragment"
    }
   },
   "source": [
    "<p style=\"font-size:120%;\"> * $ \\theta^{(1)} ,\\theta^{(2)} ,\\theta^{(3)},...,\\theta^{(n_u)} $ katsayılarını için hesaplamak için kullanılacak formül :   </p>\n",
    "<p style=\"font-size:120%;\">  $min_{\\theta^{(1)} ,..,\\theta^{(n_u)}} 1/2 \\begin{equation}\\sum_{i:r(i,j)=1} ((\\theta^j)^T *x_i - y^{(i,j)})^2 \\ + \\lambda/2 \\sum_{j=1}^{n_u}  \\sum_{k=1}^n (\\theta_k^j)^2 \\end{equation} $ </p>"
   ]
  },
  {
   "cell_type": "markdown",
   "metadata": {
    "ExecuteTime": {
     "end_time": "2019-10-27T12:15:57.326076Z",
     "start_time": "2019-10-27T12:15:57.324070Z"
    },
    "slideshow": {
     "slide_type": "slide"
    }
   },
   "source": [
    "### Optimizasyon Algoritması"
   ]
  },
  {
   "cell_type": "markdown",
   "metadata": {
    "ExecuteTime": {
     "end_time": "2019-10-27T12:10:29.263012Z",
     "start_time": "2019-10-27T12:10:29.256996Z"
    },
    "slideshow": {
     "slide_type": "fragment"
    }
   },
   "source": [
    "<p style=\"font-size:120%;\">  \\begin{equation}   J_{(\\theta^{(1)} ,..,\\theta^{(n_u)})}=1/2*\\sum_{i:r(i,j)=1} ((\\theta^j)^T *x_i - y^{(i,j)})^2 \\ + \\lambda/2 \\sum_{j=1}^{n_u}  \\sum_{k=1}^n (\\theta_k^j)^2 \\end{equation}   </p>"
   ]
  },
  {
   "cell_type": "markdown",
   "metadata": {
    "slideshow": {
     "slide_type": "slide"
    }
   },
   "source": [
    "<p style=\"font-size:120%;\"> Dereceli Azaltma:     </p>"
   ]
  },
  {
   "cell_type": "markdown",
   "metadata": {
    "ExecuteTime": {
     "end_time": "2019-10-27T12:14:36.418282Z",
     "start_time": "2019-10-27T12:14:36.413268Z"
    },
    "slideshow": {
     "slide_type": "fragment"
    }
   },
   "source": [
    "<p style=\"font-size:120%;\">\\begin{equation}\\ \\theta_k^{(j)}      := \\theta_k^{(j)}-a*\\sum_{i:r(i,j)=1} ((\\theta^{(j)})^T *x^{(i)} - y^{(i,j)})*x^{(i)} \\ \\    \\    \\       \\ (k=0  \\    \\ için)  \\end{equation}</p>\n",
    "\n",
    "<p style=\"font-size:120%;\">\\begin{equation}\\ \\theta_k^{(j)}      := \\theta_k^{(j)}-a*(\\sum_{i:r(i,j)=1} ((\\theta^{(j)})^T *x^{(i)} - y^{(i,j)})*x^{(i)} + \\lambda*\\theta_k^{(j)} )\\ \\    \\    \\       \\  (k\\neq0  \\    \\ için)  \\end{equation}</p>"
   ]
  },
  {
   "cell_type": "markdown",
   "metadata": {
    "ExecuteTime": {
     "end_time": "2019-10-27T12:46:35.386130Z",
     "start_time": "2019-10-27T12:46:35.380114Z"
    },
    "slideshow": {
     "slide_type": "fragment"
    }
   },
   "source": [
    "\n",
    "<p style=\"font-size:120%;\">\\begin{equation}\\  \\frac{\\partial J(\\theta_0,\\theta_1,...\\theta_n)}{\\partial \\theta_k^{(j)}}=(\\sum_{i:r(i,j)=1} ((\\theta^{(j)})^T *x^{(i)} - y^{(i,j)})*x^{(i)} + \\lambda*\\theta_k^{(j)} )\\     \\end{equation}</p>"
   ]
  },
  {
   "cell_type": "markdown",
   "metadata": {
    "slideshow": {
     "slide_type": "slide"
    }
   },
   "source": [
    "### İşbirliğine Dayalı Filtreleme (collaborative filtering)"
   ]
  },
  {
   "cell_type": "code",
   "execution_count": 12,
   "metadata": {
    "ExecuteTime": {
     "end_time": "2019-11-06T20:26:57.426803Z",
     "start_time": "2019-11-06T20:26:57.409216Z"
    },
    "slideshow": {
     "slide_type": "fragment"
    }
   },
   "outputs": [
    {
     "data": {
      "text/html": [
       "<div>\n",
       "<style scoped>\n",
       "    .dataframe tbody tr th:only-of-type {\n",
       "        vertical-align: middle;\n",
       "    }\n",
       "\n",
       "    .dataframe tbody tr th {\n",
       "        vertical-align: top;\n",
       "    }\n",
       "\n",
       "    .dataframe thead th {\n",
       "        text-align: right;\n",
       "    }\n",
       "</style>\n",
       "<table border=\"1\" class=\"dataframe\">\n",
       "  <thead>\n",
       "    <tr style=\"text-align: right;\">\n",
       "      <th></th>\n",
       "      <th>610</th>\n",
       "      <th>448</th>\n",
       "      <th>599</th>\n",
       "      <th>474</th>\n",
       "      <th>414</th>\n",
       "      <th>380</th>\n",
       "      <th>274</th>\n",
       "      <th>606</th>\n",
       "      <th>Thriller</th>\n",
       "      <th>Comedy</th>\n",
       "      <th>Drama</th>\n",
       "      <th>Action</th>\n",
       "      <th>Romance</th>\n",
       "    </tr>\n",
       "    <tr>\n",
       "      <th>title</th>\n",
       "      <th></th>\n",
       "      <th></th>\n",
       "      <th></th>\n",
       "      <th></th>\n",
       "      <th></th>\n",
       "      <th></th>\n",
       "      <th></th>\n",
       "      <th></th>\n",
       "      <th></th>\n",
       "      <th></th>\n",
       "      <th></th>\n",
       "      <th></th>\n",
       "      <th></th>\n",
       "    </tr>\n",
       "  </thead>\n",
       "  <tbody>\n",
       "    <tr>\n",
       "      <td>Apocalypse Now (1979)</td>\n",
       "      <td>5.0</td>\n",
       "      <td>4.0</td>\n",
       "      <td>5.0</td>\n",
       "      <td>3.5</td>\n",
       "      <td>5.0</td>\n",
       "      <td>4.0</td>\n",
       "      <td>4.0</td>\n",
       "      <td>4.5</td>\n",
       "      <td>NaN</td>\n",
       "      <td>NaN</td>\n",
       "      <td>1.0</td>\n",
       "      <td>1.0</td>\n",
       "      <td>NaN</td>\n",
       "    </tr>\n",
       "    <tr>\n",
       "      <td>Batman (1989)</td>\n",
       "      <td>4.5</td>\n",
       "      <td>3.0</td>\n",
       "      <td>3.5</td>\n",
       "      <td>4.0</td>\n",
       "      <td>4.0</td>\n",
       "      <td>3.0</td>\n",
       "      <td>3.0</td>\n",
       "      <td>3.5</td>\n",
       "      <td>1.0</td>\n",
       "      <td>NaN</td>\n",
       "      <td>NaN</td>\n",
       "      <td>1.0</td>\n",
       "      <td>NaN</td>\n",
       "    </tr>\n",
       "    <tr>\n",
       "      <td>Beverly Hills Cop (1984)</td>\n",
       "      <td>NaN</td>\n",
       "      <td>5.0</td>\n",
       "      <td>3.5</td>\n",
       "      <td>2.0</td>\n",
       "      <td>4.0</td>\n",
       "      <td>4.0</td>\n",
       "      <td>4.0</td>\n",
       "      <td>2.5</td>\n",
       "      <td>NaN</td>\n",
       "      <td>1.0</td>\n",
       "      <td>1.0</td>\n",
       "      <td>1.0</td>\n",
       "      <td>NaN</td>\n",
       "    </tr>\n",
       "    <tr>\n",
       "      <td>Big (1988)</td>\n",
       "      <td>NaN</td>\n",
       "      <td>4.0</td>\n",
       "      <td>3.5</td>\n",
       "      <td>4.0</td>\n",
       "      <td>4.0</td>\n",
       "      <td>3.0</td>\n",
       "      <td>3.0</td>\n",
       "      <td>3.0</td>\n",
       "      <td>NaN</td>\n",
       "      <td>1.0</td>\n",
       "      <td>1.0</td>\n",
       "      <td>NaN</td>\n",
       "      <td>1.0</td>\n",
       "    </tr>\n",
       "    <tr>\n",
       "      <td>Blade Runner (1982)</td>\n",
       "      <td>5.0</td>\n",
       "      <td>4.0</td>\n",
       "      <td>4.5</td>\n",
       "      <td>3.0</td>\n",
       "      <td>5.0</td>\n",
       "      <td>5.0</td>\n",
       "      <td>2.5</td>\n",
       "      <td>5.0</td>\n",
       "      <td>1.0</td>\n",
       "      <td>NaN</td>\n",
       "      <td>NaN</td>\n",
       "      <td>1.0</td>\n",
       "      <td>NaN</td>\n",
       "    </tr>\n",
       "  </tbody>\n",
       "</table>\n",
       "</div>"
      ],
      "text/plain": [
       "                          610  448  599  474  414  380  274  606  Thriller  \\\n",
       "title                                                                        \n",
       "Apocalypse Now (1979)     5.0  4.0  5.0  3.5  5.0  4.0  4.0  4.5       NaN   \n",
       "Batman (1989)             4.5  3.0  3.5  4.0  4.0  3.0  3.0  3.5       1.0   \n",
       "Beverly Hills Cop (1984)  NaN  5.0  3.5  2.0  4.0  4.0  4.0  2.5       NaN   \n",
       "Big (1988)                NaN  4.0  3.5  4.0  4.0  3.0  3.0  3.0       NaN   \n",
       "Blade Runner (1982)       5.0  4.0  4.5  3.0  5.0  5.0  2.5  5.0       1.0   \n",
       "\n",
       "                          Comedy  Drama  Action  Romance  \n",
       "title                                                     \n",
       "Apocalypse Now (1979)        NaN    1.0     1.0      NaN  \n",
       "Batman (1989)                NaN    NaN     1.0      NaN  \n",
       "Beverly Hills Cop (1984)     1.0    1.0     1.0      NaN  \n",
       "Big (1988)                   1.0    1.0     NaN      1.0  \n",
       "Blade Runner (1982)          NaN    NaN     1.0      NaN  "
      ]
     },
     "execution_count": 12,
     "metadata": {},
     "output_type": "execute_result"
    }
   ],
   "source": [
    "örnek_listesi=[\"title\", 610 , 448 , 599 , 474 , 414,380,274,606,\"Thriller\",  \"Comedy\",\"Drama\",\"Action\",\"Romance\" ]  \n",
    "örnek_veri=eğitim_verisi[örnek_listesi].dropna(thresh=11)\n",
    "örnek_veri.set_index([\"title\"],inplace=True);örnek_veri.head(5)"
   ]
  },
  {
   "cell_type": "markdown",
   "metadata": {
    "ExecuteTime": {
     "end_time": "2019-10-27T13:02:27.774304Z",
     "start_time": "2019-10-27T13:02:27.769791Z"
    },
    "slideshow": {
     "slide_type": "slide"
    }
   },
   "source": [
    "\n",
    "    \n",
    "    \n",
    "    \n",
    "  \n",
    "    \n",
    "<p style=\"font-size:180%;\">    Nitelik Listesi </p>     \n",
    "<p style=\"font-size:120%;\">      *Thriller(x1) </p> \n",
    "<p style=\"font-size:120%;\">     *Comedy(x2) </p> \n",
    "<p style=\"font-size:120%;\">      *Drama(x3)  </p> \n",
    "<p style=\"font-size:120%;\">      *Action(x4) </p> \n",
    "<p style=\"font-size:120%;\">       *Romance(x5) </p> "
   ]
  },
  {
   "cell_type": "code",
   "execution_count": 13,
   "metadata": {
    "ExecuteTime": {
     "end_time": "2019-11-06T20:26:57.654939Z",
     "start_time": "2019-11-06T20:26:57.637393Z"
    },
    "slideshow": {
     "slide_type": "slide"
    }
   },
   "outputs": [
    {
     "data": {
      "text/html": [
       "<div>\n",
       "<style scoped>\n",
       "    .dataframe tbody tr th:only-of-type {\n",
       "        vertical-align: middle;\n",
       "    }\n",
       "\n",
       "    .dataframe tbody tr th {\n",
       "        vertical-align: top;\n",
       "    }\n",
       "\n",
       "    .dataframe thead th {\n",
       "        text-align: right;\n",
       "    }\n",
       "</style>\n",
       "<table border=\"1\" class=\"dataframe\">\n",
       "  <thead>\n",
       "    <tr style=\"text-align: right;\">\n",
       "      <th></th>\n",
       "      <th>610(theta0)</th>\n",
       "      <th>448(theta1)</th>\n",
       "      <th>599(theta2)</th>\n",
       "      <th>474(theta3)</th>\n",
       "      <th>414(theta4)</th>\n",
       "      <th>380(theta5)</th>\n",
       "      <th>274(theta6)</th>\n",
       "      <th>606(theta7)</th>\n",
       "      <th>Yanlılık(x0)</th>\n",
       "      <th>Thriller(x1)</th>\n",
       "      <th>Comedy(x2)</th>\n",
       "      <th>Drama(x3)</th>\n",
       "      <th>Action(x4)</th>\n",
       "      <th>Romance(x5)</th>\n",
       "    </tr>\n",
       "    <tr>\n",
       "      <th>title</th>\n",
       "      <th></th>\n",
       "      <th></th>\n",
       "      <th></th>\n",
       "      <th></th>\n",
       "      <th></th>\n",
       "      <th></th>\n",
       "      <th></th>\n",
       "      <th></th>\n",
       "      <th></th>\n",
       "      <th></th>\n",
       "      <th></th>\n",
       "      <th></th>\n",
       "      <th></th>\n",
       "      <th></th>\n",
       "    </tr>\n",
       "  </thead>\n",
       "  <tbody>\n",
       "    <tr>\n",
       "      <td>Apocalypse Now (1979)</td>\n",
       "      <td>5.0</td>\n",
       "      <td>4.0</td>\n",
       "      <td>5.0</td>\n",
       "      <td>3.5</td>\n",
       "      <td>5.0</td>\n",
       "      <td>4.0</td>\n",
       "      <td>4.0</td>\n",
       "      <td>4.5</td>\n",
       "      <td>1</td>\n",
       "      <td>NaN</td>\n",
       "      <td>NaN</td>\n",
       "      <td>1.0</td>\n",
       "      <td>1.0</td>\n",
       "      <td>NaN</td>\n",
       "    </tr>\n",
       "    <tr>\n",
       "      <td>Batman (1989)</td>\n",
       "      <td>4.5</td>\n",
       "      <td>3.0</td>\n",
       "      <td>3.5</td>\n",
       "      <td>4.0</td>\n",
       "      <td>4.0</td>\n",
       "      <td>3.0</td>\n",
       "      <td>3.0</td>\n",
       "      <td>3.5</td>\n",
       "      <td>1</td>\n",
       "      <td>1.0</td>\n",
       "      <td>NaN</td>\n",
       "      <td>NaN</td>\n",
       "      <td>1.0</td>\n",
       "      <td>NaN</td>\n",
       "    </tr>\n",
       "    <tr>\n",
       "      <td>Beverly Hills Cop (1984)</td>\n",
       "      <td>NaN</td>\n",
       "      <td>5.0</td>\n",
       "      <td>3.5</td>\n",
       "      <td>2.0</td>\n",
       "      <td>4.0</td>\n",
       "      <td>4.0</td>\n",
       "      <td>4.0</td>\n",
       "      <td>2.5</td>\n",
       "      <td>1</td>\n",
       "      <td>NaN</td>\n",
       "      <td>1.0</td>\n",
       "      <td>1.0</td>\n",
       "      <td>1.0</td>\n",
       "      <td>NaN</td>\n",
       "    </tr>\n",
       "    <tr>\n",
       "      <td>Big (1988)</td>\n",
       "      <td>NaN</td>\n",
       "      <td>4.0</td>\n",
       "      <td>3.5</td>\n",
       "      <td>4.0</td>\n",
       "      <td>4.0</td>\n",
       "      <td>3.0</td>\n",
       "      <td>3.0</td>\n",
       "      <td>3.0</td>\n",
       "      <td>1</td>\n",
       "      <td>NaN</td>\n",
       "      <td>1.0</td>\n",
       "      <td>1.0</td>\n",
       "      <td>NaN</td>\n",
       "      <td>1.0</td>\n",
       "    </tr>\n",
       "    <tr>\n",
       "      <td>Blade Runner (1982)</td>\n",
       "      <td>5.0</td>\n",
       "      <td>4.0</td>\n",
       "      <td>4.5</td>\n",
       "      <td>3.0</td>\n",
       "      <td>5.0</td>\n",
       "      <td>5.0</td>\n",
       "      <td>2.5</td>\n",
       "      <td>5.0</td>\n",
       "      <td>1</td>\n",
       "      <td>1.0</td>\n",
       "      <td>NaN</td>\n",
       "      <td>NaN</td>\n",
       "      <td>1.0</td>\n",
       "      <td>NaN</td>\n",
       "    </tr>\n",
       "  </tbody>\n",
       "</table>\n",
       "</div>"
      ],
      "text/plain": [
       "                          610(theta0)  448(theta1)  599(theta2)  474(theta3)  \\\n",
       "title                                                                          \n",
       "Apocalypse Now (1979)             5.0          4.0          5.0          3.5   \n",
       "Batman (1989)                     4.5          3.0          3.5          4.0   \n",
       "Beverly Hills Cop (1984)          NaN          5.0          3.5          2.0   \n",
       "Big (1988)                        NaN          4.0          3.5          4.0   \n",
       "Blade Runner (1982)               5.0          4.0          4.5          3.0   \n",
       "\n",
       "                          414(theta4)  380(theta5)  274(theta6)  606(theta7)  \\\n",
       "title                                                                          \n",
       "Apocalypse Now (1979)             5.0          4.0          4.0          4.5   \n",
       "Batman (1989)                     4.0          3.0          3.0          3.5   \n",
       "Beverly Hills Cop (1984)          4.0          4.0          4.0          2.5   \n",
       "Big (1988)                        4.0          3.0          3.0          3.0   \n",
       "Blade Runner (1982)               5.0          5.0          2.5          5.0   \n",
       "\n",
       "                          Yanlılık(x0)  Thriller(x1)  Comedy(x2)  Drama(x3)  \\\n",
       "title                                                                         \n",
       "Apocalypse Now (1979)                1           NaN         NaN        1.0   \n",
       "Batman (1989)                        1           1.0         NaN        NaN   \n",
       "Beverly Hills Cop (1984)             1           NaN         1.0        1.0   \n",
       "Big (1988)                           1           NaN         1.0        1.0   \n",
       "Blade Runner (1982)                  1           1.0         NaN        NaN   \n",
       "\n",
       "                          Action(x4)  Romance(x5)  \n",
       "title                                              \n",
       "Apocalypse Now (1979)            1.0          NaN  \n",
       "Batman (1989)                    1.0          NaN  \n",
       "Beverly Hills Cop (1984)         1.0          NaN  \n",
       "Big (1988)                       NaN          1.0  \n",
       "Blade Runner (1982)              1.0          NaN  "
      ]
     },
     "execution_count": 13,
     "metadata": {},
     "output_type": "execute_result"
    }
   ],
   "source": [
    "örnek_veri.rename(columns={\"Thriller\": \"Thriller(x1)\", \"Comedy\": \"Comedy(x2)\",\"Drama\": \"Drama(x3)\",\"Action\": \"Action(x4)\",\"Romance\": \"Romance(x5)\"},inplace=True)\n",
    "örnek_veri.rename(columns={ 610 : \"610(theta0)\",  448 : \"448(theta1)\",599: \"599(theta2)\",474: \"474(theta3)\",414: \"414(theta4)\",380:\"380(theta5)\",274:\"274(theta6)\",606:\"606(theta7)\"},inplace=True)\n",
    "örnek_kullanıcı_listesi=[  \"610(theta0)\",   \"448(theta1)\",  \"599(theta2)\",  \"474(theta3)\",  \"414(theta4)\", \"380(theta5)\",  \"274(theta6)\", \"606(theta7)\"]\n",
    "örnek_nitelik_listesi=[\"Yanlılık(x0)\",\"Thriller(x1)\" ,\"Comedy(x2)\", \"Drama(x3)\",\"Action(x4)\", \"Romance(x5)\"]\n",
    "örnek_veri[\"Yanlılık(x0)\"]=1\n",
    "örnek_veri=örnek_veri[örnek_kullanıcı_listesi+örnek_nitelik_listesi];örnek_veri.head(5)"
   ]
  },
  {
   "cell_type": "code",
   "execution_count": 14,
   "metadata": {
    "ExecuteTime": {
     "end_time": "2019-11-06T20:26:57.671985Z",
     "start_time": "2019-11-06T20:26:57.656444Z"
    },
    "slideshow": {
     "slide_type": "slide"
    }
   },
   "outputs": [
    {
     "data": {
      "text/html": [
       "<div>\n",
       "<style scoped>\n",
       "    .dataframe tbody tr th:only-of-type {\n",
       "        vertical-align: middle;\n",
       "    }\n",
       "\n",
       "    .dataframe tbody tr th {\n",
       "        vertical-align: top;\n",
       "    }\n",
       "\n",
       "    .dataframe thead th {\n",
       "        text-align: right;\n",
       "    }\n",
       "</style>\n",
       "<table border=\"1\" class=\"dataframe\">\n",
       "  <thead>\n",
       "    <tr style=\"text-align: right;\">\n",
       "      <th></th>\n",
       "      <th>Yanlılık(x0)</th>\n",
       "      <th>Thriller(x1)</th>\n",
       "      <th>Comedy(x2)</th>\n",
       "      <th>Drama(x3)</th>\n",
       "      <th>Action(x4)</th>\n",
       "      <th>Romance(x5)</th>\n",
       "    </tr>\n",
       "    <tr>\n",
       "      <th>title</th>\n",
       "      <th></th>\n",
       "      <th></th>\n",
       "      <th></th>\n",
       "      <th></th>\n",
       "      <th></th>\n",
       "      <th></th>\n",
       "    </tr>\n",
       "  </thead>\n",
       "  <tbody>\n",
       "    <tr>\n",
       "      <td>Apocalypse Now (1979)</td>\n",
       "      <td>1</td>\n",
       "      <td>NaN</td>\n",
       "      <td>NaN</td>\n",
       "      <td>1.0</td>\n",
       "      <td>1.0</td>\n",
       "      <td>NaN</td>\n",
       "    </tr>\n",
       "    <tr>\n",
       "      <td>Batman (1989)</td>\n",
       "      <td>1</td>\n",
       "      <td>1.0</td>\n",
       "      <td>NaN</td>\n",
       "      <td>NaN</td>\n",
       "      <td>1.0</td>\n",
       "      <td>NaN</td>\n",
       "    </tr>\n",
       "    <tr>\n",
       "      <td>Beverly Hills Cop (1984)</td>\n",
       "      <td>1</td>\n",
       "      <td>NaN</td>\n",
       "      <td>1.0</td>\n",
       "      <td>1.0</td>\n",
       "      <td>1.0</td>\n",
       "      <td>NaN</td>\n",
       "    </tr>\n",
       "    <tr>\n",
       "      <td>Big (1988)</td>\n",
       "      <td>1</td>\n",
       "      <td>NaN</td>\n",
       "      <td>1.0</td>\n",
       "      <td>1.0</td>\n",
       "      <td>NaN</td>\n",
       "      <td>1.0</td>\n",
       "    </tr>\n",
       "    <tr>\n",
       "      <td>Blade Runner (1982)</td>\n",
       "      <td>1</td>\n",
       "      <td>1.0</td>\n",
       "      <td>NaN</td>\n",
       "      <td>NaN</td>\n",
       "      <td>1.0</td>\n",
       "      <td>NaN</td>\n",
       "    </tr>\n",
       "  </tbody>\n",
       "</table>\n",
       "</div>"
      ],
      "text/plain": [
       "                          Yanlılık(x0)  Thriller(x1)  Comedy(x2)  Drama(x3)  \\\n",
       "title                                                                         \n",
       "Apocalypse Now (1979)                1           NaN         NaN        1.0   \n",
       "Batman (1989)                        1           1.0         NaN        NaN   \n",
       "Beverly Hills Cop (1984)             1           NaN         1.0        1.0   \n",
       "Big (1988)                           1           NaN         1.0        1.0   \n",
       "Blade Runner (1982)                  1           1.0         NaN        NaN   \n",
       "\n",
       "                          Action(x4)  Romance(x5)  \n",
       "title                                              \n",
       "Apocalypse Now (1979)            1.0          NaN  \n",
       "Batman (1989)                    1.0          NaN  \n",
       "Beverly Hills Cop (1984)         1.0          NaN  \n",
       "Big (1988)                       NaN          1.0  \n",
       "Blade Runner (1982)              1.0          NaN  "
      ]
     },
     "execution_count": 14,
     "metadata": {},
     "output_type": "execute_result"
    }
   ],
   "source": [
    "# X matrix\n",
    "örnek_veri[örnek_nitelik_listesi].head()"
   ]
  },
  {
   "cell_type": "code",
   "execution_count": 15,
   "metadata": {
    "ExecuteTime": {
     "end_time": "2019-11-06T20:26:57.685020Z",
     "start_time": "2019-11-06T20:26:57.673489Z"
    },
    "slideshow": {
     "slide_type": "fragment"
    }
   },
   "outputs": [
    {
     "data": {
      "text/plain": [
       "Yanlılık(x0)    1.0\n",
       "Thriller(x1)    NaN\n",
       "Comedy(x2)      NaN\n",
       "Drama(x3)       1.0\n",
       "Action(x4)      1.0\n",
       "Romance(x5)     NaN\n",
       "Name: Apocalypse Now (1979), dtype: float64"
      ]
     },
     "execution_count": 15,
     "metadata": {},
     "output_type": "execute_result"
    }
   ],
   "source": [
    "# x^0\n",
    "\n",
    "x0=örnek_veri.loc[\"Apocalypse Now (1979)\",örnek_nitelik_listesi];x0"
   ]
  },
  {
   "cell_type": "code",
   "execution_count": 16,
   "metadata": {
    "ExecuteTime": {
     "end_time": "2019-11-06T20:26:57.696550Z",
     "start_time": "2019-11-06T20:26:57.686035Z"
    },
    "slideshow": {
     "slide_type": "fragment"
    }
   },
   "outputs": [
    {
     "data": {
      "text/plain": [
       "Yanlılık(x0)    1.0\n",
       "Thriller(x1)    0.0\n",
       "Comedy(x2)      0.0\n",
       "Drama(x3)       1.0\n",
       "Action(x4)      1.0\n",
       "Romance(x5)     0.0\n",
       "Name: Apocalypse Now (1979), dtype: float64"
      ]
     },
     "execution_count": 16,
     "metadata": {},
     "output_type": "execute_result"
    }
   ],
   "source": [
    "x0.fillna(0)"
   ]
  },
  {
   "cell_type": "code",
   "execution_count": 17,
   "metadata": {
    "ExecuteTime": {
     "end_time": "2019-11-06T20:26:57.706578Z",
     "start_time": "2019-11-06T20:26:57.697553Z"
    },
    "scrolled": false,
    "slideshow": {
     "slide_type": "slide"
    }
   },
   "outputs": [
    {
     "data": {
      "text/plain": [
       "array([1, 2, 3, 3, 1, 2])"
      ]
     },
     "execution_count": 17,
     "metadata": {},
     "output_type": "execute_result"
    }
   ],
   "source": [
    "# theta^0 = ? \n",
    "theta0=np.array([1,2,3,3,1,2]);theta0"
   ]
  },
  {
   "cell_type": "markdown",
   "metadata": {
    "slideshow": {
     "slide_type": "fragment"
    }
   },
   "source": [
    "$(\\theta^{(0)})^T *x^{(0)}$"
   ]
  },
  {
   "cell_type": "code",
   "execution_count": 18,
   "metadata": {
    "ExecuteTime": {
     "end_time": "2019-11-06T20:26:57.890597Z",
     "start_time": "2019-11-06T20:26:57.886588Z"
    },
    "slideshow": {
     "slide_type": "fragment"
    }
   },
   "outputs": [
    {
     "data": {
      "text/plain": [
       "5.0"
      ]
     },
     "execution_count": 18,
     "metadata": {},
     "output_type": "execute_result"
    }
   ],
   "source": [
    "np.dot(theta0.T,x0.fillna(0))"
   ]
  },
  {
   "cell_type": "code",
   "execution_count": 19,
   "metadata": {
    "ExecuteTime": {
     "end_time": "2019-11-06T20:26:57.904127Z",
     "start_time": "2019-11-06T20:26:57.891567Z"
    },
    "slideshow": {
     "slide_type": "fragment"
    }
   },
   "outputs": [
    {
     "data": {
      "text/plain": [
       "5.0"
      ]
     },
     "execution_count": 19,
     "metadata": {},
     "output_type": "execute_result"
    }
   ],
   "source": [
    "# 610 kullanıcı 5 puan vermişti.\n",
    "örnek_veri.loc[\"Apocalypse Now (1979)\",\"610(theta0)\"]"
   ]
  },
  {
   "cell_type": "code",
   "execution_count": 20,
   "metadata": {
    "ExecuteTime": {
     "end_time": "2019-11-06T20:26:57.914128Z",
     "start_time": "2019-11-06T20:26:57.905620Z"
    },
    "slideshow": {
     "slide_type": "slide"
    }
   },
   "outputs": [
    {
     "data": {
      "text/plain": [
       "array([0, 2, 3, 3, 1, 2])"
      ]
     },
     "execution_count": 20,
     "metadata": {},
     "output_type": "execute_result"
    }
   ],
   "source": [
    "theta1=np.array([0,2,3,3,1,2]);theta1"
   ]
  },
  {
   "cell_type": "markdown",
   "metadata": {
    "slideshow": {
     "slide_type": "fragment"
    }
   },
   "source": [
    "$(\\theta^{(1)})^T *x^{(0)}$"
   ]
  },
  {
   "cell_type": "code",
   "execution_count": 21,
   "metadata": {
    "ExecuteTime": {
     "end_time": "2019-11-06T20:26:58.135795Z",
     "start_time": "2019-11-06T20:26:58.131705Z"
    },
    "slideshow": {
     "slide_type": "fragment"
    }
   },
   "outputs": [
    {
     "data": {
      "text/plain": [
       "4.0"
      ]
     },
     "execution_count": 21,
     "metadata": {},
     "output_type": "execute_result"
    }
   ],
   "source": [
    "np.dot(theta1.T,x0.fillna(0))"
   ]
  },
  {
   "cell_type": "code",
   "execution_count": 22,
   "metadata": {
    "ExecuteTime": {
     "end_time": "2019-11-06T20:26:58.147827Z",
     "start_time": "2019-11-06T20:26:58.137800Z"
    },
    "scrolled": true,
    "slideshow": {
     "slide_type": "fragment"
    }
   },
   "outputs": [
    {
     "data": {
      "text/plain": [
       "4.0"
      ]
     },
     "execution_count": 22,
     "metadata": {},
     "output_type": "execute_result"
    }
   ],
   "source": [
    "# 448 kullanıcı 4 puan vermişti.\n",
    "örnek_veri.loc[\"Apocalypse Now (1979)\",\"448(theta1)\"]"
   ]
  },
  {
   "cell_type": "markdown",
   "metadata": {
    "slideshow": {
     "slide_type": "slide"
    }
   },
   "source": [
    "### Nitelik için Optimizasyon Algoritması"
   ]
  },
  {
   "cell_type": "markdown",
   "metadata": {
    "slideshow": {
     "slide_type": "fragment"
    }
   },
   "source": [
    "<p style=\"font-size:120%;\">    $x^{(i)}$ niteliklerini  $\\theta_0,\\theta_1,...\\theta_n$ bilinirken  için hesaplamak için kullanılacak formül :    </p>\n",
    "<p style=\"font-size:120%;\">  \\begin{equation}   min_{(x^{(i)})} \\   \\ 1/2*\\sum_{i:r(i,j)=1} ((\\theta^j)^T *x_i - y^{(i,j)})^2 \\ + \\lambda/2 \\sum_{k=1}^n (x_k^{(i)})^2 \\end{equation}   </p>"
   ]
  },
  {
   "cell_type": "markdown",
   "metadata": {
    "ExecuteTime": {
     "end_time": "2019-10-27T21:47:37.815259Z",
     "start_time": "2019-10-27T21:47:37.809272Z"
    },
    "slideshow": {
     "slide_type": "fragment"
    }
   },
   "source": [
    "<p style=\"font-size:120%;\">    $x^{(1)},x^{(2)},x^{(3)},..,x^{(m)}$ niteliklerini  $\\theta_0,\\theta_1,...\\theta_n$ bilinirken  için hesaplamak için kullanılacak formül :    </p>\n",
    "<p style=\"font-size:120%;\">  \\begin{equation}  min_{ x^{(1)},x^{(2)},x^{(3)},..,x^{(m)} } \\   \\ 1/2*\\sum_{i:r(i,j)=1} ((\\theta^j)^T *x_i - y^{(i,j)})^2 \\ + \\lambda/2 \\sum_{i=1}^{n_m}  \\sum_{k=1}^n (x_k^{(i)})^2 \\end{equation}   </p>"
   ]
  },
  {
   "cell_type": "markdown",
   "metadata": {
    "slideshow": {
     "slide_type": "slide"
    }
   },
   "source": [
    "### Sonuç olarak : İşbirliğine Dayalı Filtreleme (collaborative filtering)"
   ]
  },
  {
   "cell_type": "markdown",
   "metadata": {
    "slideshow": {
     "slide_type": "fragment"
    }
   },
   "source": [
    "<p style=\"font-size:120%;\">    $x^{(1)},x^{(2)},x^{(3)},..,x^{(m)}$ niteliklerini biliyorsak ,  $\\theta_0,\\theta_1,...\\theta_n$ katsayılarını hesaplayabiliriz.    </p>\n",
    "\n",
    "<p style=\"font-size:120%;\">    $\\theta_0,\\theta_1,...\\theta_n$ katsayılarını biliyorsak ,  $x^{(1)},x^{(2)},x^{(3)},..,x^{(m)}$   niteliklerini hesaplayabiliriz    </p>"
   ]
  },
  {
   "cell_type": "markdown",
   "metadata": {
    "slideshow": {
     "slide_type": "fragment"
    }
   },
   "source": [
    "<p style=\"font-size:120%;\"> Tahminimiz :    $\\theta -> x->\\theta -> x->\\theta -> x->\\theta -> ... $ şeklinde olacaktır.    </p>"
   ]
  },
  {
   "cell_type": "markdown",
   "metadata": {
    "slideshow": {
     "slide_type": "slide"
    }
   },
   "source": [
    "###  İşbirliğine Dayalı Filtreleme (collaborative filtering) Optimizasyon Hedefi "
   ]
  },
  {
   "cell_type": "markdown",
   "metadata": {
    "slideshow": {
     "slide_type": "fragment"
    }
   },
   "source": [
    "<p style=\"font-size:120%;\">  $x^{(1)},x^{(2)},x^{(3)},..,x^{(m)}$ niteliklerini  bilirken  $ \\theta^{(1)} ,\\theta^{(2)} ,\\theta^{(3)},...,\\theta^{(n_u)} $ katsayılarını için hesaplamak için kullanılacak formül :</p>\n",
    "<p style=\"font-size:120%;\">  $min_{\\theta^{(1)} ,..,\\theta^{(n_u)}} 1/2 \\begin{equation}\\sum_{i:r(i,j)=1} ((\\theta^j)^T *x_i - y^{(i,j)})^2 \\ + \\lambda/2 \\sum_{j=1}^{n_u}  \\sum_{k=1}^n (\\theta_k^j)^2 \\end{equation} $ </p>"
   ]
  },
  {
   "cell_type": "markdown",
   "metadata": {
    "ExecuteTime": {
     "end_time": "2019-10-27T22:30:04.622995Z",
     "start_time": "2019-10-27T22:30:04.615976Z"
    },
    "slideshow": {
     "slide_type": "fragment"
    }
   },
   "source": [
    " <p style=\"font-size:120%;\">   $ \\theta^{(1)} ,\\theta^{(2)} ,\\theta^{(3)},...,\\theta^{(n_u)} $   katsayılarını  bilirken $x^{(1)},x^{(2)},x^{(3)},..,x^{(m)}$ niteliklerini için hesaplamak için kullanılacak formül :</p>\n",
    "<p style=\"font-size:120%;\">  $ min_{ x^{(1)},x^{(2)},x^{(3)},..,x^{(m)} }   1/2* \\begin{equation}  \\sum_{i:r(i,j)=1} ((\\theta^j)^T *x_i - y^{(i,j)})^2 \\ + \\lambda/2 \\sum_{i=1}^{n_m}  \\sum_{k=1}^n (x_k^{(i)})^2 \\end{equation}   $ </p>"
   ]
  },
  {
   "cell_type": "markdown",
   "metadata": {
    "slideshow": {
     "slide_type": "fragment"
    }
   },
   "source": [
    " <p style=\"font-size:120%;\">   Aynı anda $ \\theta^{(1)} ,\\theta^{(2)} ,\\theta^{(3)},...,\\theta^{(n_u)} $   ve  $x^{(1)},x^{(2)},x^{(3)},..,x^{(m)}$ minimize etmek için :</p>\n",
    "<p style=\"font-size:120%;\">  $ min_{( x^{(1)},..,x^{(m)}) ,(\\theta^{(1)} ,..,\\theta^{(n_u)}) }   1/2* \\begin{equation}  \\sum_{i:r(i,j)=1} ((\\theta^j)^T *x_i - y^{(i,j)})^2 \\ + \\lambda/2 \\sum_{i=1}^{n_m}  \\sum_{k=1}^n (x_k^{(i)})^2+ \\lambda/2 \\sum_{j=1}^{n_u}  \\sum_{k=1}^n (\\theta_k^j)^2  \\end{equation}   $ </p>\n",
    "\n"
   ]
  },
  {
   "cell_type": "markdown",
   "metadata": {
    "slideshow": {
     "slide_type": "slide"
    }
   },
   "source": [
    "###  İşbirliğine Dayalı Filtreleme (collaborative filtering) Algoritması"
   ]
  },
  {
   "cell_type": "markdown",
   "metadata": {
    "slideshow": {
     "slide_type": "fragment"
    }
   },
   "source": [
    "<p style=\"font-size:120%;\"> 1.     $x^{(1)},x^{(2)},x^{(3)},..,x^{(m)}$ , $ \\theta^{(1)} ,\\theta^{(2)} ,\\theta^{(3)},...,\\theta^{(n_u)} $ parametrelerine ufak rastgele sayılar atanır . </p>"
   ]
  },
  {
   "cell_type": "markdown",
   "metadata": {
    "ExecuteTime": {
     "end_time": "2019-10-28T12:07:48.586491Z",
     "start_time": "2019-10-28T12:07:48.581478Z"
    },
    "slideshow": {
     "slide_type": "fragment"
    }
   },
   "source": [
    "<p style=\"font-size:120%;\"> 2.     $ J( x^{(1)},..,x^{(m)}) ,(\\theta^{(1)} ,..,\\theta^{(n_u)}) $ değerini minimize etmek için \"dereceli azaltma\" veya \"ileri optimizasyon\" kullanılır.  Bu  parametrelere başlangıçta ufak rastgele sayılar atanır . </p>"
   ]
  },
  {
   "cell_type": "markdown",
   "metadata": {
    "ExecuteTime": {
     "end_time": "2019-10-28T12:14:33.678501Z",
     "start_time": "2019-10-28T12:14:33.671476Z"
    },
    "slideshow": {
     "slide_type": "fragment"
    }
   },
   "source": [
    "<p style=\"font-size:120%;\">\\begin{equation}\\  x_k^{(i)}      := x_k^{(i)}-a*(\\sum_{i:r(i,j)=1} ((\\theta^{(j)})^T *x^{(i)} - y^{(i,j)})*\\theta_k^{(j)} + \\lambda*x_k^{(i)})\\  \\end{equation}</p>"
   ]
  },
  {
   "cell_type": "markdown",
   "metadata": {
    "ExecuteTime": {
     "end_time": "2019-10-28T12:11:56.581854Z",
     "start_time": "2019-10-28T12:11:56.575836Z"
    },
    "slideshow": {
     "slide_type": "fragment"
    }
   },
   "source": [
    "\n",
    "<p style=\"font-size:120%;\">\\begin{equation}\\ \\theta_k^{(j)}      := \\theta_k^{(j)}-a*(\\sum_{i:r(i,j)=1} ((\\theta^{(j)})^T *x^{(i)} - y^{(i,j)})*x^{(i)} + \\lambda*\\theta_k^{(j)} )\\  \\end{equation}</p>"
   ]
  },
  {
   "cell_type": "markdown",
   "metadata": {
    "ExecuteTime": {
     "end_time": "2019-10-28T12:16:55.900404Z",
     "start_time": "2019-10-28T12:16:55.896369Z"
    },
    "slideshow": {
     "slide_type": "fragment"
    }
   },
   "source": [
    "<p style=\"font-size:120%;\">3. $\\theta$ katsayısına sahip kullanıcı ve $x$ nitelikleri hesaplanmış bir film için tahmini fill puanı $(\\theta^T *x)$'e eşittir. </p>"
   ]
  },
  {
   "cell_type": "markdown",
   "metadata": {
    "slideshow": {
     "slide_type": "slide"
    }
   },
   "source": [
    "###  Vektörleştirme : Düşük Rank Matris Faktorizasyonu (Vectorization : Low rank matrix factorization)"
   ]
  },
  {
   "cell_type": "code",
   "execution_count": 23,
   "metadata": {
    "ExecuteTime": {
     "end_time": "2019-11-06T20:27:01.576740Z",
     "start_time": "2019-11-06T20:27:01.565183Z"
    },
    "slideshow": {
     "slide_type": "fragment"
    }
   },
   "outputs": [
    {
     "data": {
      "text/html": [
       "<div>\n",
       "<style scoped>\n",
       "    .dataframe tbody tr th:only-of-type {\n",
       "        vertical-align: middle;\n",
       "    }\n",
       "\n",
       "    .dataframe tbody tr th {\n",
       "        vertical-align: top;\n",
       "    }\n",
       "\n",
       "    .dataframe thead th {\n",
       "        text-align: right;\n",
       "    }\n",
       "</style>\n",
       "<table border=\"1\" class=\"dataframe\">\n",
       "  <thead>\n",
       "    <tr style=\"text-align: right;\">\n",
       "      <th></th>\n",
       "      <th>610(theta0)</th>\n",
       "      <th>448(theta1)</th>\n",
       "      <th>599(theta2)</th>\n",
       "      <th>474(theta3)</th>\n",
       "      <th>414(theta4)</th>\n",
       "      <th>380(theta5)</th>\n",
       "      <th>274(theta6)</th>\n",
       "      <th>606(theta7)</th>\n",
       "      <th>Yanlılık(x0)</th>\n",
       "      <th>Thriller(x1)</th>\n",
       "      <th>Comedy(x2)</th>\n",
       "      <th>Drama(x3)</th>\n",
       "      <th>Action(x4)</th>\n",
       "      <th>Romance(x5)</th>\n",
       "    </tr>\n",
       "    <tr>\n",
       "      <th>title</th>\n",
       "      <th></th>\n",
       "      <th></th>\n",
       "      <th></th>\n",
       "      <th></th>\n",
       "      <th></th>\n",
       "      <th></th>\n",
       "      <th></th>\n",
       "      <th></th>\n",
       "      <th></th>\n",
       "      <th></th>\n",
       "      <th></th>\n",
       "      <th></th>\n",
       "      <th></th>\n",
       "      <th></th>\n",
       "    </tr>\n",
       "  </thead>\n",
       "  <tbody>\n",
       "    <tr>\n",
       "      <td>Apocalypse Now (1979)</td>\n",
       "      <td>5.0</td>\n",
       "      <td>4.0</td>\n",
       "      <td>5.0</td>\n",
       "      <td>3.5</td>\n",
       "      <td>5.0</td>\n",
       "      <td>4.0</td>\n",
       "      <td>4.0</td>\n",
       "      <td>4.5</td>\n",
       "      <td>1</td>\n",
       "      <td>NaN</td>\n",
       "      <td>NaN</td>\n",
       "      <td>1.0</td>\n",
       "      <td>1.0</td>\n",
       "      <td>NaN</td>\n",
       "    </tr>\n",
       "    <tr>\n",
       "      <td>Batman (1989)</td>\n",
       "      <td>4.5</td>\n",
       "      <td>3.0</td>\n",
       "      <td>3.5</td>\n",
       "      <td>4.0</td>\n",
       "      <td>4.0</td>\n",
       "      <td>3.0</td>\n",
       "      <td>3.0</td>\n",
       "      <td>3.5</td>\n",
       "      <td>1</td>\n",
       "      <td>1.0</td>\n",
       "      <td>NaN</td>\n",
       "      <td>NaN</td>\n",
       "      <td>1.0</td>\n",
       "      <td>NaN</td>\n",
       "    </tr>\n",
       "    <tr>\n",
       "      <td>Beverly Hills Cop (1984)</td>\n",
       "      <td>NaN</td>\n",
       "      <td>5.0</td>\n",
       "      <td>3.5</td>\n",
       "      <td>2.0</td>\n",
       "      <td>4.0</td>\n",
       "      <td>4.0</td>\n",
       "      <td>4.0</td>\n",
       "      <td>2.5</td>\n",
       "      <td>1</td>\n",
       "      <td>NaN</td>\n",
       "      <td>1.0</td>\n",
       "      <td>1.0</td>\n",
       "      <td>1.0</td>\n",
       "      <td>NaN</td>\n",
       "    </tr>\n",
       "  </tbody>\n",
       "</table>\n",
       "</div>"
      ],
      "text/plain": [
       "                          610(theta0)  448(theta1)  599(theta2)  474(theta3)  \\\n",
       "title                                                                          \n",
       "Apocalypse Now (1979)             5.0          4.0          5.0          3.5   \n",
       "Batman (1989)                     4.5          3.0          3.5          4.0   \n",
       "Beverly Hills Cop (1984)          NaN          5.0          3.5          2.0   \n",
       "\n",
       "                          414(theta4)  380(theta5)  274(theta6)  606(theta7)  \\\n",
       "title                                                                          \n",
       "Apocalypse Now (1979)             5.0          4.0          4.0          4.5   \n",
       "Batman (1989)                     4.0          3.0          3.0          3.5   \n",
       "Beverly Hills Cop (1984)          4.0          4.0          4.0          2.5   \n",
       "\n",
       "                          Yanlılık(x0)  Thriller(x1)  Comedy(x2)  Drama(x3)  \\\n",
       "title                                                                         \n",
       "Apocalypse Now (1979)                1           NaN         NaN        1.0   \n",
       "Batman (1989)                        1           1.0         NaN        NaN   \n",
       "Beverly Hills Cop (1984)             1           NaN         1.0        1.0   \n",
       "\n",
       "                          Action(x4)  Romance(x5)  \n",
       "title                                              \n",
       "Apocalypse Now (1979)            1.0          NaN  \n",
       "Batman (1989)                    1.0          NaN  \n",
       "Beverly Hills Cop (1984)         1.0          NaN  "
      ]
     },
     "execution_count": 23,
     "metadata": {},
     "output_type": "execute_result"
    }
   ],
   "source": [
    "örnek_veri.head(3)"
   ]
  },
  {
   "cell_type": "code",
   "execution_count": 24,
   "metadata": {
    "ExecuteTime": {
     "end_time": "2019-11-06T20:27:01.593257Z",
     "start_time": "2019-11-06T20:27:01.578217Z"
    },
    "slideshow": {
     "slide_type": "fragment"
    }
   },
   "outputs": [
    {
     "data": {
      "text/html": [
       "<div>\n",
       "<style scoped>\n",
       "    .dataframe tbody tr th:only-of-type {\n",
       "        vertical-align: middle;\n",
       "    }\n",
       "\n",
       "    .dataframe tbody tr th {\n",
       "        vertical-align: top;\n",
       "    }\n",
       "\n",
       "    .dataframe thead th {\n",
       "        text-align: right;\n",
       "    }\n",
       "</style>\n",
       "<table border=\"1\" class=\"dataframe\">\n",
       "  <thead>\n",
       "    <tr style=\"text-align: right;\">\n",
       "      <th></th>\n",
       "      <th>610(theta0)</th>\n",
       "      <th>448(theta1)</th>\n",
       "      <th>599(theta2)</th>\n",
       "      <th>474(theta3)</th>\n",
       "      <th>414(theta4)</th>\n",
       "      <th>380(theta5)</th>\n",
       "      <th>274(theta6)</th>\n",
       "      <th>606(theta7)</th>\n",
       "    </tr>\n",
       "    <tr>\n",
       "      <th>title</th>\n",
       "      <th></th>\n",
       "      <th></th>\n",
       "      <th></th>\n",
       "      <th></th>\n",
       "      <th></th>\n",
       "      <th></th>\n",
       "      <th></th>\n",
       "      <th></th>\n",
       "    </tr>\n",
       "  </thead>\n",
       "  <tbody>\n",
       "    <tr>\n",
       "      <td>Apocalypse Now (1979)</td>\n",
       "      <td>5.0</td>\n",
       "      <td>4.0</td>\n",
       "      <td>5.0</td>\n",
       "      <td>3.5</td>\n",
       "      <td>5.0</td>\n",
       "      <td>4.0</td>\n",
       "      <td>4.0</td>\n",
       "      <td>4.5</td>\n",
       "    </tr>\n",
       "    <tr>\n",
       "      <td>Batman (1989)</td>\n",
       "      <td>4.5</td>\n",
       "      <td>3.0</td>\n",
       "      <td>3.5</td>\n",
       "      <td>4.0</td>\n",
       "      <td>4.0</td>\n",
       "      <td>3.0</td>\n",
       "      <td>3.0</td>\n",
       "      <td>3.5</td>\n",
       "    </tr>\n",
       "    <tr>\n",
       "      <td>Beverly Hills Cop (1984)</td>\n",
       "      <td>NaN</td>\n",
       "      <td>5.0</td>\n",
       "      <td>3.5</td>\n",
       "      <td>2.0</td>\n",
       "      <td>4.0</td>\n",
       "      <td>4.0</td>\n",
       "      <td>4.0</td>\n",
       "      <td>2.5</td>\n",
       "    </tr>\n",
       "  </tbody>\n",
       "</table>\n",
       "</div>"
      ],
      "text/plain": [
       "                          610(theta0)  448(theta1)  599(theta2)  474(theta3)  \\\n",
       "title                                                                          \n",
       "Apocalypse Now (1979)             5.0          4.0          5.0          3.5   \n",
       "Batman (1989)                     4.5          3.0          3.5          4.0   \n",
       "Beverly Hills Cop (1984)          NaN          5.0          3.5          2.0   \n",
       "\n",
       "                          414(theta4)  380(theta5)  274(theta6)  606(theta7)  \n",
       "title                                                                         \n",
       "Apocalypse Now (1979)             5.0          4.0          4.0          4.5  \n",
       "Batman (1989)                     4.0          3.0          3.0          3.5  \n",
       "Beverly Hills Cop (1984)          4.0          4.0          4.0          2.5  "
      ]
     },
     "execution_count": 24,
     "metadata": {},
     "output_type": "execute_result"
    }
   ],
   "source": [
    "y=örnek_veri[örnek_kullanıcı_listesi];y.head(3)"
   ]
  },
  {
   "cell_type": "code",
   "execution_count": 25,
   "metadata": {
    "ExecuteTime": {
     "end_time": "2019-11-06T20:27:01.602782Z",
     "start_time": "2019-11-06T20:27:01.594761Z"
    },
    "slideshow": {
     "slide_type": "fragment"
    }
   },
   "outputs": [
    {
     "name": "stdout",
     "output_type": "stream",
     "text": [
      "Film adedi: 44 Kullanıcı sayısı : 8\n"
     ]
    }
   ],
   "source": [
    "nm=y.shape[0]; nu=y.shape[1] ; print(\"Film adedi:\",nm,\"Kullanıcı sayısı :\",nu)"
   ]
  },
  {
   "cell_type": "code",
   "execution_count": 26,
   "metadata": {
    "ExecuteTime": {
     "end_time": "2019-11-06T20:27:01.610804Z",
     "start_time": "2019-11-06T20:27:01.603785Z"
    },
    "slideshow": {
     "slide_type": "slide"
    }
   },
   "outputs": [],
   "source": [
    "# İşbirliğine Dayalı Filtreleme "
   ]
  },
  {
   "cell_type": "markdown",
   "metadata": {
    "ExecuteTime": {
     "end_time": "2019-10-28T13:02:06.695023Z",
     "start_time": "2019-10-28T13:02:06.691016Z"
    },
    "slideshow": {
     "slide_type": "fragment"
    }
   },
   "source": [
    "<p style=\"font-size:150%;\">   y için Tahmini Değerleri aşağıda  görebilirsiniz </p><br>"
   ]
  },
  {
   "cell_type": "markdown",
   "metadata": {
    "slideshow": {
     "slide_type": "fragment"
    }
   },
   "source": [
    "<p style=\"font-size:150%;\"> $ (\\theta^{(1)})^T *x^{(1)} \\     \\  |    \\ (\\theta^{(2)})^T *x^{(1)} \\  \\  |   ...   |  \\  \\   (\\theta^{(n_u)})^T *x^{(1)}$ </p>"
   ]
  },
  {
   "cell_type": "markdown",
   "metadata": {
    "ExecuteTime": {
     "end_time": "2019-10-28T12:46:02.629338Z",
     "start_time": "2019-10-28T12:46:02.625335Z"
    },
    "slideshow": {
     "slide_type": "fragment"
    }
   },
   "source": [
    "<p style=\"font-size:150%;\"> $ (\\theta^{(1)})^T *x^{(1)} \\     \\  |    \\ (\\theta^{(2)})^T *x^{(2)} \\  \\  |   ...   |  \\  \\   (\\theta^{(n_u)})^T *x^{(1)}$ </p>"
   ]
  },
  {
   "cell_type": "markdown",
   "metadata": {
    "slideshow": {
     "slide_type": "fragment"
    }
   },
   "source": [
    "<pre style=\"font-size:150%;\">   .    |      .      |...|      .     </pre>"
   ]
  },
  {
   "cell_type": "markdown",
   "metadata": {
    "ExecuteTime": {
     "end_time": "2019-10-28T12:59:04.104808Z",
     "start_time": "2019-10-28T12:59:04.100830Z"
    },
    "slideshow": {
     "slide_type": "fragment"
    }
   },
   "source": [
    "<pre style=\"font-size:150%;\">   .    |      .      |...|      .     </pre>"
   ]
  },
  {
   "cell_type": "markdown",
   "metadata": {
    "ExecuteTime": {
     "end_time": "2019-10-28T12:51:00.234363Z",
     "start_time": "2019-10-28T12:51:00.230341Z"
    },
    "slideshow": {
     "slide_type": "fragment"
    }
   },
   "source": [
    "<p style=\"font-size:150%;\"> $ (\\theta^{(1)})^T *x^{(n_m)} \\    |    \\ (\\theta^{(2)})^T *x^{(n_m)} \\  \\  |   ...   |  \\  \\   (\\theta^{(n_u)})^T *x^{(n_m)}$ </p>"
   ]
  },
  {
   "cell_type": "markdown",
   "metadata": {
    "slideshow": {
     "slide_type": "slide"
    }
   },
   "source": [
    "X = \\begin{bmatrix} - & (x^{(1)})^T & - \\\\ & \\vdots & \\\\ - & (x^{(n_m)} & - \\end{bmatrix}   "
   ]
  },
  {
   "cell_type": "markdown",
   "metadata": {
    "slideshow": {
     "slide_type": "fragment"
    }
   },
   "source": [
    "$ \\Theta$ = \\begin{bmatrix} - & (\\theta^{(1)})^T & - \\\\ & \\vdots & \\\\ - & (\\theta^{(n_u)} & - \\end{bmatrix}"
   ]
  },
  {
   "cell_type": "markdown",
   "metadata": {
    "slideshow": {
     "slide_type": "fragment"
    }
   },
   "source": [
    "$X\\Theta^T$ = \\begin{bmatrix} (x^{(1)})^T(\\theta^{(1)}) & \\ldots & (x^{(1)})^T(\\theta^{(n_u)})\\\\ \\vdots & \\ddots & \\vdots \\\\ (x^{(n_m)})^T(\\theta^{(1)}) & \\ldots & (x^{(n_m)})^T(\\theta^{(n_u)})\\end{bmatrix}"
   ]
  },
  {
   "cell_type": "markdown",
   "metadata": {
    "slideshow": {
     "slide_type": "slide"
    }
   },
   "source": [
    "###  Yakın Filmleri Bulabilmek"
   ]
  },
  {
   "cell_type": "markdown",
   "metadata": {
    "slideshow": {
     "slide_type": "fragment"
    }
   },
   "source": [
    "<p style=\"font-size:120%;\"> Her bir i değeri (film için) bir $x^{(i)}$ vektörü buluyoruz. </p>"
   ]
  },
  {
   "cell_type": "code",
   "execution_count": 27,
   "metadata": {
    "ExecuteTime": {
     "end_time": "2019-11-06T20:27:03.364789Z",
     "start_time": "2019-11-06T20:27:03.361297Z"
    },
    "slideshow": {
     "slide_type": "fragment"
    }
   },
   "outputs": [],
   "source": [
    "x=örnek_veri[örnek_nitelik_listesi]"
   ]
  },
  {
   "cell_type": "code",
   "execution_count": 28,
   "metadata": {
    "ExecuteTime": {
     "end_time": "2019-11-06T20:27:03.382337Z",
     "start_time": "2019-11-06T20:27:03.366770Z"
    },
    "scrolled": true,
    "slideshow": {
     "slide_type": "fragment"
    }
   },
   "outputs": [
    {
     "data": {
      "text/plain": [
       "Yanlılık(x0)    1.0\n",
       "Thriller(x1)    1.0\n",
       "Comedy(x2)      NaN\n",
       "Drama(x3)       NaN\n",
       "Action(x4)      1.0\n",
       "Romance(x5)     NaN\n",
       "Name: Kill Bill: Vol. 1 (2003), dtype: float64"
      ]
     },
     "execution_count": 28,
     "metadata": {},
     "output_type": "execute_result"
    }
   ],
   "source": [
    "x.loc[\"Kill Bill: Vol. 1 (2003)\",:]"
   ]
  },
  {
   "cell_type": "markdown",
   "metadata": {
    "ExecuteTime": {
     "end_time": "2019-10-28T13:37:11.651903Z",
     "start_time": "2019-10-28T13:37:11.646896Z"
    },
    "slideshow": {
     "slide_type": "slide"
    }
   },
   "source": [
    "<p style=\"font-size:120%;\"> Öyleyse bir i. filme yakın j. filmi nasıl bulabiliriz ?   </p>"
   ]
  },
  {
   "cell_type": "markdown",
   "metadata": {
    "slideshow": {
     "slide_type": "fragment"
    }
   },
   "source": [
    "\n",
    "\n",
    "<p style=\"font-size:120%;\">Filmlerin vektörel değerleri olduğu için birbirine en yakın iki vektor en yakın filmler olacaktır. </p>"
   ]
  },
  {
   "cell_type": "markdown",
   "metadata": {
    "slideshow": {
     "slide_type": "fragment"
    }
   },
   "source": [
    "\n",
    "\n",
    "<p style=\"font-size:120%;\">  En küçük $|| x^{(i)}- x^{(j)} ||$ uzaklığı bize filmlerin yakın olduğunu verir.  </p>"
   ]
  },
  {
   "cell_type": "markdown",
   "metadata": {
    "slideshow": {
     "slide_type": "fragment"
    }
   },
   "source": [
    "\n",
    "<p style=\"font-size:120%;\">   $j $ ye en yakın 5 filmi   $|| x^{(i)}- x^{(j)} ||$ küçükten büyüğe sıralı 5 film alarak bulabiliriz.  </p>"
   ]
  },
  {
   "cell_type": "markdown",
   "metadata": {
    "slideshow": {
     "slide_type": "slide"
    }
   },
   "source": [
    "###  Uygulama Notu : Ortalama ile Normalleştirme "
   ]
  },
  {
   "cell_type": "code",
   "execution_count": 29,
   "metadata": {
    "ExecuteTime": {
     "end_time": "2019-11-06T20:27:04.110744Z",
     "start_time": "2019-11-06T20:27:04.099741Z"
    },
    "slideshow": {
     "slide_type": "fragment"
    }
   },
   "outputs": [
    {
     "data": {
      "text/html": [
       "<div>\n",
       "<style scoped>\n",
       "    .dataframe tbody tr th:only-of-type {\n",
       "        vertical-align: middle;\n",
       "    }\n",
       "\n",
       "    .dataframe tbody tr th {\n",
       "        vertical-align: top;\n",
       "    }\n",
       "\n",
       "    .dataframe thead th {\n",
       "        text-align: right;\n",
       "    }\n",
       "</style>\n",
       "<table border=\"1\" class=\"dataframe\">\n",
       "  <thead>\n",
       "    <tr style=\"text-align: right;\">\n",
       "      <th></th>\n",
       "      <th>610(theta0)</th>\n",
       "      <th>448(theta1)</th>\n",
       "      <th>599(theta2)</th>\n",
       "      <th>474(theta3)</th>\n",
       "      <th>414(theta4)</th>\n",
       "      <th>380(theta5)</th>\n",
       "      <th>274(theta6)</th>\n",
       "      <th>606(theta7)</th>\n",
       "    </tr>\n",
       "    <tr>\n",
       "      <th>title</th>\n",
       "      <th></th>\n",
       "      <th></th>\n",
       "      <th></th>\n",
       "      <th></th>\n",
       "      <th></th>\n",
       "      <th></th>\n",
       "      <th></th>\n",
       "      <th></th>\n",
       "    </tr>\n",
       "  </thead>\n",
       "  <tbody>\n",
       "    <tr>\n",
       "      <td>Collateral (2004)</td>\n",
       "      <td>4.5</td>\n",
       "      <td>3.0</td>\n",
       "      <td>3.0</td>\n",
       "      <td>3.5</td>\n",
       "      <td>4.0</td>\n",
       "      <td>5.0</td>\n",
       "      <td>3.0</td>\n",
       "      <td>NaN</td>\n",
       "    </tr>\n",
       "    <tr>\n",
       "      <td>Face/Off (1997)</td>\n",
       "      <td>3.5</td>\n",
       "      <td>3.0</td>\n",
       "      <td>3.5</td>\n",
       "      <td>4.5</td>\n",
       "      <td>3.0</td>\n",
       "      <td>5.0</td>\n",
       "      <td>4.0</td>\n",
       "      <td>NaN</td>\n",
       "    </tr>\n",
       "    <tr>\n",
       "      <td>Fargo (1996)</td>\n",
       "      <td>4.5</td>\n",
       "      <td>4.0</td>\n",
       "      <td>3.5</td>\n",
       "      <td>4.0</td>\n",
       "      <td>5.0</td>\n",
       "      <td>4.0</td>\n",
       "      <td>3.0</td>\n",
       "      <td>NaN</td>\n",
       "    </tr>\n",
       "    <tr>\n",
       "      <td>Knight's Tale, A (2001)</td>\n",
       "      <td>3.0</td>\n",
       "      <td>4.0</td>\n",
       "      <td>3.0</td>\n",
       "      <td>3.0</td>\n",
       "      <td>3.0</td>\n",
       "      <td>3.0</td>\n",
       "      <td>2.5</td>\n",
       "      <td>NaN</td>\n",
       "    </tr>\n",
       "    <tr>\n",
       "      <td>Speed (1994)</td>\n",
       "      <td>5.0</td>\n",
       "      <td>4.0</td>\n",
       "      <td>3.0</td>\n",
       "      <td>4.0</td>\n",
       "      <td>4.0</td>\n",
       "      <td>5.0</td>\n",
       "      <td>3.5</td>\n",
       "      <td>NaN</td>\n",
       "    </tr>\n",
       "  </tbody>\n",
       "</table>\n",
       "</div>"
      ],
      "text/plain": [
       "                         610(theta0)  448(theta1)  599(theta2)  474(theta3)  \\\n",
       "title                                                                         \n",
       "Collateral (2004)                4.5          3.0          3.0          3.5   \n",
       "Face/Off (1997)                  3.5          3.0          3.5          4.5   \n",
       "Fargo (1996)                     4.5          4.0          3.5          4.0   \n",
       "Knight's Tale, A (2001)          3.0          4.0          3.0          3.0   \n",
       "Speed (1994)                     5.0          4.0          3.0          4.0   \n",
       "\n",
       "                         414(theta4)  380(theta5)  274(theta6)  606(theta7)  \n",
       "title                                                                        \n",
       "Collateral (2004)                4.0          5.0          3.0          NaN  \n",
       "Face/Off (1997)                  3.0          5.0          4.0          NaN  \n",
       "Fargo (1996)                     5.0          4.0          3.0          NaN  \n",
       "Knight's Tale, A (2001)          3.0          3.0          2.5          NaN  \n",
       "Speed (1994)                     4.0          5.0          3.5          NaN  "
      ]
     },
     "execution_count": 29,
     "metadata": {},
     "output_type": "execute_result"
    }
   ],
   "source": [
    "indeks=[\"Collateral (2004)\",\"Face/Off (1997)\", \"Fargo (1996)\",\"Knight's Tale, A (2001)\" , \"Speed (1994)\"]\n",
    "normal_veri=y.loc[indeks,];normal_veri"
   ]
  },
  {
   "cell_type": "code",
   "execution_count": 30,
   "metadata": {
    "ExecuteTime": {
     "end_time": "2019-11-06T20:27:04.118790Z",
     "start_time": "2019-11-06T20:27:04.112247Z"
    },
    "slideshow": {
     "slide_type": "fragment"
    }
   },
   "outputs": [],
   "source": [
    "mu=np.array(normal_veri.mean(axis=1,skipna=True))"
   ]
  },
  {
   "cell_type": "code",
   "execution_count": 31,
   "metadata": {
    "ExecuteTime": {
     "end_time": "2019-11-06T20:27:04.133317Z",
     "start_time": "2019-11-06T20:27:04.121272Z"
    },
    "slideshow": {
     "slide_type": "fragment"
    }
   },
   "outputs": [
    {
     "data": {
      "text/plain": [
       "array([3.71428571, 3.78571429, 4.        , 3.07142857, 4.07142857])"
      ]
     },
     "execution_count": 31,
     "metadata": {},
     "output_type": "execute_result"
    }
   ],
   "source": [
    "mu "
   ]
  },
  {
   "cell_type": "code",
   "execution_count": 32,
   "metadata": {
    "ExecuteTime": {
     "end_time": "2019-11-06T20:27:04.173423Z",
     "start_time": "2019-11-06T20:27:04.134320Z"
    },
    "slideshow": {
     "slide_type": "fragment"
    }
   },
   "outputs": [],
   "source": [
    "for i in normal_veri.columns:\n",
    "     normal_veri[i]=normal_veri[i]-mu"
   ]
  },
  {
   "cell_type": "code",
   "execution_count": 33,
   "metadata": {
    "ExecuteTime": {
     "end_time": "2019-11-06T20:27:04.183450Z",
     "start_time": "2019-11-06T20:27:04.174427Z"
    },
    "slideshow": {
     "slide_type": "fragment"
    }
   },
   "outputs": [
    {
     "data": {
      "text/html": [
       "<div>\n",
       "<style scoped>\n",
       "    .dataframe tbody tr th:only-of-type {\n",
       "        vertical-align: middle;\n",
       "    }\n",
       "\n",
       "    .dataframe tbody tr th {\n",
       "        vertical-align: top;\n",
       "    }\n",
       "\n",
       "    .dataframe thead th {\n",
       "        text-align: right;\n",
       "    }\n",
       "</style>\n",
       "<table border=\"1\" class=\"dataframe\">\n",
       "  <thead>\n",
       "    <tr style=\"text-align: right;\">\n",
       "      <th></th>\n",
       "      <th>610(theta0)</th>\n",
       "      <th>448(theta1)</th>\n",
       "      <th>599(theta2)</th>\n",
       "      <th>474(theta3)</th>\n",
       "      <th>414(theta4)</th>\n",
       "      <th>380(theta5)</th>\n",
       "      <th>274(theta6)</th>\n",
       "      <th>606(theta7)</th>\n",
       "    </tr>\n",
       "    <tr>\n",
       "      <th>title</th>\n",
       "      <th></th>\n",
       "      <th></th>\n",
       "      <th></th>\n",
       "      <th></th>\n",
       "      <th></th>\n",
       "      <th></th>\n",
       "      <th></th>\n",
       "      <th></th>\n",
       "    </tr>\n",
       "  </thead>\n",
       "  <tbody>\n",
       "    <tr>\n",
       "      <td>Collateral (2004)</td>\n",
       "      <td>0.785714</td>\n",
       "      <td>-0.714286</td>\n",
       "      <td>-0.714286</td>\n",
       "      <td>-0.214286</td>\n",
       "      <td>0.285714</td>\n",
       "      <td>1.285714</td>\n",
       "      <td>-0.714286</td>\n",
       "      <td>NaN</td>\n",
       "    </tr>\n",
       "    <tr>\n",
       "      <td>Face/Off (1997)</td>\n",
       "      <td>-0.285714</td>\n",
       "      <td>-0.785714</td>\n",
       "      <td>-0.285714</td>\n",
       "      <td>0.714286</td>\n",
       "      <td>-0.785714</td>\n",
       "      <td>1.214286</td>\n",
       "      <td>0.214286</td>\n",
       "      <td>NaN</td>\n",
       "    </tr>\n",
       "    <tr>\n",
       "      <td>Fargo (1996)</td>\n",
       "      <td>0.500000</td>\n",
       "      <td>0.000000</td>\n",
       "      <td>-0.500000</td>\n",
       "      <td>0.000000</td>\n",
       "      <td>1.000000</td>\n",
       "      <td>0.000000</td>\n",
       "      <td>-1.000000</td>\n",
       "      <td>NaN</td>\n",
       "    </tr>\n",
       "    <tr>\n",
       "      <td>Knight's Tale, A (2001)</td>\n",
       "      <td>-0.071429</td>\n",
       "      <td>0.928571</td>\n",
       "      <td>-0.071429</td>\n",
       "      <td>-0.071429</td>\n",
       "      <td>-0.071429</td>\n",
       "      <td>-0.071429</td>\n",
       "      <td>-0.571429</td>\n",
       "      <td>NaN</td>\n",
       "    </tr>\n",
       "    <tr>\n",
       "      <td>Speed (1994)</td>\n",
       "      <td>0.928571</td>\n",
       "      <td>-0.071429</td>\n",
       "      <td>-1.071429</td>\n",
       "      <td>-0.071429</td>\n",
       "      <td>-0.071429</td>\n",
       "      <td>0.928571</td>\n",
       "      <td>-0.571429</td>\n",
       "      <td>NaN</td>\n",
       "    </tr>\n",
       "  </tbody>\n",
       "</table>\n",
       "</div>"
      ],
      "text/plain": [
       "                         610(theta0)  448(theta1)  599(theta2)  474(theta3)  \\\n",
       "title                                                                         \n",
       "Collateral (2004)           0.785714    -0.714286    -0.714286    -0.214286   \n",
       "Face/Off (1997)            -0.285714    -0.785714    -0.285714     0.714286   \n",
       "Fargo (1996)                0.500000     0.000000    -0.500000     0.000000   \n",
       "Knight's Tale, A (2001)    -0.071429     0.928571    -0.071429    -0.071429   \n",
       "Speed (1994)                0.928571    -0.071429    -1.071429    -0.071429   \n",
       "\n",
       "                         414(theta4)  380(theta5)  274(theta6)  606(theta7)  \n",
       "title                                                                        \n",
       "Collateral (2004)           0.285714     1.285714    -0.714286          NaN  \n",
       "Face/Off (1997)            -0.785714     1.214286     0.214286          NaN  \n",
       "Fargo (1996)                1.000000     0.000000    -1.000000          NaN  \n",
       "Knight's Tale, A (2001)    -0.071429    -0.071429    -0.571429          NaN  \n",
       "Speed (1994)               -0.071429     0.928571    -0.571429          NaN  "
      ]
     },
     "execution_count": 33,
     "metadata": {},
     "output_type": "execute_result"
    }
   ],
   "source": [
    "normal_veri"
   ]
  },
  {
   "cell_type": "markdown",
   "metadata": {
    "slideshow": {
     "slide_type": "slide"
    }
   },
   "source": [
    "<p style=\"font-size:120%;\"> j. kullanıcı  ve i. film için tahmini fill puanı $(\\theta^{(j)})^T *x^{(i)}+ \\mu_i$'ya  eşittir. </p>"
   ]
  },
  {
   "cell_type": "code",
   "execution_count": 34,
   "metadata": {
    "ExecuteTime": {
     "end_time": "2019-11-06T20:27:04.271291Z",
     "start_time": "2019-11-06T20:27:04.268714Z"
    },
    "slideshow": {
     "slide_type": "fragment"
    }
   },
   "outputs": [],
   "source": [
    "theta7=np.array([0,0,0,0,0,0])"
   ]
  },
  {
   "cell_type": "code",
   "execution_count": 35,
   "metadata": {
    "ExecuteTime": {
     "end_time": "2019-11-06T20:27:04.282296Z",
     "start_time": "2019-11-06T20:27:04.275779Z"
    },
    "slideshow": {
     "slide_type": "fragment"
    }
   },
   "outputs": [],
   "source": [
    "x_normal_veri=x.loc[indeks,].fillna(0)"
   ]
  },
  {
   "cell_type": "code",
   "execution_count": 36,
   "metadata": {
    "ExecuteTime": {
     "end_time": "2019-11-06T20:27:04.297837Z",
     "start_time": "2019-11-06T20:27:04.283800Z"
    },
    "slideshow": {
     "slide_type": "fragment"
    }
   },
   "outputs": [
    {
     "data": {
      "text/html": [
       "<div>\n",
       "<style scoped>\n",
       "    .dataframe tbody tr th:only-of-type {\n",
       "        vertical-align: middle;\n",
       "    }\n",
       "\n",
       "    .dataframe tbody tr th {\n",
       "        vertical-align: top;\n",
       "    }\n",
       "\n",
       "    .dataframe thead th {\n",
       "        text-align: right;\n",
       "    }\n",
       "</style>\n",
       "<table border=\"1\" class=\"dataframe\">\n",
       "  <thead>\n",
       "    <tr style=\"text-align: right;\">\n",
       "      <th></th>\n",
       "      <th>Yanlılık(x0)</th>\n",
       "      <th>Thriller(x1)</th>\n",
       "      <th>Comedy(x2)</th>\n",
       "      <th>Drama(x3)</th>\n",
       "      <th>Action(x4)</th>\n",
       "      <th>Romance(x5)</th>\n",
       "    </tr>\n",
       "    <tr>\n",
       "      <th>title</th>\n",
       "      <th></th>\n",
       "      <th></th>\n",
       "      <th></th>\n",
       "      <th></th>\n",
       "      <th></th>\n",
       "      <th></th>\n",
       "    </tr>\n",
       "  </thead>\n",
       "  <tbody>\n",
       "    <tr>\n",
       "      <td>Collateral (2004)</td>\n",
       "      <td>1</td>\n",
       "      <td>1.0</td>\n",
       "      <td>0.0</td>\n",
       "      <td>1.0</td>\n",
       "      <td>1.0</td>\n",
       "      <td>0.0</td>\n",
       "    </tr>\n",
       "    <tr>\n",
       "      <td>Face/Off (1997)</td>\n",
       "      <td>1</td>\n",
       "      <td>1.0</td>\n",
       "      <td>0.0</td>\n",
       "      <td>1.0</td>\n",
       "      <td>1.0</td>\n",
       "      <td>0.0</td>\n",
       "    </tr>\n",
       "    <tr>\n",
       "      <td>Fargo (1996)</td>\n",
       "      <td>1</td>\n",
       "      <td>1.0</td>\n",
       "      <td>1.0</td>\n",
       "      <td>1.0</td>\n",
       "      <td>0.0</td>\n",
       "      <td>0.0</td>\n",
       "    </tr>\n",
       "    <tr>\n",
       "      <td>Knight's Tale, A (2001)</td>\n",
       "      <td>1</td>\n",
       "      <td>0.0</td>\n",
       "      <td>1.0</td>\n",
       "      <td>0.0</td>\n",
       "      <td>1.0</td>\n",
       "      <td>1.0</td>\n",
       "    </tr>\n",
       "    <tr>\n",
       "      <td>Speed (1994)</td>\n",
       "      <td>1</td>\n",
       "      <td>1.0</td>\n",
       "      <td>0.0</td>\n",
       "      <td>0.0</td>\n",
       "      <td>1.0</td>\n",
       "      <td>1.0</td>\n",
       "    </tr>\n",
       "  </tbody>\n",
       "</table>\n",
       "</div>"
      ],
      "text/plain": [
       "                         Yanlılık(x0)  Thriller(x1)  Comedy(x2)  Drama(x3)  \\\n",
       "title                                                                        \n",
       "Collateral (2004)                   1           1.0         0.0        1.0   \n",
       "Face/Off (1997)                     1           1.0         0.0        1.0   \n",
       "Fargo (1996)                        1           1.0         1.0        1.0   \n",
       "Knight's Tale, A (2001)             1           0.0         1.0        0.0   \n",
       "Speed (1994)                        1           1.0         0.0        0.0   \n",
       "\n",
       "                         Action(x4)  Romance(x5)  \n",
       "title                                             \n",
       "Collateral (2004)               1.0          0.0  \n",
       "Face/Off (1997)                 1.0          0.0  \n",
       "Fargo (1996)                    0.0          0.0  \n",
       "Knight's Tale, A (2001)         1.0          1.0  \n",
       "Speed (1994)                    1.0          1.0  "
      ]
     },
     "execution_count": 36,
     "metadata": {},
     "output_type": "execute_result"
    }
   ],
   "source": [
    "x_normal_veri"
   ]
  },
  {
   "cell_type": "code",
   "execution_count": 37,
   "metadata": {
    "ExecuteTime": {
     "end_time": "2019-11-06T20:27:04.306861Z",
     "start_time": "2019-11-06T20:27:04.299342Z"
    },
    "slideshow": {
     "slide_type": "slide"
    }
   },
   "outputs": [],
   "source": [
    "normal_veri[\"606(theta7)\"]=np.dot(theta7,x_normal_veri.T)+mu"
   ]
  },
  {
   "cell_type": "code",
   "execution_count": 38,
   "metadata": {
    "ExecuteTime": {
     "end_time": "2019-11-06T20:27:04.320899Z",
     "start_time": "2019-11-06T20:27:04.307864Z"
    },
    "scrolled": true,
    "slideshow": {
     "slide_type": "fragment"
    }
   },
   "outputs": [
    {
     "data": {
      "text/html": [
       "<div>\n",
       "<style scoped>\n",
       "    .dataframe tbody tr th:only-of-type {\n",
       "        vertical-align: middle;\n",
       "    }\n",
       "\n",
       "    .dataframe tbody tr th {\n",
       "        vertical-align: top;\n",
       "    }\n",
       "\n",
       "    .dataframe thead th {\n",
       "        text-align: right;\n",
       "    }\n",
       "</style>\n",
       "<table border=\"1\" class=\"dataframe\">\n",
       "  <thead>\n",
       "    <tr style=\"text-align: right;\">\n",
       "      <th></th>\n",
       "      <th>610(theta0)</th>\n",
       "      <th>448(theta1)</th>\n",
       "      <th>599(theta2)</th>\n",
       "      <th>474(theta3)</th>\n",
       "      <th>414(theta4)</th>\n",
       "      <th>380(theta5)</th>\n",
       "      <th>274(theta6)</th>\n",
       "      <th>606(theta7)</th>\n",
       "    </tr>\n",
       "    <tr>\n",
       "      <th>title</th>\n",
       "      <th></th>\n",
       "      <th></th>\n",
       "      <th></th>\n",
       "      <th></th>\n",
       "      <th></th>\n",
       "      <th></th>\n",
       "      <th></th>\n",
       "      <th></th>\n",
       "    </tr>\n",
       "  </thead>\n",
       "  <tbody>\n",
       "    <tr>\n",
       "      <td>Collateral (2004)</td>\n",
       "      <td>0.785714</td>\n",
       "      <td>-0.714286</td>\n",
       "      <td>-0.714286</td>\n",
       "      <td>-0.214286</td>\n",
       "      <td>0.285714</td>\n",
       "      <td>1.285714</td>\n",
       "      <td>-0.714286</td>\n",
       "      <td>3.714286</td>\n",
       "    </tr>\n",
       "    <tr>\n",
       "      <td>Face/Off (1997)</td>\n",
       "      <td>-0.285714</td>\n",
       "      <td>-0.785714</td>\n",
       "      <td>-0.285714</td>\n",
       "      <td>0.714286</td>\n",
       "      <td>-0.785714</td>\n",
       "      <td>1.214286</td>\n",
       "      <td>0.214286</td>\n",
       "      <td>3.785714</td>\n",
       "    </tr>\n",
       "    <tr>\n",
       "      <td>Fargo (1996)</td>\n",
       "      <td>0.500000</td>\n",
       "      <td>0.000000</td>\n",
       "      <td>-0.500000</td>\n",
       "      <td>0.000000</td>\n",
       "      <td>1.000000</td>\n",
       "      <td>0.000000</td>\n",
       "      <td>-1.000000</td>\n",
       "      <td>4.000000</td>\n",
       "    </tr>\n",
       "    <tr>\n",
       "      <td>Knight's Tale, A (2001)</td>\n",
       "      <td>-0.071429</td>\n",
       "      <td>0.928571</td>\n",
       "      <td>-0.071429</td>\n",
       "      <td>-0.071429</td>\n",
       "      <td>-0.071429</td>\n",
       "      <td>-0.071429</td>\n",
       "      <td>-0.571429</td>\n",
       "      <td>3.071429</td>\n",
       "    </tr>\n",
       "    <tr>\n",
       "      <td>Speed (1994)</td>\n",
       "      <td>0.928571</td>\n",
       "      <td>-0.071429</td>\n",
       "      <td>-1.071429</td>\n",
       "      <td>-0.071429</td>\n",
       "      <td>-0.071429</td>\n",
       "      <td>0.928571</td>\n",
       "      <td>-0.571429</td>\n",
       "      <td>4.071429</td>\n",
       "    </tr>\n",
       "  </tbody>\n",
       "</table>\n",
       "</div>"
      ],
      "text/plain": [
       "                         610(theta0)  448(theta1)  599(theta2)  474(theta3)  \\\n",
       "title                                                                         \n",
       "Collateral (2004)           0.785714    -0.714286    -0.714286    -0.214286   \n",
       "Face/Off (1997)            -0.285714    -0.785714    -0.285714     0.714286   \n",
       "Fargo (1996)                0.500000     0.000000    -0.500000     0.000000   \n",
       "Knight's Tale, A (2001)    -0.071429     0.928571    -0.071429    -0.071429   \n",
       "Speed (1994)                0.928571    -0.071429    -1.071429    -0.071429   \n",
       "\n",
       "                         414(theta4)  380(theta5)  274(theta6)  606(theta7)  \n",
       "title                                                                        \n",
       "Collateral (2004)           0.285714     1.285714    -0.714286     3.714286  \n",
       "Face/Off (1997)            -0.785714     1.214286     0.214286     3.785714  \n",
       "Fargo (1996)                1.000000     0.000000    -1.000000     4.000000  \n",
       "Knight's Tale, A (2001)    -0.071429    -0.071429    -0.571429     3.071429  \n",
       "Speed (1994)               -0.071429     0.928571    -0.571429     4.071429  "
      ]
     },
     "execution_count": 38,
     "metadata": {},
     "output_type": "execute_result"
    }
   ],
   "source": [
    "normal_veri"
   ]
  },
  {
   "cell_type": "markdown",
   "metadata": {
    "slideshow": {
     "slide_type": "slide"
    }
   },
   "source": [
    "###  Örnek Uygulama"
   ]
  },
  {
   "cell_type": "code",
   "execution_count": 39,
   "metadata": {
    "ExecuteTime": {
     "end_time": "2019-11-06T20:27:04.471873Z",
     "start_time": "2019-11-06T20:27:04.468866Z"
    },
    "slideshow": {
     "slide_type": "fragment"
    }
   },
   "outputs": [
    {
     "data": {
      "text/plain": [
       "(44, 14)"
      ]
     },
     "execution_count": 39,
     "metadata": {},
     "output_type": "execute_result"
    }
   ],
   "source": [
    "örnek_veri.shape"
   ]
  },
  {
   "cell_type": "code",
   "execution_count": 40,
   "metadata": {
    "ExecuteTime": {
     "end_time": "2019-11-06T20:27:04.483905Z",
     "start_time": "2019-11-06T20:27:04.474882Z"
    },
    "slideshow": {
     "slide_type": "fragment"
    }
   },
   "outputs": [
    {
     "data": {
      "text/plain": [
       "['Yanlılık(x0)',\n",
       " 'Thriller(x1)',\n",
       " 'Comedy(x2)',\n",
       " 'Drama(x3)',\n",
       " 'Action(x4)',\n",
       " 'Romance(x5)']"
      ]
     },
     "execution_count": 40,
     "metadata": {},
     "output_type": "execute_result"
    }
   ],
   "source": [
    "örnek_nitelik_listesi"
   ]
  },
  {
   "cell_type": "code",
   "execution_count": 41,
   "metadata": {
    "ExecuteTime": {
     "end_time": "2019-11-06T20:27:04.497942Z",
     "start_time": "2019-11-06T20:27:04.484908Z"
    },
    "slideshow": {
     "slide_type": "fragment"
    }
   },
   "outputs": [
    {
     "data": {
      "text/plain": [
       "['610(theta0)',\n",
       " '448(theta1)',\n",
       " '599(theta2)',\n",
       " '474(theta3)',\n",
       " '414(theta4)',\n",
       " '380(theta5)',\n",
       " '274(theta6)',\n",
       " '606(theta7)']"
      ]
     },
     "execution_count": 41,
     "metadata": {},
     "output_type": "execute_result"
    }
   ],
   "source": [
    "örnek_kullanıcı_listesi"
   ]
  },
  {
   "cell_type": "code",
   "execution_count": 42,
   "metadata": {
    "ExecuteTime": {
     "end_time": "2019-11-06T20:27:04.510980Z",
     "start_time": "2019-11-06T20:27:04.498945Z"
    },
    "slideshow": {
     "slide_type": "fragment"
    }
   },
   "outputs": [
    {
     "data": {
      "text/plain": [
       "['Apocalypse Now (1979)',\n",
       " 'Batman (1989)',\n",
       " 'Beverly Hills Cop (1984)',\n",
       " 'Big (1988)',\n",
       " 'Blade Runner (1982)']"
      ]
     },
     "execution_count": 42,
     "metadata": {},
     "output_type": "execute_result"
    }
   ],
   "source": [
    "örnek_film_listesi=örnek_veri.index.tolist();örnek_film_listesi[:5]"
   ]
  },
  {
   "cell_type": "code",
   "execution_count": 43,
   "metadata": {
    "ExecuteTime": {
     "end_time": "2019-11-06T20:27:04.531031Z",
     "start_time": "2019-11-06T20:27:04.512982Z"
    },
    "slideshow": {
     "slide_type": "slide"
    }
   },
   "outputs": [
    {
     "data": {
      "text/html": [
       "<div>\n",
       "<style scoped>\n",
       "    .dataframe tbody tr th:only-of-type {\n",
       "        vertical-align: middle;\n",
       "    }\n",
       "\n",
       "    .dataframe tbody tr th {\n",
       "        vertical-align: top;\n",
       "    }\n",
       "\n",
       "    .dataframe thead th {\n",
       "        text-align: right;\n",
       "    }\n",
       "</style>\n",
       "<table border=\"1\" class=\"dataframe\">\n",
       "  <thead>\n",
       "    <tr style=\"text-align: right;\">\n",
       "      <th></th>\n",
       "      <th>610(theta0)</th>\n",
       "      <th>448(theta1)</th>\n",
       "      <th>599(theta2)</th>\n",
       "      <th>474(theta3)</th>\n",
       "      <th>414(theta4)</th>\n",
       "      <th>380(theta5)</th>\n",
       "      <th>274(theta6)</th>\n",
       "      <th>606(theta7)</th>\n",
       "      <th>Yanlılık(x0)</th>\n",
       "      <th>Thriller(x1)</th>\n",
       "      <th>Comedy(x2)</th>\n",
       "      <th>Drama(x3)</th>\n",
       "      <th>Action(x4)</th>\n",
       "      <th>Romance(x5)</th>\n",
       "    </tr>\n",
       "    <tr>\n",
       "      <th>title</th>\n",
       "      <th></th>\n",
       "      <th></th>\n",
       "      <th></th>\n",
       "      <th></th>\n",
       "      <th></th>\n",
       "      <th></th>\n",
       "      <th></th>\n",
       "      <th></th>\n",
       "      <th></th>\n",
       "      <th></th>\n",
       "      <th></th>\n",
       "      <th></th>\n",
       "      <th></th>\n",
       "      <th></th>\n",
       "    </tr>\n",
       "  </thead>\n",
       "  <tbody>\n",
       "    <tr>\n",
       "      <td>Apocalypse Now (1979)</td>\n",
       "      <td>5.0</td>\n",
       "      <td>4.0</td>\n",
       "      <td>5.0</td>\n",
       "      <td>3.5</td>\n",
       "      <td>5.0</td>\n",
       "      <td>4.0</td>\n",
       "      <td>4.0</td>\n",
       "      <td>4.5</td>\n",
       "      <td>1</td>\n",
       "      <td>NaN</td>\n",
       "      <td>NaN</td>\n",
       "      <td>1.0</td>\n",
       "      <td>1.0</td>\n",
       "      <td>NaN</td>\n",
       "    </tr>\n",
       "    <tr>\n",
       "      <td>Batman (1989)</td>\n",
       "      <td>4.5</td>\n",
       "      <td>3.0</td>\n",
       "      <td>3.5</td>\n",
       "      <td>4.0</td>\n",
       "      <td>4.0</td>\n",
       "      <td>3.0</td>\n",
       "      <td>3.0</td>\n",
       "      <td>3.5</td>\n",
       "      <td>1</td>\n",
       "      <td>1.0</td>\n",
       "      <td>NaN</td>\n",
       "      <td>NaN</td>\n",
       "      <td>1.0</td>\n",
       "      <td>NaN</td>\n",
       "    </tr>\n",
       "    <tr>\n",
       "      <td>Beverly Hills Cop (1984)</td>\n",
       "      <td>NaN</td>\n",
       "      <td>5.0</td>\n",
       "      <td>3.5</td>\n",
       "      <td>2.0</td>\n",
       "      <td>4.0</td>\n",
       "      <td>4.0</td>\n",
       "      <td>4.0</td>\n",
       "      <td>2.5</td>\n",
       "      <td>1</td>\n",
       "      <td>NaN</td>\n",
       "      <td>1.0</td>\n",
       "      <td>1.0</td>\n",
       "      <td>1.0</td>\n",
       "      <td>NaN</td>\n",
       "    </tr>\n",
       "    <tr>\n",
       "      <td>Big (1988)</td>\n",
       "      <td>NaN</td>\n",
       "      <td>4.0</td>\n",
       "      <td>3.5</td>\n",
       "      <td>4.0</td>\n",
       "      <td>4.0</td>\n",
       "      <td>3.0</td>\n",
       "      <td>3.0</td>\n",
       "      <td>3.0</td>\n",
       "      <td>1</td>\n",
       "      <td>NaN</td>\n",
       "      <td>1.0</td>\n",
       "      <td>1.0</td>\n",
       "      <td>NaN</td>\n",
       "      <td>1.0</td>\n",
       "    </tr>\n",
       "    <tr>\n",
       "      <td>Blade Runner (1982)</td>\n",
       "      <td>5.0</td>\n",
       "      <td>4.0</td>\n",
       "      <td>4.5</td>\n",
       "      <td>3.0</td>\n",
       "      <td>5.0</td>\n",
       "      <td>5.0</td>\n",
       "      <td>2.5</td>\n",
       "      <td>5.0</td>\n",
       "      <td>1</td>\n",
       "      <td>1.0</td>\n",
       "      <td>NaN</td>\n",
       "      <td>NaN</td>\n",
       "      <td>1.0</td>\n",
       "      <td>NaN</td>\n",
       "    </tr>\n",
       "  </tbody>\n",
       "</table>\n",
       "</div>"
      ],
      "text/plain": [
       "                          610(theta0)  448(theta1)  599(theta2)  474(theta3)  \\\n",
       "title                                                                          \n",
       "Apocalypse Now (1979)             5.0          4.0          5.0          3.5   \n",
       "Batman (1989)                     4.5          3.0          3.5          4.0   \n",
       "Beverly Hills Cop (1984)          NaN          5.0          3.5          2.0   \n",
       "Big (1988)                        NaN          4.0          3.5          4.0   \n",
       "Blade Runner (1982)               5.0          4.0          4.5          3.0   \n",
       "\n",
       "                          414(theta4)  380(theta5)  274(theta6)  606(theta7)  \\\n",
       "title                                                                          \n",
       "Apocalypse Now (1979)             5.0          4.0          4.0          4.5   \n",
       "Batman (1989)                     4.0          3.0          3.0          3.5   \n",
       "Beverly Hills Cop (1984)          4.0          4.0          4.0          2.5   \n",
       "Big (1988)                        4.0          3.0          3.0          3.0   \n",
       "Blade Runner (1982)               5.0          5.0          2.5          5.0   \n",
       "\n",
       "                          Yanlılık(x0)  Thriller(x1)  Comedy(x2)  Drama(x3)  \\\n",
       "title                                                                         \n",
       "Apocalypse Now (1979)                1           NaN         NaN        1.0   \n",
       "Batman (1989)                        1           1.0         NaN        NaN   \n",
       "Beverly Hills Cop (1984)             1           NaN         1.0        1.0   \n",
       "Big (1988)                           1           NaN         1.0        1.0   \n",
       "Blade Runner (1982)                  1           1.0         NaN        NaN   \n",
       "\n",
       "                          Action(x4)  Romance(x5)  \n",
       "title                                              \n",
       "Apocalypse Now (1979)            1.0          NaN  \n",
       "Batman (1989)                    1.0          NaN  \n",
       "Beverly Hills Cop (1984)         1.0          NaN  \n",
       "Big (1988)                       NaN          1.0  \n",
       "Blade Runner (1982)              1.0          NaN  "
      ]
     },
     "execution_count": 43,
     "metadata": {},
     "output_type": "execute_result"
    }
   ],
   "source": [
    "örnek_veri.head()"
   ]
  },
  {
   "cell_type": "code",
   "execution_count": 44,
   "metadata": {
    "ExecuteTime": {
     "end_time": "2019-11-06T20:27:04.549582Z",
     "start_time": "2019-11-06T20:27:04.532033Z"
    },
    "slideshow": {
     "slide_type": "fragment"
    }
   },
   "outputs": [
    {
     "data": {
      "text/html": [
       "<div>\n",
       "<style scoped>\n",
       "    .dataframe tbody tr th:only-of-type {\n",
       "        vertical-align: middle;\n",
       "    }\n",
       "\n",
       "    .dataframe tbody tr th {\n",
       "        vertical-align: top;\n",
       "    }\n",
       "\n",
       "    .dataframe thead th {\n",
       "        text-align: right;\n",
       "    }\n",
       "</style>\n",
       "<table border=\"1\" class=\"dataframe\">\n",
       "  <thead>\n",
       "    <tr style=\"text-align: right;\">\n",
       "      <th></th>\n",
       "      <th>610(theta0)</th>\n",
       "      <th>448(theta1)</th>\n",
       "      <th>599(theta2)</th>\n",
       "      <th>474(theta3)</th>\n",
       "      <th>414(theta4)</th>\n",
       "      <th>380(theta5)</th>\n",
       "      <th>274(theta6)</th>\n",
       "      <th>606(theta7)</th>\n",
       "    </tr>\n",
       "    <tr>\n",
       "      <th>title</th>\n",
       "      <th></th>\n",
       "      <th></th>\n",
       "      <th></th>\n",
       "      <th></th>\n",
       "      <th></th>\n",
       "      <th></th>\n",
       "      <th></th>\n",
       "      <th></th>\n",
       "    </tr>\n",
       "  </thead>\n",
       "  <tbody>\n",
       "    <tr>\n",
       "      <td>Apocalypse Now (1979)</td>\n",
       "      <td>5.0</td>\n",
       "      <td>4.0</td>\n",
       "      <td>5.0</td>\n",
       "      <td>3.5</td>\n",
       "      <td>5.0</td>\n",
       "      <td>4.0</td>\n",
       "      <td>4.0</td>\n",
       "      <td>4.5</td>\n",
       "    </tr>\n",
       "    <tr>\n",
       "      <td>Batman (1989)</td>\n",
       "      <td>4.5</td>\n",
       "      <td>3.0</td>\n",
       "      <td>3.5</td>\n",
       "      <td>4.0</td>\n",
       "      <td>4.0</td>\n",
       "      <td>3.0</td>\n",
       "      <td>3.0</td>\n",
       "      <td>3.5</td>\n",
       "    </tr>\n",
       "  </tbody>\n",
       "</table>\n",
       "</div>"
      ],
      "text/plain": [
       "                       610(theta0)  448(theta1)  599(theta2)  474(theta3)  \\\n",
       "title                                                                       \n",
       "Apocalypse Now (1979)          5.0          4.0          5.0          3.5   \n",
       "Batman (1989)                  4.5          3.0          3.5          4.0   \n",
       "\n",
       "                       414(theta4)  380(theta5)  274(theta6)  606(theta7)  \n",
       "title                                                                      \n",
       "Apocalypse Now (1979)          5.0          4.0          4.0          4.5  \n",
       "Batman (1989)                  4.0          3.0          3.0          3.5  "
      ]
     },
     "execution_count": 44,
     "metadata": {},
     "output_type": "execute_result"
    }
   ],
   "source": [
    "y=örnek_veri[örnek_kullanıcı_listesi];y.head(2)"
   ]
  },
  {
   "cell_type": "code",
   "execution_count": 45,
   "metadata": {
    "ExecuteTime": {
     "end_time": "2019-11-06T20:27:04.564123Z",
     "start_time": "2019-11-06T20:27:04.550586Z"
    },
    "slideshow": {
     "slide_type": "fragment"
    }
   },
   "outputs": [
    {
     "data": {
      "text/html": [
       "<div>\n",
       "<style scoped>\n",
       "    .dataframe tbody tr th:only-of-type {\n",
       "        vertical-align: middle;\n",
       "    }\n",
       "\n",
       "    .dataframe tbody tr th {\n",
       "        vertical-align: top;\n",
       "    }\n",
       "\n",
       "    .dataframe thead th {\n",
       "        text-align: right;\n",
       "    }\n",
       "</style>\n",
       "<table border=\"1\" class=\"dataframe\">\n",
       "  <thead>\n",
       "    <tr style=\"text-align: right;\">\n",
       "      <th></th>\n",
       "      <th>Yanlılık(x0)</th>\n",
       "      <th>Thriller(x1)</th>\n",
       "      <th>Comedy(x2)</th>\n",
       "      <th>Drama(x3)</th>\n",
       "      <th>Action(x4)</th>\n",
       "      <th>Romance(x5)</th>\n",
       "    </tr>\n",
       "    <tr>\n",
       "      <th>title</th>\n",
       "      <th></th>\n",
       "      <th></th>\n",
       "      <th></th>\n",
       "      <th></th>\n",
       "      <th></th>\n",
       "      <th></th>\n",
       "    </tr>\n",
       "  </thead>\n",
       "  <tbody>\n",
       "    <tr>\n",
       "      <td>Apocalypse Now (1979)</td>\n",
       "      <td>1</td>\n",
       "      <td>NaN</td>\n",
       "      <td>NaN</td>\n",
       "      <td>1.0</td>\n",
       "      <td>1.0</td>\n",
       "      <td>NaN</td>\n",
       "    </tr>\n",
       "    <tr>\n",
       "      <td>Batman (1989)</td>\n",
       "      <td>1</td>\n",
       "      <td>1.0</td>\n",
       "      <td>NaN</td>\n",
       "      <td>NaN</td>\n",
       "      <td>1.0</td>\n",
       "      <td>NaN</td>\n",
       "    </tr>\n",
       "  </tbody>\n",
       "</table>\n",
       "</div>"
      ],
      "text/plain": [
       "                       Yanlılık(x0)  Thriller(x1)  Comedy(x2)  Drama(x3)  \\\n",
       "title                                                                      \n",
       "Apocalypse Now (1979)             1           NaN         NaN        1.0   \n",
       "Batman (1989)                     1           1.0         NaN        NaN   \n",
       "\n",
       "                       Action(x4)  Romance(x5)  \n",
       "title                                           \n",
       "Apocalypse Now (1979)         1.0          NaN  \n",
       "Batman (1989)                 1.0          NaN  "
      ]
     },
     "execution_count": 45,
     "metadata": {},
     "output_type": "execute_result"
    }
   ],
   "source": [
    "x=örnek_veri[örnek_nitelik_listesi];x.head(2)"
   ]
  },
  {
   "cell_type": "code",
   "execution_count": 46,
   "metadata": {
    "ExecuteTime": {
     "end_time": "2019-11-06T20:27:04.574149Z",
     "start_time": "2019-11-06T20:27:04.565125Z"
    },
    "slideshow": {
     "slide_type": "slide"
    }
   },
   "outputs": [],
   "source": [
    "def normal(y):\n",
    "    ynormal=y.copy()\n",
    "    yort=np.array(y.mean(axis=1,skipna=True))\n",
    "    for i in y.columns:\n",
    "        ynormal[i]=y[i]-yort    \n",
    "    return ynormal,yort"
   ]
  },
  {
   "cell_type": "code",
   "execution_count": 47,
   "metadata": {
    "ExecuteTime": {
     "end_time": "2019-11-06T20:27:04.597211Z",
     "start_time": "2019-11-06T20:27:04.575152Z"
    },
    "slideshow": {
     "slide_type": "slide"
    }
   },
   "outputs": [
    {
     "data": {
      "text/html": [
       "<div>\n",
       "<style scoped>\n",
       "    .dataframe tbody tr th:only-of-type {\n",
       "        vertical-align: middle;\n",
       "    }\n",
       "\n",
       "    .dataframe tbody tr th {\n",
       "        vertical-align: top;\n",
       "    }\n",
       "\n",
       "    .dataframe thead th {\n",
       "        text-align: right;\n",
       "    }\n",
       "</style>\n",
       "<table border=\"1\" class=\"dataframe\">\n",
       "  <thead>\n",
       "    <tr style=\"text-align: right;\">\n",
       "      <th></th>\n",
       "      <th>Yanlılık(x0)</th>\n",
       "      <th>Thriller(x1)</th>\n",
       "      <th>Comedy(x2)</th>\n",
       "      <th>Drama(x3)</th>\n",
       "      <th>Action(x4)</th>\n",
       "      <th>Romance(x5)</th>\n",
       "    </tr>\n",
       "    <tr>\n",
       "      <th>title</th>\n",
       "      <th></th>\n",
       "      <th></th>\n",
       "      <th></th>\n",
       "      <th></th>\n",
       "      <th></th>\n",
       "      <th></th>\n",
       "    </tr>\n",
       "  </thead>\n",
       "  <tbody>\n",
       "    <tr>\n",
       "      <td>Apocalypse Now (1979)</td>\n",
       "      <td>1.0</td>\n",
       "      <td>1.681713</td>\n",
       "      <td>1.093315</td>\n",
       "      <td>1.000000</td>\n",
       "      <td>1.000000</td>\n",
       "      <td>1.694306</td>\n",
       "    </tr>\n",
       "    <tr>\n",
       "      <td>Batman (1989)</td>\n",
       "      <td>1.0</td>\n",
       "      <td>1.000000</td>\n",
       "      <td>1.505116</td>\n",
       "      <td>1.429730</td>\n",
       "      <td>1.000000</td>\n",
       "      <td>1.105238</td>\n",
       "    </tr>\n",
       "    <tr>\n",
       "      <td>Beverly Hills Cop (1984)</td>\n",
       "      <td>1.0</td>\n",
       "      <td>1.175035</td>\n",
       "      <td>1.000000</td>\n",
       "      <td>1.000000</td>\n",
       "      <td>1.000000</td>\n",
       "      <td>1.370992</td>\n",
       "    </tr>\n",
       "    <tr>\n",
       "      <td>Big (1988)</td>\n",
       "      <td>1.0</td>\n",
       "      <td>1.463401</td>\n",
       "      <td>1.000000</td>\n",
       "      <td>1.000000</td>\n",
       "      <td>1.180712</td>\n",
       "      <td>1.000000</td>\n",
       "    </tr>\n",
       "    <tr>\n",
       "      <td>Blade Runner (1982)</td>\n",
       "      <td>1.0</td>\n",
       "      <td>1.000000</td>\n",
       "      <td>1.517863</td>\n",
       "      <td>1.485885</td>\n",
       "      <td>1.000000</td>\n",
       "      <td>1.612881</td>\n",
       "    </tr>\n",
       "  </tbody>\n",
       "</table>\n",
       "</div>"
      ],
      "text/plain": [
       "                          Yanlılık(x0)  Thriller(x1)  Comedy(x2)  Drama(x3)  \\\n",
       "title                                                                         \n",
       "Apocalypse Now (1979)              1.0      1.681713    1.093315   1.000000   \n",
       "Batman (1989)                      1.0      1.000000    1.505116   1.429730   \n",
       "Beverly Hills Cop (1984)           1.0      1.175035    1.000000   1.000000   \n",
       "Big (1988)                         1.0      1.463401    1.000000   1.000000   \n",
       "Blade Runner (1982)                1.0      1.000000    1.517863   1.485885   \n",
       "\n",
       "                          Action(x4)  Romance(x5)  \n",
       "title                                              \n",
       "Apocalypse Now (1979)       1.000000     1.694306  \n",
       "Batman (1989)               1.000000     1.105238  \n",
       "Beverly Hills Cop (1984)    1.000000     1.370992  \n",
       "Big (1988)                  1.180712     1.000000  \n",
       "Blade Runner (1982)         1.000000     1.612881  "
      ]
     },
     "execution_count": 47,
     "metadata": {},
     "output_type": "execute_result"
    }
   ],
   "source": [
    "from random import seed\n",
    "from random import random\n",
    "x=örnek_veri[örnek_nitelik_listesi];indeks_x=x.index; \n",
    "seed(23)\n",
    "xr=pd.DataFrame( np.random.random((x.shape[0], x.shape[1])))\n",
    "x_veri=np.array(((np.array((np.isnan(x))*1)*xr)+1))\n",
    "x=pd.DataFrame(x_veri,index=indeks_x,columns=örnek_nitelik_listesi)\n",
    "x.head(5)"
   ]
  },
  {
   "cell_type": "code",
   "execution_count": 48,
   "metadata": {
    "ExecuteTime": {
     "end_time": "2019-11-06T20:27:04.608252Z",
     "start_time": "2019-11-06T20:27:04.598213Z"
    },
    "slideshow": {
     "slide_type": "fragment"
    }
   },
   "outputs": [
    {
     "data": {
      "text/html": [
       "<div>\n",
       "<style scoped>\n",
       "    .dataframe tbody tr th:only-of-type {\n",
       "        vertical-align: middle;\n",
       "    }\n",
       "\n",
       "    .dataframe tbody tr th {\n",
       "        vertical-align: top;\n",
       "    }\n",
       "\n",
       "    .dataframe thead th {\n",
       "        text-align: right;\n",
       "    }\n",
       "</style>\n",
       "<table border=\"1\" class=\"dataframe\">\n",
       "  <thead>\n",
       "    <tr style=\"text-align: right;\">\n",
       "      <th></th>\n",
       "      <th>610(theta0)</th>\n",
       "      <th>448(theta1)</th>\n",
       "      <th>599(theta2)</th>\n",
       "      <th>474(theta3)</th>\n",
       "      <th>414(theta4)</th>\n",
       "      <th>380(theta5)</th>\n",
       "      <th>274(theta6)</th>\n",
       "      <th>606(theta7)</th>\n",
       "    </tr>\n",
       "  </thead>\n",
       "  <tbody>\n",
       "    <tr>\n",
       "      <td>Yanlılık(x0)</td>\n",
       "      <td>0.025998</td>\n",
       "      <td>0.726296</td>\n",
       "      <td>0.432509</td>\n",
       "      <td>0.769487</td>\n",
       "      <td>0.525178</td>\n",
       "      <td>0.533492</td>\n",
       "      <td>0.075324</td>\n",
       "      <td>0.870970</td>\n",
       "    </tr>\n",
       "    <tr>\n",
       "      <td>Thriller(x1)</td>\n",
       "      <td>0.275521</td>\n",
       "      <td>0.222300</td>\n",
       "      <td>0.377588</td>\n",
       "      <td>0.068684</td>\n",
       "      <td>0.287197</td>\n",
       "      <td>0.142902</td>\n",
       "      <td>0.607579</td>\n",
       "      <td>0.440379</td>\n",
       "    </tr>\n",
       "    <tr>\n",
       "      <td>Comedy(x2)</td>\n",
       "      <td>0.743230</td>\n",
       "      <td>0.100741</td>\n",
       "      <td>0.275968</td>\n",
       "      <td>0.706631</td>\n",
       "      <td>0.393330</td>\n",
       "      <td>0.083925</td>\n",
       "      <td>0.001394</td>\n",
       "      <td>0.709618</td>\n",
       "    </tr>\n",
       "    <tr>\n",
       "      <td>Drama(x3)</td>\n",
       "      <td>0.601073</td>\n",
       "      <td>0.230570</td>\n",
       "      <td>0.050005</td>\n",
       "      <td>0.736538</td>\n",
       "      <td>0.363863</td>\n",
       "      <td>0.332068</td>\n",
       "      <td>0.794163</td>\n",
       "      <td>0.080634</td>\n",
       "    </tr>\n",
       "    <tr>\n",
       "      <td>Action(x4)</td>\n",
       "      <td>0.050750</td>\n",
       "      <td>0.049623</td>\n",
       "      <td>0.933367</td>\n",
       "      <td>0.011157</td>\n",
       "      <td>0.769631</td>\n",
       "      <td>0.690714</td>\n",
       "      <td>0.735637</td>\n",
       "      <td>0.710220</td>\n",
       "    </tr>\n",
       "  </tbody>\n",
       "</table>\n",
       "</div>"
      ],
      "text/plain": [
       "              610(theta0)  448(theta1)  599(theta2)  474(theta3)  414(theta4)  \\\n",
       "Yanlılık(x0)     0.025998     0.726296     0.432509     0.769487     0.525178   \n",
       "Thriller(x1)     0.275521     0.222300     0.377588     0.068684     0.287197   \n",
       "Comedy(x2)       0.743230     0.100741     0.275968     0.706631     0.393330   \n",
       "Drama(x3)        0.601073     0.230570     0.050005     0.736538     0.363863   \n",
       "Action(x4)       0.050750     0.049623     0.933367     0.011157     0.769631   \n",
       "\n",
       "              380(theta5)  274(theta6)  606(theta7)  \n",
       "Yanlılık(x0)     0.533492     0.075324     0.870970  \n",
       "Thriller(x1)     0.142902     0.607579     0.440379  \n",
       "Comedy(x2)       0.083925     0.001394     0.709618  \n",
       "Drama(x3)        0.332068     0.794163     0.080634  \n",
       "Action(x4)       0.690714     0.735637     0.710220  "
      ]
     },
     "execution_count": 48,
     "metadata": {},
     "output_type": "execute_result"
    }
   ],
   "source": [
    "theta_=pd.DataFrame( np.random.random((len(x.columns), len(y.columns))),index=x.columns,columns=y.columns);theta_.head()"
   ]
  },
  {
   "cell_type": "code",
   "execution_count": 49,
   "metadata": {
    "ExecuteTime": {
     "end_time": "2019-11-06T20:27:04.616262Z",
     "start_time": "2019-11-06T20:27:04.609243Z"
    },
    "slideshow": {
     "slide_type": "slide"
    }
   },
   "outputs": [],
   "source": [
    "def bedel(param,y_norm,n,lambda_):\n",
    "    nm=y.shape[0]\n",
    "    nu=y.shape[1]\n",
    "    r=-np.isnan(y)*1\n",
    "    X=param[:nm*n].reshape(nm,n) \n",
    "    theta_=param[nm*n:].reshape(n,nu)\n",
    "    J= (1/2)*np.sum(np.sum(np.multiply(r,((np.dot(X,theta_)-y))**2)))+(lambda_/2)*np.sum(np.sum(np.multiply(X,X)))+(lambda_/2)*np.sum(np.sum(np.multiply(theta_,theta_)))\n",
    "    return J "
   ]
  },
  {
   "cell_type": "code",
   "execution_count": 50,
   "metadata": {
    "ExecuteTime": {
     "end_time": "2019-11-06T20:27:04.625286Z",
     "start_time": "2019-11-06T20:27:04.617264Z"
    },
    "slideshow": {
     "slide_type": "fragment"
    }
   },
   "outputs": [],
   "source": [
    "param=np.array(np.concatenate(x.values).tolist()+np.concatenate(theta_.values).tolist())"
   ]
  },
  {
   "cell_type": "code",
   "execution_count": 51,
   "metadata": {
    "ExecuteTime": {
     "end_time": "2019-11-06T20:27:04.638319Z",
     "start_time": "2019-11-06T20:27:04.626288Z"
    },
    "slideshow": {
     "slide_type": "fragment"
    }
   },
   "outputs": [],
   "source": [
    "n=x.shape[1] # nitelik adedi\n",
    "r=-np.isnan(y)*1 # puanlı liste\n",
    "m=r.sum(axis=0) # her bir kullanıcının puanladığı film adedi\n",
    "lambda_=0.1 # düzenlileştirme katsayısı"
   ]
  },
  {
   "cell_type": "code",
   "execution_count": 52,
   "metadata": {
    "ExecuteTime": {
     "end_time": "2019-11-06T20:27:04.651356Z",
     "start_time": "2019-11-06T20:27:04.639323Z"
    },
    "slideshow": {
     "slide_type": "fragment"
    }
   },
   "outputs": [],
   "source": [
    "y_norm,y_ort=normal(y)"
   ]
  },
  {
   "cell_type": "code",
   "execution_count": 53,
   "metadata": {
    "ExecuteTime": {
     "end_time": "2019-11-06T20:27:04.674955Z",
     "start_time": "2019-11-06T20:27:04.652860Z"
    },
    "slideshow": {
     "slide_type": "fragment"
    }
   },
   "outputs": [
    {
     "data": {
      "text/plain": [
       "314.96721517303433"
      ]
     },
     "execution_count": 53,
     "metadata": {},
     "output_type": "execute_result"
    }
   ],
   "source": [
    "bedel(param,y_norm,n,lambda_)"
   ]
  },
  {
   "cell_type": "code",
   "execution_count": 54,
   "metadata": {
    "ExecuteTime": {
     "end_time": "2019-11-06T20:27:04.685984Z",
     "start_time": "2019-11-06T20:27:04.675959Z"
    },
    "slideshow": {
     "slide_type": "slide"
    }
   },
   "outputs": [],
   "source": [
    "def derece(param,y_norm,n,lambda_):\n",
    "    \n",
    "    nm=y.shape[0]\n",
    "    \n",
    "    nu=y.shape[1]\n",
    "    \n",
    "    r=-np.isnan(y_norm)*1\n",
    "    \n",
    "    y_norm=y_norm.fillna(0)\n",
    "    \n",
    "    X=param[:nm*n].reshape(nm,n) \n",
    "\n",
    "    theta_=param[nm*n:].reshape(n,nu)\n",
    "    \n",
    "    X_derece =  np.dot(np.multiply(r,((np.dot(X,theta_)-y_norm))) ,theta_.T)+  lambda_*X\n",
    "    \n",
    "    theta_derece =  np.dot(X.T, np.multiply(r,((np.dot(X,theta_)-y_norm))))+  lambda_*theta_\n",
    "    \n",
    "    derece_=np.array(np.concatenate(X_derece).tolist()+np.concatenate(theta_derece).tolist())\n",
    "    \n",
    "    return derece_"
   ]
  },
  {
   "cell_type": "code",
   "execution_count": 55,
   "metadata": {
    "ExecuteTime": {
     "end_time": "2019-11-06T20:28:48.230591Z",
     "start_time": "2019-11-06T20:27:04.687989Z"
    },
    "scrolled": true,
    "slideshow": {
     "slide_type": "slide"
    }
   },
   "outputs": [
    {
     "name": "stdout",
     "output_type": "stream",
     "text": [
      "Bedelin ilk 10 tekrardaki değişimi [309.9313263904762, 309.93136074594094, 309.9313951020342, 309.9314294587558, 309.9314638161059, 309.9314981740846, 309.93153253269156, 309.931566891927, 309.9316012517909, 309.9316356122833]\n"
     ]
    }
   ],
   "source": [
    "# Öğrenme Hızını Biraz Büyük Seciyoruz a = np.power(1/10,3)\n",
    "\n",
    "\n",
    "x=örnek_veri[örnek_nitelik_listesi];indeks_x=x.index; \n",
    "seed(23)\n",
    "xr=pd.DataFrame( np.random.random((x.shape[0], x.shape[1])))\n",
    "x_veri=np.array(((np.array((np.isnan(x))*1)*xr)+1))\n",
    "x=pd.DataFrame(x_veri,index=indeks_x,columns=örnek_nitelik_listesi)\n",
    "theta_=pd.DataFrame( np.random.random((len(x.columns), len(y.columns))),index=x.columns,columns=y.columns)\n",
    "param=np.array(np.concatenate(x.values).tolist()+np.concatenate(theta_.values).tolist())\n",
    "\n",
    "n=x.shape[1] # nitelik adedi\n",
    "r=-np.isnan(y)*1 # puanlı liste\n",
    "m=r.sum(axis=0) # her bir kullanıcının puanladığı film adedi\n",
    "lambda_=0.1 # düzenlileştirme katsayısı\n",
    "\n",
    "a=np.power(1/10,9)\n",
    "J_history=[]\n",
    "TS=10000\n",
    "\n",
    "for s in range(TS):\n",
    "    param=param-a*derece(param,y_norm,n,lambda_)\n",
    "    J_history.append(bedel(param,y_norm,n,lambda_))\n",
    "\n",
    "print(\"Bedelin ilk 10 tekrardaki değişimi\", J_history[:10])\n",
    "bedel_df=pd.DataFrame(columns=[\"Bedel\"])\n",
    "bedel_df[\"Bedel\"]=J_history;bedel_df.reset_index(inplace=True)"
   ]
  },
  {
   "cell_type": "code",
   "execution_count": 56,
   "metadata": {
    "ExecuteTime": {
     "end_time": "2019-11-06T20:28:48.631912Z",
     "start_time": "2019-11-06T20:28:48.231571Z"
    },
    "slideshow": {
     "slide_type": "skip"
    }
   },
   "outputs": [],
   "source": [
    "import matplotlib\n",
    "import matplotlib.pyplot as plt\n",
    "%matplotlib inline"
   ]
  },
  {
   "cell_type": "code",
   "execution_count": 57,
   "metadata": {
    "ExecuteTime": {
     "end_time": "2019-11-06T20:28:49.048520Z",
     "start_time": "2019-11-06T20:28:48.634920Z"
    },
    "slideshow": {
     "slide_type": "slide"
    }
   },
   "outputs": [
    {
     "data": {
      "image/png": "[encoded data removed]",
      "text/plain": [
       "<Figure size 576x576 with 1 Axes>"
      ]
     },
     "metadata": {
      "needs_background": "light"
     },
     "output_type": "display_data"
    }
   ],
   "source": [
    "plt.figure(figsize=(8,8))\n",
    "title=\"Bedelin Tekrar Sayısına Göre Değişimi, Öğrenme Hızı=\"+str(a)\n",
    "plt.title(title,fontsize=\"20\")\n",
    "plt.ylabel(\"$Bedel(J) $\",fontsize=15)\n",
    "plt.xlabel(\" Tekrar Sayısı (TS)\",fontsize=15)\n",
    "plt.plot(bedel_df[\"index\"],bedel_df[\"Bedel\"], 'k-',linewidth=1,markersize=18)\n",
    "plt.show()"
   ]
  },
  {
   "cell_type": "code",
   "execution_count": 58,
   "metadata": {
    "ExecuteTime": {
     "end_time": "2019-11-06T20:28:50.253155Z",
     "start_time": "2019-11-06T20:28:49.050024Z"
    },
    "slideshow": {
     "slide_type": "skip"
    }
   },
   "outputs": [
    {
     "data": {
      "text/plain": [
       "306.39342957210494"
      ]
     },
     "execution_count": 58,
     "metadata": {},
     "output_type": "execute_result"
    }
   ],
   "source": [
    "from scipy import optimize\n",
    "x=örnek_veri[örnek_nitelik_listesi];indeks_x=x.index; \n",
    "seed(23)\n",
    "xr=pd.DataFrame( np.random.random((x.shape[0], x.shape[1])))\n",
    "x_veri=np.array(((np.array((np.isnan(x))*1)*xr)+1))\n",
    "x=pd.DataFrame(x_veri,index=indeks_x,columns=örnek_nitelik_listesi)\n",
    "theta_=pd.DataFrame( np.random.random((len(x.columns), len(y.columns))),index=x.columns,columns=y.columns)\n",
    "param=np.array(np.concatenate(x.values).tolist()+np.concatenate(theta_.values).tolist())\n",
    "bedel(param,y_norm,n,lambda_)"
   ]
  },
  {
   "cell_type": "code",
   "execution_count": 59,
   "metadata": {
    "ExecuteTime": {
     "end_time": "2019-11-06T20:28:50.258168Z",
     "start_time": "2019-11-06T20:28:50.255160Z"
    },
    "slideshow": {
     "slide_type": "slide"
    }
   },
   "outputs": [],
   "source": [
    "opts = {'maxiter' : 5000,    # default value.\n",
    "         'disp' : True,    # non-default value.\n",
    "          'gtol' : 1e-5,    # default value.\n",
    "         'norm' : np.inf,  # default value.\n",
    "          'eps' : 1.4901161193847656e-08}"
   ]
  },
  {
   "cell_type": "code",
   "execution_count": 60,
   "metadata": {
    "ExecuteTime": {
     "end_time": "2019-11-06T20:29:23.609699Z",
     "start_time": "2019-11-06T20:28:50.259170Z"
    },
    "slideshow": {
     "slide_type": "fragment"
    }
   },
   "outputs": [
    {
     "name": "stderr",
     "output_type": "stream",
     "text": [
      "C:\\Users\\onur.bilgic\\AppData\\Local\\Continuum\\anaconda3\\lib\\site-packages\\scipy\\optimize\\_minimize.py:500: RuntimeWarning: Method Nelder-Mead does not use gradient information (jac).\n",
      "  RuntimeWarning)\n",
      "C:\\Users\\onur.bilgic\\AppData\\Local\\Continuum\\anaconda3\\lib\\site-packages\\ipykernel_launcher.py:1: OptimizeWarning: Unknown solver options: gtol, norm, eps\n",
      "  \"\"\"Entry point for launching an IPython kernel.\n"
     ]
    },
    {
     "name": "stdout",
     "output_type": "stream",
     "text": [
      "Warning: Maximum number of iterations has been exceeded.\n"
     ]
    }
   ],
   "source": [
    "res1 = optimize.minimize(bedel,x0=param,jac=derece,args=(y_norm,n,lambda_), method='Nelder-Mead', options=opts)"
   ]
  },
  {
   "cell_type": "code",
   "execution_count": 61,
   "metadata": {
    "ExecuteTime": {
     "end_time": "2019-11-06T20:29:23.615739Z",
     "start_time": "2019-11-06T20:29:23.611175Z"
    },
    "slideshow": {
     "slide_type": "skip"
    }
   },
   "outputs": [
    {
     "data": {
      "text/plain": [
       "275.98666651475327"
      ]
     },
     "execution_count": 61,
     "metadata": {},
     "output_type": "execute_result"
    }
   ],
   "source": [
    "res1.fun"
   ]
  },
  {
   "cell_type": "code",
   "execution_count": 62,
   "metadata": {
    "ExecuteTime": {
     "end_time": "2019-11-06T20:29:23.635239Z",
     "start_time": "2019-11-06T20:29:23.617191Z"
    },
    "scrolled": true,
    "slideshow": {
     "slide_type": "fragment"
    }
   },
   "outputs": [
    {
     "data": {
      "text/plain": [
       "275.98666651475327"
      ]
     },
     "execution_count": 62,
     "metadata": {},
     "output_type": "execute_result"
    }
   ],
   "source": [
    "bedel(res1.x,y_norm,n,lambda_)"
   ]
  },
  {
   "cell_type": "code",
   "execution_count": 63,
   "metadata": {
    "ExecuteTime": {
     "end_time": "2019-11-06T20:29:23.668829Z",
     "start_time": "2019-11-06T20:29:23.638246Z"
    },
    "slideshow": {
     "slide_type": "slide"
    }
   },
   "outputs": [
    {
     "data": {
      "text/html": [
       "<div>\n",
       "<style scoped>\n",
       "    .dataframe tbody tr th:only-of-type {\n",
       "        vertical-align: middle;\n",
       "    }\n",
       "\n",
       "    .dataframe tbody tr th {\n",
       "        vertical-align: top;\n",
       "    }\n",
       "\n",
       "    .dataframe thead th {\n",
       "        text-align: right;\n",
       "    }\n",
       "</style>\n",
       "<table border=\"1\" class=\"dataframe\">\n",
       "  <thead>\n",
       "    <tr style=\"text-align: right;\">\n",
       "      <th></th>\n",
       "      <th>610(theta0)</th>\n",
       "      <th>448(theta1)</th>\n",
       "      <th>599(theta2)</th>\n",
       "      <th>474(theta3)</th>\n",
       "      <th>414(theta4)</th>\n",
       "      <th>380(theta5)</th>\n",
       "      <th>274(theta6)</th>\n",
       "      <th>606(theta7)</th>\n",
       "    </tr>\n",
       "    <tr>\n",
       "      <th>title</th>\n",
       "      <th></th>\n",
       "      <th></th>\n",
       "      <th></th>\n",
       "      <th></th>\n",
       "      <th></th>\n",
       "      <th></th>\n",
       "      <th></th>\n",
       "      <th></th>\n",
       "    </tr>\n",
       "  </thead>\n",
       "  <tbody>\n",
       "    <tr>\n",
       "      <td>Apocalypse Now (1979)</td>\n",
       "      <td>7.065834</td>\n",
       "      <td>6.693246</td>\n",
       "      <td>7.801963</td>\n",
       "      <td>6.659191</td>\n",
       "      <td>6.867403</td>\n",
       "      <td>8.425863</td>\n",
       "      <td>7.740939</td>\n",
       "      <td>7.862039</td>\n",
       "    </tr>\n",
       "    <tr>\n",
       "      <td>Batman (1989)</td>\n",
       "      <td>6.612264</td>\n",
       "      <td>6.183565</td>\n",
       "      <td>7.312222</td>\n",
       "      <td>6.076483</td>\n",
       "      <td>6.215120</td>\n",
       "      <td>8.150290</td>\n",
       "      <td>7.207626</td>\n",
       "      <td>7.153452</td>\n",
       "    </tr>\n",
       "    <tr>\n",
       "      <td>Beverly Hills Cop (1984)</td>\n",
       "      <td>6.461247</td>\n",
       "      <td>6.069299</td>\n",
       "      <td>7.565611</td>\n",
       "      <td>5.921101</td>\n",
       "      <td>6.268979</td>\n",
       "      <td>7.597696</td>\n",
       "      <td>6.650522</td>\n",
       "      <td>7.507279</td>\n",
       "    </tr>\n",
       "  </tbody>\n",
       "</table>\n",
       "</div>"
      ],
      "text/plain": [
       "                          610(theta0)  448(theta1)  599(theta2)  474(theta3)  \\\n",
       "title                                                                          \n",
       "Apocalypse Now (1979)        7.065834     6.693246     7.801963     6.659191   \n",
       "Batman (1989)                6.612264     6.183565     7.312222     6.076483   \n",
       "Beverly Hills Cop (1984)     6.461247     6.069299     7.565611     5.921101   \n",
       "\n",
       "                          414(theta4)  380(theta5)  274(theta6)  606(theta7)  \n",
       "title                                                                         \n",
       "Apocalypse Now (1979)        6.867403     8.425863     7.740939     7.862039  \n",
       "Batman (1989)                6.215120     8.150290     7.207626     7.153452  \n",
       "Beverly Hills Cop (1984)     6.268979     7.597696     6.650522     7.507279  "
      ]
     },
     "execution_count": 63,
     "metadata": {},
     "output_type": "execute_result"
    }
   ],
   "source": [
    "nm=y.shape[0]\n",
    "\n",
    "nu=y.shape[1]\n",
    "\n",
    "r=-np.isnan(y_norm)*1\n",
    "\n",
    "y_norm=y_norm.fillna(0)\n",
    "\n",
    "X_n=res1.x[:nm*n].reshape(nm,n) \n",
    "\n",
    "theta_n=res1.x[nm*n:].reshape(n,nu)\n",
    "h=pd.DataFrame(np.dot(X_n,theta_n),index=y.index,columns=y.columns.tolist())\n",
    "for i in h.columns:\n",
    "    h[i]=h[i]+y_ort\n",
    "    \n",
    "h.head(3)"
   ]
  }
 ],
 "metadata": {
  "celltoolbar": "Slideshow",
  "kernelspec": {
   "display_name": "Python 3",
   "language": "python",
   "name": "python3"
  },
  "language_info": {
   "codemirror_mode": {
    "name": "ipython",
    "version": 3
   },
   "file_extension": ".py",
   "mimetype": "text/x-python",
   "name": "python",
   "nbconvert_exporter": "python",
   "pygments_lexer": "ipython3",
   "version": "3.7.4"
  },
  "latex_envs": {
   "LaTeX_envs_menu_present": true,
   "autoclose": false,
   "autocomplete": true,
   "bibliofile": "biblio.bib",
   "cite_by": "apalike",
   "current_citInitial": 1,
   "eqLabelWithNumbers": true,
   "eqNumInitial": 1,
   "hotkeys": {
    "equation": "Ctrl-E",
    "itemize": "Ctrl-I"
   },
   "labels_anchors": false,
   "latex_user_defs": false,
   "report_style_numbering": false,
   "user_envs_cfg": false
  },
  "toc": {
   "base_numbering": 1,
   "nav_menu": {},
   "number_sections": true,
   "sideBar": true,
   "skip_h1_title": false,
   "title_cell": "Table of Contents",
   "title_sidebar": "Contents",
   "toc_cell": false,
   "toc_position": {},
   "toc_section_display": true,
   "toc_window_display": false
  },
  "varInspector": {
   "cols": {
    "lenName": 16,
    "lenType": 16,
    "lenVar": 40
   },
   "kernels_config": {
    "python": {
     "delete_cmd_postfix": "",
     "delete_cmd_prefix": "del ",
     "library": "var_list.py",
     "varRefreshCmd": "print(var_dic_list())"
    },
    "r": {
     "delete_cmd_postfix": ") ",
     "delete_cmd_prefix": "rm(",
     "library": "var_list.r",
     "varRefreshCmd": "cat(var_dic_list()) "
    }
   },
   "types_to_exclude": [
    "module",
    "function",
    "builtin_function_or_method",
    "instance",
    "_Feature"
   ],
   "window_display": false
  }
 },
 "nbformat": 4,
 "nbformat_minor": 2
}
